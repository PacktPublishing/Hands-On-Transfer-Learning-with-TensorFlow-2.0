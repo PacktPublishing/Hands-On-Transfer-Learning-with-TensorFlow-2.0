{
  "nbformat": 4,
  "nbformat_minor": 0,
  "metadata": {
    "colab": {
      "name": "Chapter 3 (Transfer Learning)",
      "provenance": [],
      "collapsed_sections": [],
      "machine_shape": "hm"
    },
    "kernelspec": {
      "name": "python3",
      "display_name": "Python 3"
    },
    "accelerator": "GPU",
    "widgets": {
      "application/vnd.jupyter.widget-state+json": {
        "e5377bf54f0a4c9bb48757778630e0c0": {
          "model_module": "@jupyter-widgets/controls",
          "model_name": "HBoxModel",
          "state": {
            "_view_name": "HBoxView",
            "_dom_classes": [],
            "_model_name": "HBoxModel",
            "_view_module": "@jupyter-widgets/controls",
            "_model_module_version": "1.5.0",
            "_view_count": null,
            "_view_module_version": "1.5.0",
            "box_style": "",
            "layout": "IPY_MODEL_cb745b4f1d844b97b54190ad22a1dad8",
            "_model_module": "@jupyter-widgets/controls",
            "children": [
              "IPY_MODEL_ecf147b7e3b347b69b5802d6db78dfaf",
              "IPY_MODEL_c97d4da9b8f2418f92d7a87ec97298f9"
            ]
          }
        },
        "cb745b4f1d844b97b54190ad22a1dad8": {
          "model_module": "@jupyter-widgets/base",
          "model_name": "LayoutModel",
          "state": {
            "_view_name": "LayoutView",
            "grid_template_rows": null,
            "right": null,
            "justify_content": null,
            "_view_module": "@jupyter-widgets/base",
            "overflow": null,
            "_model_module_version": "1.2.0",
            "_view_count": null,
            "flex_flow": null,
            "width": null,
            "min_width": null,
            "border": null,
            "align_items": null,
            "bottom": null,
            "_model_module": "@jupyter-widgets/base",
            "top": null,
            "grid_column": null,
            "overflow_y": null,
            "overflow_x": null,
            "grid_auto_flow": null,
            "grid_area": null,
            "grid_template_columns": null,
            "flex": null,
            "_model_name": "LayoutModel",
            "justify_items": null,
            "grid_row": null,
            "max_height": null,
            "align_content": null,
            "visibility": null,
            "align_self": null,
            "height": null,
            "min_height": null,
            "padding": null,
            "grid_auto_rows": null,
            "grid_gap": null,
            "max_width": null,
            "order": null,
            "_view_module_version": "1.2.0",
            "grid_template_areas": null,
            "object_position": null,
            "object_fit": null,
            "grid_auto_columns": null,
            "margin": null,
            "display": null,
            "left": null
          }
        },
        "ecf147b7e3b347b69b5802d6db78dfaf": {
          "model_module": "@jupyter-widgets/controls",
          "model_name": "FloatProgressModel",
          "state": {
            "_view_name": "ProgressView",
            "style": "IPY_MODEL_373929de46104776929e43fa1b55054c",
            "_dom_classes": [],
            "description": "Dl Completed...: 100%",
            "_model_name": "FloatProgressModel",
            "bar_style": "success",
            "max": 1,
            "_view_module": "@jupyter-widgets/controls",
            "_model_module_version": "1.5.0",
            "value": 1,
            "_view_count": null,
            "_view_module_version": "1.5.0",
            "orientation": "horizontal",
            "min": 0,
            "description_tooltip": null,
            "_model_module": "@jupyter-widgets/controls",
            "layout": "IPY_MODEL_69d1e9163d444d7ead2789cdd1fce95d"
          }
        },
        "c97d4da9b8f2418f92d7a87ec97298f9": {
          "model_module": "@jupyter-widgets/controls",
          "model_name": "HTMLModel",
          "state": {
            "_view_name": "HTMLView",
            "style": "IPY_MODEL_d7976b3595af428fb2caf0a4427ac5f3",
            "_dom_classes": [],
            "description": "",
            "_model_name": "HTMLModel",
            "placeholder": "​",
            "_view_module": "@jupyter-widgets/controls",
            "_model_module_version": "1.5.0",
            "value": " 1/1 [00:08&lt;00:00,  8.50s/ url]",
            "_view_count": null,
            "_view_module_version": "1.5.0",
            "description_tooltip": null,
            "_model_module": "@jupyter-widgets/controls",
            "layout": "IPY_MODEL_6f3d8fe62d8d4d52bc377eb01802e238"
          }
        },
        "373929de46104776929e43fa1b55054c": {
          "model_module": "@jupyter-widgets/controls",
          "model_name": "ProgressStyleModel",
          "state": {
            "_view_name": "StyleView",
            "_model_name": "ProgressStyleModel",
            "description_width": "initial",
            "_view_module": "@jupyter-widgets/base",
            "_model_module_version": "1.5.0",
            "_view_count": null,
            "_view_module_version": "1.2.0",
            "bar_color": null,
            "_model_module": "@jupyter-widgets/controls"
          }
        },
        "69d1e9163d444d7ead2789cdd1fce95d": {
          "model_module": "@jupyter-widgets/base",
          "model_name": "LayoutModel",
          "state": {
            "_view_name": "LayoutView",
            "grid_template_rows": null,
            "right": null,
            "justify_content": null,
            "_view_module": "@jupyter-widgets/base",
            "overflow": null,
            "_model_module_version": "1.2.0",
            "_view_count": null,
            "flex_flow": null,
            "width": null,
            "min_width": null,
            "border": null,
            "align_items": null,
            "bottom": null,
            "_model_module": "@jupyter-widgets/base",
            "top": null,
            "grid_column": null,
            "overflow_y": null,
            "overflow_x": null,
            "grid_auto_flow": null,
            "grid_area": null,
            "grid_template_columns": null,
            "flex": null,
            "_model_name": "LayoutModel",
            "justify_items": null,
            "grid_row": null,
            "max_height": null,
            "align_content": null,
            "visibility": null,
            "align_self": null,
            "height": null,
            "min_height": null,
            "padding": null,
            "grid_auto_rows": null,
            "grid_gap": null,
            "max_width": null,
            "order": null,
            "_view_module_version": "1.2.0",
            "grid_template_areas": null,
            "object_position": null,
            "object_fit": null,
            "grid_auto_columns": null,
            "margin": null,
            "display": null,
            "left": null
          }
        },
        "d7976b3595af428fb2caf0a4427ac5f3": {
          "model_module": "@jupyter-widgets/controls",
          "model_name": "DescriptionStyleModel",
          "state": {
            "_view_name": "StyleView",
            "_model_name": "DescriptionStyleModel",
            "description_width": "",
            "_view_module": "@jupyter-widgets/base",
            "_model_module_version": "1.5.0",
            "_view_count": null,
            "_view_module_version": "1.2.0",
            "_model_module": "@jupyter-widgets/controls"
          }
        },
        "6f3d8fe62d8d4d52bc377eb01802e238": {
          "model_module": "@jupyter-widgets/base",
          "model_name": "LayoutModel",
          "state": {
            "_view_name": "LayoutView",
            "grid_template_rows": null,
            "right": null,
            "justify_content": null,
            "_view_module": "@jupyter-widgets/base",
            "overflow": null,
            "_model_module_version": "1.2.0",
            "_view_count": null,
            "flex_flow": null,
            "width": null,
            "min_width": null,
            "border": null,
            "align_items": null,
            "bottom": null,
            "_model_module": "@jupyter-widgets/base",
            "top": null,
            "grid_column": null,
            "overflow_y": null,
            "overflow_x": null,
            "grid_auto_flow": null,
            "grid_area": null,
            "grid_template_columns": null,
            "flex": null,
            "_model_name": "LayoutModel",
            "justify_items": null,
            "grid_row": null,
            "max_height": null,
            "align_content": null,
            "visibility": null,
            "align_self": null,
            "height": null,
            "min_height": null,
            "padding": null,
            "grid_auto_rows": null,
            "grid_gap": null,
            "max_width": null,
            "order": null,
            "_view_module_version": "1.2.0",
            "grid_template_areas": null,
            "object_position": null,
            "object_fit": null,
            "grid_auto_columns": null,
            "margin": null,
            "display": null,
            "left": null
          }
        },
        "8ec5d936a08b41639eeb8f9ab32fbb7c": {
          "model_module": "@jupyter-widgets/controls",
          "model_name": "HBoxModel",
          "state": {
            "_view_name": "HBoxView",
            "_dom_classes": [],
            "_model_name": "HBoxModel",
            "_view_module": "@jupyter-widgets/controls",
            "_model_module_version": "1.5.0",
            "_view_count": null,
            "_view_module_version": "1.5.0",
            "box_style": "",
            "layout": "IPY_MODEL_60c82b6e741b4038b195fbbfa15e214c",
            "_model_module": "@jupyter-widgets/controls",
            "children": [
              "IPY_MODEL_21c6e9ab21234155b25ed0bee1746e60",
              "IPY_MODEL_ef744e17a25e40bf88c34c0992e62097"
            ]
          }
        },
        "60c82b6e741b4038b195fbbfa15e214c": {
          "model_module": "@jupyter-widgets/base",
          "model_name": "LayoutModel",
          "state": {
            "_view_name": "LayoutView",
            "grid_template_rows": null,
            "right": null,
            "justify_content": null,
            "_view_module": "@jupyter-widgets/base",
            "overflow": null,
            "_model_module_version": "1.2.0",
            "_view_count": null,
            "flex_flow": null,
            "width": null,
            "min_width": null,
            "border": null,
            "align_items": null,
            "bottom": null,
            "_model_module": "@jupyter-widgets/base",
            "top": null,
            "grid_column": null,
            "overflow_y": null,
            "overflow_x": null,
            "grid_auto_flow": null,
            "grid_area": null,
            "grid_template_columns": null,
            "flex": null,
            "_model_name": "LayoutModel",
            "justify_items": null,
            "grid_row": null,
            "max_height": null,
            "align_content": null,
            "visibility": null,
            "align_self": null,
            "height": null,
            "min_height": null,
            "padding": null,
            "grid_auto_rows": null,
            "grid_gap": null,
            "max_width": null,
            "order": null,
            "_view_module_version": "1.2.0",
            "grid_template_areas": null,
            "object_position": null,
            "object_fit": null,
            "grid_auto_columns": null,
            "margin": null,
            "display": null,
            "left": null
          }
        },
        "21c6e9ab21234155b25ed0bee1746e60": {
          "model_module": "@jupyter-widgets/controls",
          "model_name": "FloatProgressModel",
          "state": {
            "_view_name": "ProgressView",
            "style": "IPY_MODEL_7deb5e3327c44ad398b4cc150e72ebba",
            "_dom_classes": [],
            "description": "Dl Size...: 100%",
            "_model_name": "FloatProgressModel",
            "bar_style": "success",
            "max": 1,
            "_view_module": "@jupyter-widgets/controls",
            "_model_module_version": "1.5.0",
            "value": 1,
            "_view_count": null,
            "_view_module_version": "1.5.0",
            "orientation": "horizontal",
            "min": 0,
            "description_tooltip": null,
            "_model_module": "@jupyter-widgets/controls",
            "layout": "IPY_MODEL_16176e166d644191993b6f5b9f44cf13"
          }
        },
        "ef744e17a25e40bf88c34c0992e62097": {
          "model_module": "@jupyter-widgets/controls",
          "model_name": "HTMLModel",
          "state": {
            "_view_name": "HTMLView",
            "style": "IPY_MODEL_6e3fab0454a647a1a1a38d73d1b8ff7d",
            "_dom_classes": [],
            "description": "",
            "_model_name": "HTMLModel",
            "placeholder": "​",
            "_view_module": "@jupyter-widgets/controls",
            "_model_module_version": "1.5.0",
            "value": " 162/162 [00:08&lt;00:00, 19.12 MiB/s]",
            "_view_count": null,
            "_view_module_version": "1.5.0",
            "description_tooltip": null,
            "_model_module": "@jupyter-widgets/controls",
            "layout": "IPY_MODEL_2b00980d81f348ac90cc6167785b9d55"
          }
        },
        "7deb5e3327c44ad398b4cc150e72ebba": {
          "model_module": "@jupyter-widgets/controls",
          "model_name": "ProgressStyleModel",
          "state": {
            "_view_name": "StyleView",
            "_model_name": "ProgressStyleModel",
            "description_width": "initial",
            "_view_module": "@jupyter-widgets/base",
            "_model_module_version": "1.5.0",
            "_view_count": null,
            "_view_module_version": "1.2.0",
            "bar_color": null,
            "_model_module": "@jupyter-widgets/controls"
          }
        },
        "16176e166d644191993b6f5b9f44cf13": {
          "model_module": "@jupyter-widgets/base",
          "model_name": "LayoutModel",
          "state": {
            "_view_name": "LayoutView",
            "grid_template_rows": null,
            "right": null,
            "justify_content": null,
            "_view_module": "@jupyter-widgets/base",
            "overflow": null,
            "_model_module_version": "1.2.0",
            "_view_count": null,
            "flex_flow": null,
            "width": null,
            "min_width": null,
            "border": null,
            "align_items": null,
            "bottom": null,
            "_model_module": "@jupyter-widgets/base",
            "top": null,
            "grid_column": null,
            "overflow_y": null,
            "overflow_x": null,
            "grid_auto_flow": null,
            "grid_area": null,
            "grid_template_columns": null,
            "flex": null,
            "_model_name": "LayoutModel",
            "justify_items": null,
            "grid_row": null,
            "max_height": null,
            "align_content": null,
            "visibility": null,
            "align_self": null,
            "height": null,
            "min_height": null,
            "padding": null,
            "grid_auto_rows": null,
            "grid_gap": null,
            "max_width": null,
            "order": null,
            "_view_module_version": "1.2.0",
            "grid_template_areas": null,
            "object_position": null,
            "object_fit": null,
            "grid_auto_columns": null,
            "margin": null,
            "display": null,
            "left": null
          }
        },
        "6e3fab0454a647a1a1a38d73d1b8ff7d": {
          "model_module": "@jupyter-widgets/controls",
          "model_name": "DescriptionStyleModel",
          "state": {
            "_view_name": "StyleView",
            "_model_name": "DescriptionStyleModel",
            "description_width": "",
            "_view_module": "@jupyter-widgets/base",
            "_model_module_version": "1.5.0",
            "_view_count": null,
            "_view_module_version": "1.2.0",
            "_model_module": "@jupyter-widgets/controls"
          }
        },
        "2b00980d81f348ac90cc6167785b9d55": {
          "model_module": "@jupyter-widgets/base",
          "model_name": "LayoutModel",
          "state": {
            "_view_name": "LayoutView",
            "grid_template_rows": null,
            "right": null,
            "justify_content": null,
            "_view_module": "@jupyter-widgets/base",
            "overflow": null,
            "_model_module_version": "1.2.0",
            "_view_count": null,
            "flex_flow": null,
            "width": null,
            "min_width": null,
            "border": null,
            "align_items": null,
            "bottom": null,
            "_model_module": "@jupyter-widgets/base",
            "top": null,
            "grid_column": null,
            "overflow_y": null,
            "overflow_x": null,
            "grid_auto_flow": null,
            "grid_area": null,
            "grid_template_columns": null,
            "flex": null,
            "_model_name": "LayoutModel",
            "justify_items": null,
            "grid_row": null,
            "max_height": null,
            "align_content": null,
            "visibility": null,
            "align_self": null,
            "height": null,
            "min_height": null,
            "padding": null,
            "grid_auto_rows": null,
            "grid_gap": null,
            "max_width": null,
            "order": null,
            "_view_module_version": "1.2.0",
            "grid_template_areas": null,
            "object_position": null,
            "object_fit": null,
            "grid_auto_columns": null,
            "margin": null,
            "display": null,
            "left": null
          }
        },
        "3d893706fe3341a4a295b656187871ce": {
          "model_module": "@jupyter-widgets/controls",
          "model_name": "HBoxModel",
          "state": {
            "_view_name": "HBoxView",
            "_dom_classes": [],
            "_model_name": "HBoxModel",
            "_view_module": "@jupyter-widgets/controls",
            "_model_module_version": "1.5.0",
            "_view_count": null,
            "_view_module_version": "1.5.0",
            "box_style": "",
            "layout": "IPY_MODEL_af56b63b9a8b4e95b5ab358d4cf9bdf7",
            "_model_module": "@jupyter-widgets/controls",
            "children": [
              "IPY_MODEL_a409dbe8eb7d451e931a49412005e6b5",
              "IPY_MODEL_6baa04fbe3d249cd9689705f7ef7619b"
            ]
          }
        },
        "af56b63b9a8b4e95b5ab358d4cf9bdf7": {
          "model_module": "@jupyter-widgets/base",
          "model_name": "LayoutModel",
          "state": {
            "_view_name": "LayoutView",
            "grid_template_rows": null,
            "right": null,
            "justify_content": null,
            "_view_module": "@jupyter-widgets/base",
            "overflow": null,
            "_model_module_version": "1.2.0",
            "_view_count": null,
            "flex_flow": null,
            "width": null,
            "min_width": null,
            "border": null,
            "align_items": null,
            "bottom": null,
            "_model_module": "@jupyter-widgets/base",
            "top": null,
            "grid_column": null,
            "overflow_y": null,
            "overflow_x": null,
            "grid_auto_flow": null,
            "grid_area": null,
            "grid_template_columns": null,
            "flex": null,
            "_model_name": "LayoutModel",
            "justify_items": null,
            "grid_row": null,
            "max_height": null,
            "align_content": null,
            "visibility": null,
            "align_self": null,
            "height": null,
            "min_height": null,
            "padding": null,
            "grid_auto_rows": null,
            "grid_gap": null,
            "max_width": null,
            "order": null,
            "_view_module_version": "1.2.0",
            "grid_template_areas": null,
            "object_position": null,
            "object_fit": null,
            "grid_auto_columns": null,
            "margin": null,
            "display": null,
            "left": null
          }
        },
        "a409dbe8eb7d451e931a49412005e6b5": {
          "model_module": "@jupyter-widgets/controls",
          "model_name": "FloatProgressModel",
          "state": {
            "_view_name": "ProgressView",
            "style": "IPY_MODEL_0a7f85c376094d09bf73c0e507fdd482",
            "_dom_classes": [],
            "description": "Extraction completed...: 100%",
            "_model_name": "FloatProgressModel",
            "bar_style": "success",
            "max": 1,
            "_view_module": "@jupyter-widgets/controls",
            "_model_module_version": "1.5.0",
            "value": 1,
            "_view_count": null,
            "_view_module_version": "1.5.0",
            "orientation": "horizontal",
            "min": 0,
            "description_tooltip": null,
            "_model_module": "@jupyter-widgets/controls",
            "layout": "IPY_MODEL_c35ae4b06d044d27b3e2d9013f2b3d1d"
          }
        },
        "6baa04fbe3d249cd9689705f7ef7619b": {
          "model_module": "@jupyter-widgets/controls",
          "model_name": "HTMLModel",
          "state": {
            "_view_name": "HTMLView",
            "style": "IPY_MODEL_14858b043e894b8aa632e66de5b25ec1",
            "_dom_classes": [],
            "description": "",
            "_model_name": "HTMLModel",
            "placeholder": "​",
            "_view_module": "@jupyter-widgets/controls",
            "_model_module_version": "1.5.0",
            "value": " 1/1 [00:08&lt;00:00,  8.45s/ file]",
            "_view_count": null,
            "_view_module_version": "1.5.0",
            "description_tooltip": null,
            "_model_module": "@jupyter-widgets/controls",
            "layout": "IPY_MODEL_11c11070b41d477896fc646de4523f5e"
          }
        },
        "0a7f85c376094d09bf73c0e507fdd482": {
          "model_module": "@jupyter-widgets/controls",
          "model_name": "ProgressStyleModel",
          "state": {
            "_view_name": "StyleView",
            "_model_name": "ProgressStyleModel",
            "description_width": "initial",
            "_view_module": "@jupyter-widgets/base",
            "_model_module_version": "1.5.0",
            "_view_count": null,
            "_view_module_version": "1.2.0",
            "bar_color": null,
            "_model_module": "@jupyter-widgets/controls"
          }
        },
        "c35ae4b06d044d27b3e2d9013f2b3d1d": {
          "model_module": "@jupyter-widgets/base",
          "model_name": "LayoutModel",
          "state": {
            "_view_name": "LayoutView",
            "grid_template_rows": null,
            "right": null,
            "justify_content": null,
            "_view_module": "@jupyter-widgets/base",
            "overflow": null,
            "_model_module_version": "1.2.0",
            "_view_count": null,
            "flex_flow": null,
            "width": null,
            "min_width": null,
            "border": null,
            "align_items": null,
            "bottom": null,
            "_model_module": "@jupyter-widgets/base",
            "top": null,
            "grid_column": null,
            "overflow_y": null,
            "overflow_x": null,
            "grid_auto_flow": null,
            "grid_area": null,
            "grid_template_columns": null,
            "flex": null,
            "_model_name": "LayoutModel",
            "justify_items": null,
            "grid_row": null,
            "max_height": null,
            "align_content": null,
            "visibility": null,
            "align_self": null,
            "height": null,
            "min_height": null,
            "padding": null,
            "grid_auto_rows": null,
            "grid_gap": null,
            "max_width": null,
            "order": null,
            "_view_module_version": "1.2.0",
            "grid_template_areas": null,
            "object_position": null,
            "object_fit": null,
            "grid_auto_columns": null,
            "margin": null,
            "display": null,
            "left": null
          }
        },
        "14858b043e894b8aa632e66de5b25ec1": {
          "model_module": "@jupyter-widgets/controls",
          "model_name": "DescriptionStyleModel",
          "state": {
            "_view_name": "StyleView",
            "_model_name": "DescriptionStyleModel",
            "description_width": "",
            "_view_module": "@jupyter-widgets/base",
            "_model_module_version": "1.5.0",
            "_view_count": null,
            "_view_module_version": "1.2.0",
            "_model_module": "@jupyter-widgets/controls"
          }
        },
        "11c11070b41d477896fc646de4523f5e": {
          "model_module": "@jupyter-widgets/base",
          "model_name": "LayoutModel",
          "state": {
            "_view_name": "LayoutView",
            "grid_template_rows": null,
            "right": null,
            "justify_content": null,
            "_view_module": "@jupyter-widgets/base",
            "overflow": null,
            "_model_module_version": "1.2.0",
            "_view_count": null,
            "flex_flow": null,
            "width": null,
            "min_width": null,
            "border": null,
            "align_items": null,
            "bottom": null,
            "_model_module": "@jupyter-widgets/base",
            "top": null,
            "grid_column": null,
            "overflow_y": null,
            "overflow_x": null,
            "grid_auto_flow": null,
            "grid_area": null,
            "grid_template_columns": null,
            "flex": null,
            "_model_name": "LayoutModel",
            "justify_items": null,
            "grid_row": null,
            "max_height": null,
            "align_content": null,
            "visibility": null,
            "align_self": null,
            "height": null,
            "min_height": null,
            "padding": null,
            "grid_auto_rows": null,
            "grid_gap": null,
            "max_width": null,
            "order": null,
            "_view_module_version": "1.2.0",
            "grid_template_areas": null,
            "object_position": null,
            "object_fit": null,
            "grid_auto_columns": null,
            "margin": null,
            "display": null,
            "left": null
          }
        },
        "b79145ff4dd7413a82dd56e4ce55da51": {
          "model_module": "@jupyter-widgets/controls",
          "model_name": "HBoxModel",
          "state": {
            "_view_name": "HBoxView",
            "_dom_classes": [],
            "_model_name": "HBoxModel",
            "_view_module": "@jupyter-widgets/controls",
            "_model_module_version": "1.5.0",
            "_view_count": null,
            "_view_module_version": "1.5.0",
            "box_style": "",
            "layout": "IPY_MODEL_49191ec5b9b24bd2880ad2ee0f8772b6",
            "_model_module": "@jupyter-widgets/controls",
            "children": [
              "IPY_MODEL_dae5f4a256604a2a99aba56cf83347db",
              "IPY_MODEL_1ff6c5195d0d46a18f2a04d66b4c6a12"
            ]
          }
        },
        "49191ec5b9b24bd2880ad2ee0f8772b6": {
          "model_module": "@jupyter-widgets/base",
          "model_name": "LayoutModel",
          "state": {
            "_view_name": "LayoutView",
            "grid_template_rows": null,
            "right": null,
            "justify_content": null,
            "_view_module": "@jupyter-widgets/base",
            "overflow": null,
            "_model_module_version": "1.2.0",
            "_view_count": null,
            "flex_flow": null,
            "width": null,
            "min_width": null,
            "border": null,
            "align_items": null,
            "bottom": null,
            "_model_module": "@jupyter-widgets/base",
            "top": null,
            "grid_column": null,
            "overflow_y": null,
            "overflow_x": null,
            "grid_auto_flow": null,
            "grid_area": null,
            "grid_template_columns": null,
            "flex": null,
            "_model_name": "LayoutModel",
            "justify_items": null,
            "grid_row": null,
            "max_height": null,
            "align_content": null,
            "visibility": null,
            "align_self": null,
            "height": null,
            "min_height": null,
            "padding": null,
            "grid_auto_rows": null,
            "grid_gap": null,
            "max_width": null,
            "order": null,
            "_view_module_version": "1.2.0",
            "grid_template_areas": null,
            "object_position": null,
            "object_fit": null,
            "grid_auto_columns": null,
            "margin": null,
            "display": null,
            "left": null
          }
        },
        "dae5f4a256604a2a99aba56cf83347db": {
          "model_module": "@jupyter-widgets/controls",
          "model_name": "FloatProgressModel",
          "state": {
            "_view_name": "ProgressView",
            "style": "IPY_MODEL_666d4eb0b24344b783024a84e863e39d",
            "_dom_classes": [],
            "description": "",
            "_model_name": "FloatProgressModel",
            "bar_style": "info",
            "max": 1,
            "_view_module": "@jupyter-widgets/controls",
            "_model_module_version": "1.5.0",
            "value": 1,
            "_view_count": null,
            "_view_module_version": "1.5.0",
            "orientation": "horizontal",
            "min": 0,
            "description_tooltip": null,
            "_model_module": "@jupyter-widgets/controls",
            "layout": "IPY_MODEL_95b92e9611a84a87842df2b2033d04ac"
          }
        },
        "1ff6c5195d0d46a18f2a04d66b4c6a12": {
          "model_module": "@jupyter-widgets/controls",
          "model_name": "HTMLModel",
          "state": {
            "_view_name": "HTMLView",
            "style": "IPY_MODEL_30bc2244fc204f17be3793e19b9e88ab",
            "_dom_classes": [],
            "description": "",
            "_model_name": "HTMLModel",
            "placeholder": "​",
            "_view_module": "@jupyter-widgets/controls",
            "_model_module_version": "1.5.0",
            "value": " 50000/0 [00:35&lt;00:00, 1889.58 examples/s]",
            "_view_count": null,
            "_view_module_version": "1.5.0",
            "description_tooltip": null,
            "_model_module": "@jupyter-widgets/controls",
            "layout": "IPY_MODEL_f594ca31ca8642f69475281cc85c592d"
          }
        },
        "666d4eb0b24344b783024a84e863e39d": {
          "model_module": "@jupyter-widgets/controls",
          "model_name": "ProgressStyleModel",
          "state": {
            "_view_name": "StyleView",
            "_model_name": "ProgressStyleModel",
            "description_width": "initial",
            "_view_module": "@jupyter-widgets/base",
            "_model_module_version": "1.5.0",
            "_view_count": null,
            "_view_module_version": "1.2.0",
            "bar_color": null,
            "_model_module": "@jupyter-widgets/controls"
          }
        },
        "95b92e9611a84a87842df2b2033d04ac": {
          "model_module": "@jupyter-widgets/base",
          "model_name": "LayoutModel",
          "state": {
            "_view_name": "LayoutView",
            "grid_template_rows": null,
            "right": null,
            "justify_content": null,
            "_view_module": "@jupyter-widgets/base",
            "overflow": null,
            "_model_module_version": "1.2.0",
            "_view_count": null,
            "flex_flow": null,
            "width": null,
            "min_width": null,
            "border": null,
            "align_items": null,
            "bottom": null,
            "_model_module": "@jupyter-widgets/base",
            "top": null,
            "grid_column": null,
            "overflow_y": null,
            "overflow_x": null,
            "grid_auto_flow": null,
            "grid_area": null,
            "grid_template_columns": null,
            "flex": null,
            "_model_name": "LayoutModel",
            "justify_items": null,
            "grid_row": null,
            "max_height": null,
            "align_content": null,
            "visibility": null,
            "align_self": null,
            "height": null,
            "min_height": null,
            "padding": null,
            "grid_auto_rows": null,
            "grid_gap": null,
            "max_width": null,
            "order": null,
            "_view_module_version": "1.2.0",
            "grid_template_areas": null,
            "object_position": null,
            "object_fit": null,
            "grid_auto_columns": null,
            "margin": null,
            "display": null,
            "left": null
          }
        },
        "30bc2244fc204f17be3793e19b9e88ab": {
          "model_module": "@jupyter-widgets/controls",
          "model_name": "DescriptionStyleModel",
          "state": {
            "_view_name": "StyleView",
            "_model_name": "DescriptionStyleModel",
            "description_width": "",
            "_view_module": "@jupyter-widgets/base",
            "_model_module_version": "1.5.0",
            "_view_count": null,
            "_view_module_version": "1.2.0",
            "_model_module": "@jupyter-widgets/controls"
          }
        },
        "f594ca31ca8642f69475281cc85c592d": {
          "model_module": "@jupyter-widgets/base",
          "model_name": "LayoutModel",
          "state": {
            "_view_name": "LayoutView",
            "grid_template_rows": null,
            "right": null,
            "justify_content": null,
            "_view_module": "@jupyter-widgets/base",
            "overflow": null,
            "_model_module_version": "1.2.0",
            "_view_count": null,
            "flex_flow": null,
            "width": null,
            "min_width": null,
            "border": null,
            "align_items": null,
            "bottom": null,
            "_model_module": "@jupyter-widgets/base",
            "top": null,
            "grid_column": null,
            "overflow_y": null,
            "overflow_x": null,
            "grid_auto_flow": null,
            "grid_area": null,
            "grid_template_columns": null,
            "flex": null,
            "_model_name": "LayoutModel",
            "justify_items": null,
            "grid_row": null,
            "max_height": null,
            "align_content": null,
            "visibility": null,
            "align_self": null,
            "height": null,
            "min_height": null,
            "padding": null,
            "grid_auto_rows": null,
            "grid_gap": null,
            "max_width": null,
            "order": null,
            "_view_module_version": "1.2.0",
            "grid_template_areas": null,
            "object_position": null,
            "object_fit": null,
            "grid_auto_columns": null,
            "margin": null,
            "display": null,
            "left": null
          }
        },
        "9e7d519a61714fdb9a70b23d8a7e64d2": {
          "model_module": "@jupyter-widgets/controls",
          "model_name": "HBoxModel",
          "state": {
            "_view_name": "HBoxView",
            "_dom_classes": [],
            "_model_name": "HBoxModel",
            "_view_module": "@jupyter-widgets/controls",
            "_model_module_version": "1.5.0",
            "_view_count": null,
            "_view_module_version": "1.5.0",
            "box_style": "",
            "layout": "IPY_MODEL_25ea3eb09b77487ba1e200a8456f6930",
            "_model_module": "@jupyter-widgets/controls",
            "children": [
              "IPY_MODEL_6b0fe60d14cc4df59925c080c4827bf9",
              "IPY_MODEL_a2848cf1176e40678238e040e5637887"
            ]
          }
        },
        "25ea3eb09b77487ba1e200a8456f6930": {
          "model_module": "@jupyter-widgets/base",
          "model_name": "LayoutModel",
          "state": {
            "_view_name": "LayoutView",
            "grid_template_rows": null,
            "right": null,
            "justify_content": null,
            "_view_module": "@jupyter-widgets/base",
            "overflow": null,
            "_model_module_version": "1.2.0",
            "_view_count": null,
            "flex_flow": null,
            "width": null,
            "min_width": null,
            "border": null,
            "align_items": null,
            "bottom": null,
            "_model_module": "@jupyter-widgets/base",
            "top": null,
            "grid_column": null,
            "overflow_y": null,
            "overflow_x": null,
            "grid_auto_flow": null,
            "grid_area": null,
            "grid_template_columns": null,
            "flex": null,
            "_model_name": "LayoutModel",
            "justify_items": null,
            "grid_row": null,
            "max_height": null,
            "align_content": null,
            "visibility": null,
            "align_self": null,
            "height": null,
            "min_height": null,
            "padding": null,
            "grid_auto_rows": null,
            "grid_gap": null,
            "max_width": null,
            "order": null,
            "_view_module_version": "1.2.0",
            "grid_template_areas": null,
            "object_position": null,
            "object_fit": null,
            "grid_auto_columns": null,
            "margin": null,
            "display": null,
            "left": null
          }
        },
        "6b0fe60d14cc4df59925c080c4827bf9": {
          "model_module": "@jupyter-widgets/controls",
          "model_name": "FloatProgressModel",
          "state": {
            "_view_name": "ProgressView",
            "style": "IPY_MODEL_19ad3f0a71934cb7bcde2b2811bf5720",
            "_dom_classes": [],
            "description": " 63%",
            "_model_name": "FloatProgressModel",
            "bar_style": "danger",
            "max": 50000,
            "_view_module": "@jupyter-widgets/controls",
            "_model_module_version": "1.5.0",
            "value": 31432,
            "_view_count": null,
            "_view_module_version": "1.5.0",
            "orientation": "horizontal",
            "min": 0,
            "description_tooltip": null,
            "_model_module": "@jupyter-widgets/controls",
            "layout": "IPY_MODEL_aada38b237e244d487e99a8f6bcc3cb0"
          }
        },
        "a2848cf1176e40678238e040e5637887": {
          "model_module": "@jupyter-widgets/controls",
          "model_name": "HTMLModel",
          "state": {
            "_view_name": "HTMLView",
            "style": "IPY_MODEL_55f4c04f40ad4696a255dd7ad19b511f",
            "_dom_classes": [],
            "description": "",
            "_model_name": "HTMLModel",
            "placeholder": "​",
            "_view_module": "@jupyter-widgets/controls",
            "_model_module_version": "1.5.0",
            "value": " 31432/50000 [00:00&lt;00:00, 111919.13 examples/s]",
            "_view_count": null,
            "_view_module_version": "1.5.0",
            "description_tooltip": null,
            "_model_module": "@jupyter-widgets/controls",
            "layout": "IPY_MODEL_9221eab944964b7192b56b7b8d6bd097"
          }
        },
        "19ad3f0a71934cb7bcde2b2811bf5720": {
          "model_module": "@jupyter-widgets/controls",
          "model_name": "ProgressStyleModel",
          "state": {
            "_view_name": "StyleView",
            "_model_name": "ProgressStyleModel",
            "description_width": "initial",
            "_view_module": "@jupyter-widgets/base",
            "_model_module_version": "1.5.0",
            "_view_count": null,
            "_view_module_version": "1.2.0",
            "bar_color": null,
            "_model_module": "@jupyter-widgets/controls"
          }
        },
        "aada38b237e244d487e99a8f6bcc3cb0": {
          "model_module": "@jupyter-widgets/base",
          "model_name": "LayoutModel",
          "state": {
            "_view_name": "LayoutView",
            "grid_template_rows": null,
            "right": null,
            "justify_content": null,
            "_view_module": "@jupyter-widgets/base",
            "overflow": null,
            "_model_module_version": "1.2.0",
            "_view_count": null,
            "flex_flow": null,
            "width": null,
            "min_width": null,
            "border": null,
            "align_items": null,
            "bottom": null,
            "_model_module": "@jupyter-widgets/base",
            "top": null,
            "grid_column": null,
            "overflow_y": null,
            "overflow_x": null,
            "grid_auto_flow": null,
            "grid_area": null,
            "grid_template_columns": null,
            "flex": null,
            "_model_name": "LayoutModel",
            "justify_items": null,
            "grid_row": null,
            "max_height": null,
            "align_content": null,
            "visibility": null,
            "align_self": null,
            "height": null,
            "min_height": null,
            "padding": null,
            "grid_auto_rows": null,
            "grid_gap": null,
            "max_width": null,
            "order": null,
            "_view_module_version": "1.2.0",
            "grid_template_areas": null,
            "object_position": null,
            "object_fit": null,
            "grid_auto_columns": null,
            "margin": null,
            "display": null,
            "left": null
          }
        },
        "55f4c04f40ad4696a255dd7ad19b511f": {
          "model_module": "@jupyter-widgets/controls",
          "model_name": "DescriptionStyleModel",
          "state": {
            "_view_name": "StyleView",
            "_model_name": "DescriptionStyleModel",
            "description_width": "",
            "_view_module": "@jupyter-widgets/base",
            "_model_module_version": "1.5.0",
            "_view_count": null,
            "_view_module_version": "1.2.0",
            "_model_module": "@jupyter-widgets/controls"
          }
        },
        "9221eab944964b7192b56b7b8d6bd097": {
          "model_module": "@jupyter-widgets/base",
          "model_name": "LayoutModel",
          "state": {
            "_view_name": "LayoutView",
            "grid_template_rows": null,
            "right": null,
            "justify_content": null,
            "_view_module": "@jupyter-widgets/base",
            "overflow": null,
            "_model_module_version": "1.2.0",
            "_view_count": null,
            "flex_flow": null,
            "width": null,
            "min_width": null,
            "border": null,
            "align_items": null,
            "bottom": null,
            "_model_module": "@jupyter-widgets/base",
            "top": null,
            "grid_column": null,
            "overflow_y": null,
            "overflow_x": null,
            "grid_auto_flow": null,
            "grid_area": null,
            "grid_template_columns": null,
            "flex": null,
            "_model_name": "LayoutModel",
            "justify_items": null,
            "grid_row": null,
            "max_height": null,
            "align_content": null,
            "visibility": null,
            "align_self": null,
            "height": null,
            "min_height": null,
            "padding": null,
            "grid_auto_rows": null,
            "grid_gap": null,
            "max_width": null,
            "order": null,
            "_view_module_version": "1.2.0",
            "grid_template_areas": null,
            "object_position": null,
            "object_fit": null,
            "grid_auto_columns": null,
            "margin": null,
            "display": null,
            "left": null
          }
        },
        "2d94c3847e1f4e20839dc90bde481f69": {
          "model_module": "@jupyter-widgets/controls",
          "model_name": "HBoxModel",
          "state": {
            "_view_name": "HBoxView",
            "_dom_classes": [],
            "_model_name": "HBoxModel",
            "_view_module": "@jupyter-widgets/controls",
            "_model_module_version": "1.5.0",
            "_view_count": null,
            "_view_module_version": "1.5.0",
            "box_style": "",
            "layout": "IPY_MODEL_d41cfb765aa74f0e90ef3a76de33eead",
            "_model_module": "@jupyter-widgets/controls",
            "children": [
              "IPY_MODEL_ee6371e5e7c44cf8b88b4a60417e858f",
              "IPY_MODEL_5c75f049ffe24c989efae6458845aee7"
            ]
          }
        },
        "d41cfb765aa74f0e90ef3a76de33eead": {
          "model_module": "@jupyter-widgets/base",
          "model_name": "LayoutModel",
          "state": {
            "_view_name": "LayoutView",
            "grid_template_rows": null,
            "right": null,
            "justify_content": null,
            "_view_module": "@jupyter-widgets/base",
            "overflow": null,
            "_model_module_version": "1.2.0",
            "_view_count": null,
            "flex_flow": null,
            "width": null,
            "min_width": null,
            "border": null,
            "align_items": null,
            "bottom": null,
            "_model_module": "@jupyter-widgets/base",
            "top": null,
            "grid_column": null,
            "overflow_y": null,
            "overflow_x": null,
            "grid_auto_flow": null,
            "grid_area": null,
            "grid_template_columns": null,
            "flex": null,
            "_model_name": "LayoutModel",
            "justify_items": null,
            "grid_row": null,
            "max_height": null,
            "align_content": null,
            "visibility": null,
            "align_self": null,
            "height": null,
            "min_height": null,
            "padding": null,
            "grid_auto_rows": null,
            "grid_gap": null,
            "max_width": null,
            "order": null,
            "_view_module_version": "1.2.0",
            "grid_template_areas": null,
            "object_position": null,
            "object_fit": null,
            "grid_auto_columns": null,
            "margin": null,
            "display": null,
            "left": null
          }
        },
        "ee6371e5e7c44cf8b88b4a60417e858f": {
          "model_module": "@jupyter-widgets/controls",
          "model_name": "FloatProgressModel",
          "state": {
            "_view_name": "ProgressView",
            "style": "IPY_MODEL_515c4ee41c27451e82b5d92c2f551131",
            "_dom_classes": [],
            "description": "",
            "_model_name": "FloatProgressModel",
            "bar_style": "info",
            "max": 1,
            "_view_module": "@jupyter-widgets/controls",
            "_model_module_version": "1.5.0",
            "value": 1,
            "_view_count": null,
            "_view_module_version": "1.5.0",
            "orientation": "horizontal",
            "min": 0,
            "description_tooltip": null,
            "_model_module": "@jupyter-widgets/controls",
            "layout": "IPY_MODEL_a77178b4068d4dafa8000288ec5093d7"
          }
        },
        "5c75f049ffe24c989efae6458845aee7": {
          "model_module": "@jupyter-widgets/controls",
          "model_name": "HTMLModel",
          "state": {
            "_view_name": "HTMLView",
            "style": "IPY_MODEL_8b52a041d6b9423bbf19083e9771e8ed",
            "_dom_classes": [],
            "description": "",
            "_model_name": "HTMLModel",
            "placeholder": "​",
            "_view_module": "@jupyter-widgets/controls",
            "_model_module_version": "1.5.0",
            "value": " 10000/0 [00:05&lt;00:00, 1815.92 examples/s]",
            "_view_count": null,
            "_view_module_version": "1.5.0",
            "description_tooltip": null,
            "_model_module": "@jupyter-widgets/controls",
            "layout": "IPY_MODEL_8e06e7eaf5a544de9941466d195201d7"
          }
        },
        "515c4ee41c27451e82b5d92c2f551131": {
          "model_module": "@jupyter-widgets/controls",
          "model_name": "ProgressStyleModel",
          "state": {
            "_view_name": "StyleView",
            "_model_name": "ProgressStyleModel",
            "description_width": "initial",
            "_view_module": "@jupyter-widgets/base",
            "_model_module_version": "1.5.0",
            "_view_count": null,
            "_view_module_version": "1.2.0",
            "bar_color": null,
            "_model_module": "@jupyter-widgets/controls"
          }
        },
        "a77178b4068d4dafa8000288ec5093d7": {
          "model_module": "@jupyter-widgets/base",
          "model_name": "LayoutModel",
          "state": {
            "_view_name": "LayoutView",
            "grid_template_rows": null,
            "right": null,
            "justify_content": null,
            "_view_module": "@jupyter-widgets/base",
            "overflow": null,
            "_model_module_version": "1.2.0",
            "_view_count": null,
            "flex_flow": null,
            "width": null,
            "min_width": null,
            "border": null,
            "align_items": null,
            "bottom": null,
            "_model_module": "@jupyter-widgets/base",
            "top": null,
            "grid_column": null,
            "overflow_y": null,
            "overflow_x": null,
            "grid_auto_flow": null,
            "grid_area": null,
            "grid_template_columns": null,
            "flex": null,
            "_model_name": "LayoutModel",
            "justify_items": null,
            "grid_row": null,
            "max_height": null,
            "align_content": null,
            "visibility": null,
            "align_self": null,
            "height": null,
            "min_height": null,
            "padding": null,
            "grid_auto_rows": null,
            "grid_gap": null,
            "max_width": null,
            "order": null,
            "_view_module_version": "1.2.0",
            "grid_template_areas": null,
            "object_position": null,
            "object_fit": null,
            "grid_auto_columns": null,
            "margin": null,
            "display": null,
            "left": null
          }
        },
        "8b52a041d6b9423bbf19083e9771e8ed": {
          "model_module": "@jupyter-widgets/controls",
          "model_name": "DescriptionStyleModel",
          "state": {
            "_view_name": "StyleView",
            "_model_name": "DescriptionStyleModel",
            "description_width": "",
            "_view_module": "@jupyter-widgets/base",
            "_model_module_version": "1.5.0",
            "_view_count": null,
            "_view_module_version": "1.2.0",
            "_model_module": "@jupyter-widgets/controls"
          }
        },
        "8e06e7eaf5a544de9941466d195201d7": {
          "model_module": "@jupyter-widgets/base",
          "model_name": "LayoutModel",
          "state": {
            "_view_name": "LayoutView",
            "grid_template_rows": null,
            "right": null,
            "justify_content": null,
            "_view_module": "@jupyter-widgets/base",
            "overflow": null,
            "_model_module_version": "1.2.0",
            "_view_count": null,
            "flex_flow": null,
            "width": null,
            "min_width": null,
            "border": null,
            "align_items": null,
            "bottom": null,
            "_model_module": "@jupyter-widgets/base",
            "top": null,
            "grid_column": null,
            "overflow_y": null,
            "overflow_x": null,
            "grid_auto_flow": null,
            "grid_area": null,
            "grid_template_columns": null,
            "flex": null,
            "_model_name": "LayoutModel",
            "justify_items": null,
            "grid_row": null,
            "max_height": null,
            "align_content": null,
            "visibility": null,
            "align_self": null,
            "height": null,
            "min_height": null,
            "padding": null,
            "grid_auto_rows": null,
            "grid_gap": null,
            "max_width": null,
            "order": null,
            "_view_module_version": "1.2.0",
            "grid_template_areas": null,
            "object_position": null,
            "object_fit": null,
            "grid_auto_columns": null,
            "margin": null,
            "display": null,
            "left": null
          }
        },
        "e8d1d5d5f8a649b8b6bb3a1f056797a8": {
          "model_module": "@jupyter-widgets/controls",
          "model_name": "HBoxModel",
          "state": {
            "_view_name": "HBoxView",
            "_dom_classes": [],
            "_model_name": "HBoxModel",
            "_view_module": "@jupyter-widgets/controls",
            "_model_module_version": "1.5.0",
            "_view_count": null,
            "_view_module_version": "1.5.0",
            "box_style": "",
            "layout": "IPY_MODEL_ac96b8ba75d742fd8291ca1bc85f0a0f",
            "_model_module": "@jupyter-widgets/controls",
            "children": [
              "IPY_MODEL_e10c604e224b423d8bb89791c2a6f10e",
              "IPY_MODEL_6da01e07346540b8bd76ea8d1edc3a33"
            ]
          }
        },
        "ac96b8ba75d742fd8291ca1bc85f0a0f": {
          "model_module": "@jupyter-widgets/base",
          "model_name": "LayoutModel",
          "state": {
            "_view_name": "LayoutView",
            "grid_template_rows": null,
            "right": null,
            "justify_content": null,
            "_view_module": "@jupyter-widgets/base",
            "overflow": null,
            "_model_module_version": "1.2.0",
            "_view_count": null,
            "flex_flow": null,
            "width": null,
            "min_width": null,
            "border": null,
            "align_items": null,
            "bottom": null,
            "_model_module": "@jupyter-widgets/base",
            "top": null,
            "grid_column": null,
            "overflow_y": null,
            "overflow_x": null,
            "grid_auto_flow": null,
            "grid_area": null,
            "grid_template_columns": null,
            "flex": null,
            "_model_name": "LayoutModel",
            "justify_items": null,
            "grid_row": null,
            "max_height": null,
            "align_content": null,
            "visibility": null,
            "align_self": null,
            "height": null,
            "min_height": null,
            "padding": null,
            "grid_auto_rows": null,
            "grid_gap": null,
            "max_width": null,
            "order": null,
            "_view_module_version": "1.2.0",
            "grid_template_areas": null,
            "object_position": null,
            "object_fit": null,
            "grid_auto_columns": null,
            "margin": null,
            "display": null,
            "left": null
          }
        },
        "e10c604e224b423d8bb89791c2a6f10e": {
          "model_module": "@jupyter-widgets/controls",
          "model_name": "FloatProgressModel",
          "state": {
            "_view_name": "ProgressView",
            "style": "IPY_MODEL_71ccad2631eb4233b59551cb269ea619",
            "_dom_classes": [],
            "description": "  0%",
            "_model_name": "FloatProgressModel",
            "bar_style": "danger",
            "max": 10000,
            "_view_module": "@jupyter-widgets/controls",
            "_model_module_version": "1.5.0",
            "value": 0,
            "_view_count": null,
            "_view_module_version": "1.5.0",
            "orientation": "horizontal",
            "min": 0,
            "description_tooltip": null,
            "_model_module": "@jupyter-widgets/controls",
            "layout": "IPY_MODEL_6cb1ff81619b4bc1897e08fdf979c7a9"
          }
        },
        "6da01e07346540b8bd76ea8d1edc3a33": {
          "model_module": "@jupyter-widgets/controls",
          "model_name": "HTMLModel",
          "state": {
            "_view_name": "HTMLView",
            "style": "IPY_MODEL_3f49644f84c94cedaa2a6b65047ce6e1",
            "_dom_classes": [],
            "description": "",
            "_model_name": "HTMLModel",
            "placeholder": "​",
            "_view_module": "@jupyter-widgets/controls",
            "_model_module_version": "1.5.0",
            "value": " 0/10000 [00:00&lt;?, ? examples/s]",
            "_view_count": null,
            "_view_module_version": "1.5.0",
            "description_tooltip": null,
            "_model_module": "@jupyter-widgets/controls",
            "layout": "IPY_MODEL_930e385ca205418fb697c9c7600f64e9"
          }
        },
        "71ccad2631eb4233b59551cb269ea619": {
          "model_module": "@jupyter-widgets/controls",
          "model_name": "ProgressStyleModel",
          "state": {
            "_view_name": "StyleView",
            "_model_name": "ProgressStyleModel",
            "description_width": "initial",
            "_view_module": "@jupyter-widgets/base",
            "_model_module_version": "1.5.0",
            "_view_count": null,
            "_view_module_version": "1.2.0",
            "bar_color": null,
            "_model_module": "@jupyter-widgets/controls"
          }
        },
        "6cb1ff81619b4bc1897e08fdf979c7a9": {
          "model_module": "@jupyter-widgets/base",
          "model_name": "LayoutModel",
          "state": {
            "_view_name": "LayoutView",
            "grid_template_rows": null,
            "right": null,
            "justify_content": null,
            "_view_module": "@jupyter-widgets/base",
            "overflow": null,
            "_model_module_version": "1.2.0",
            "_view_count": null,
            "flex_flow": null,
            "width": null,
            "min_width": null,
            "border": null,
            "align_items": null,
            "bottom": null,
            "_model_module": "@jupyter-widgets/base",
            "top": null,
            "grid_column": null,
            "overflow_y": null,
            "overflow_x": null,
            "grid_auto_flow": null,
            "grid_area": null,
            "grid_template_columns": null,
            "flex": null,
            "_model_name": "LayoutModel",
            "justify_items": null,
            "grid_row": null,
            "max_height": null,
            "align_content": null,
            "visibility": null,
            "align_self": null,
            "height": null,
            "min_height": null,
            "padding": null,
            "grid_auto_rows": null,
            "grid_gap": null,
            "max_width": null,
            "order": null,
            "_view_module_version": "1.2.0",
            "grid_template_areas": null,
            "object_position": null,
            "object_fit": null,
            "grid_auto_columns": null,
            "margin": null,
            "display": null,
            "left": null
          }
        },
        "3f49644f84c94cedaa2a6b65047ce6e1": {
          "model_module": "@jupyter-widgets/controls",
          "model_name": "DescriptionStyleModel",
          "state": {
            "_view_name": "StyleView",
            "_model_name": "DescriptionStyleModel",
            "description_width": "",
            "_view_module": "@jupyter-widgets/base",
            "_model_module_version": "1.5.0",
            "_view_count": null,
            "_view_module_version": "1.2.0",
            "_model_module": "@jupyter-widgets/controls"
          }
        },
        "930e385ca205418fb697c9c7600f64e9": {
          "model_module": "@jupyter-widgets/base",
          "model_name": "LayoutModel",
          "state": {
            "_view_name": "LayoutView",
            "grid_template_rows": null,
            "right": null,
            "justify_content": null,
            "_view_module": "@jupyter-widgets/base",
            "overflow": null,
            "_model_module_version": "1.2.0",
            "_view_count": null,
            "flex_flow": null,
            "width": null,
            "min_width": null,
            "border": null,
            "align_items": null,
            "bottom": null,
            "_model_module": "@jupyter-widgets/base",
            "top": null,
            "grid_column": null,
            "overflow_y": null,
            "overflow_x": null,
            "grid_auto_flow": null,
            "grid_area": null,
            "grid_template_columns": null,
            "flex": null,
            "_model_name": "LayoutModel",
            "justify_items": null,
            "grid_row": null,
            "max_height": null,
            "align_content": null,
            "visibility": null,
            "align_self": null,
            "height": null,
            "min_height": null,
            "padding": null,
            "grid_auto_rows": null,
            "grid_gap": null,
            "max_width": null,
            "order": null,
            "_view_module_version": "1.2.0",
            "grid_template_areas": null,
            "object_position": null,
            "object_fit": null,
            "grid_auto_columns": null,
            "margin": null,
            "display": null,
            "left": null
          }
        },
        "1beaa6dca5b64a5b95c7672acf570049": {
          "model_module": "@jupyter-widgets/controls",
          "model_name": "HBoxModel",
          "state": {
            "_view_name": "HBoxView",
            "_dom_classes": [],
            "_model_name": "HBoxModel",
            "_view_module": "@jupyter-widgets/controls",
            "_model_module_version": "1.5.0",
            "_view_count": null,
            "_view_module_version": "1.5.0",
            "box_style": "",
            "layout": "IPY_MODEL_eb5037c64af94930bf4f13b24878caa6",
            "_model_module": "@jupyter-widgets/controls",
            "children": [
              "IPY_MODEL_3911bce57c7c4595a45ca3c19ecd14fa",
              "IPY_MODEL_e17dd48127724529a35b8f75533ea4e7"
            ]
          }
        },
        "eb5037c64af94930bf4f13b24878caa6": {
          "model_module": "@jupyter-widgets/base",
          "model_name": "LayoutModel",
          "state": {
            "_view_name": "LayoutView",
            "grid_template_rows": null,
            "right": null,
            "justify_content": null,
            "_view_module": "@jupyter-widgets/base",
            "overflow": null,
            "_model_module_version": "1.2.0",
            "_view_count": null,
            "flex_flow": null,
            "width": null,
            "min_width": null,
            "border": null,
            "align_items": null,
            "bottom": null,
            "_model_module": "@jupyter-widgets/base",
            "top": null,
            "grid_column": null,
            "overflow_y": null,
            "overflow_x": null,
            "grid_auto_flow": null,
            "grid_area": null,
            "grid_template_columns": null,
            "flex": null,
            "_model_name": "LayoutModel",
            "justify_items": null,
            "grid_row": null,
            "max_height": null,
            "align_content": null,
            "visibility": null,
            "align_self": null,
            "height": null,
            "min_height": null,
            "padding": null,
            "grid_auto_rows": null,
            "grid_gap": null,
            "max_width": null,
            "order": null,
            "_view_module_version": "1.2.0",
            "grid_template_areas": null,
            "object_position": null,
            "object_fit": null,
            "grid_auto_columns": null,
            "margin": null,
            "display": null,
            "left": null
          }
        },
        "3911bce57c7c4595a45ca3c19ecd14fa": {
          "model_module": "@jupyter-widgets/controls",
          "model_name": "FloatProgressModel",
          "state": {
            "_view_name": "ProgressView",
            "style": "IPY_MODEL_a777a452d543482bb0bb7cafbd6686f1",
            "_dom_classes": [],
            "description": "Dl Completed...: 100%",
            "_model_name": "FloatProgressModel",
            "bar_style": "success",
            "max": 1,
            "_view_module": "@jupyter-widgets/controls",
            "_model_module_version": "1.5.0",
            "value": 1,
            "_view_count": null,
            "_view_module_version": "1.5.0",
            "orientation": "horizontal",
            "min": 0,
            "description_tooltip": null,
            "_model_module": "@jupyter-widgets/controls",
            "layout": "IPY_MODEL_283b393dfc1646998926fca7fd2c1433"
          }
        },
        "e17dd48127724529a35b8f75533ea4e7": {
          "model_module": "@jupyter-widgets/controls",
          "model_name": "HTMLModel",
          "state": {
            "_view_name": "HTMLView",
            "style": "IPY_MODEL_7ba8eb97ac5640eca249bc8efbf0cc62",
            "_dom_classes": [],
            "description": "",
            "_model_name": "HTMLModel",
            "placeholder": "​",
            "_view_module": "@jupyter-widgets/controls",
            "_model_module_version": "1.5.0",
            "value": " 1/1 [51:02&lt;00:00, 3062.58s/ url]",
            "_view_count": null,
            "_view_module_version": "1.5.0",
            "description_tooltip": null,
            "_model_module": "@jupyter-widgets/controls",
            "layout": "IPY_MODEL_a4c04bab11624dc8809a7878f6ae0683"
          }
        },
        "a777a452d543482bb0bb7cafbd6686f1": {
          "model_module": "@jupyter-widgets/controls",
          "model_name": "ProgressStyleModel",
          "state": {
            "_view_name": "StyleView",
            "_model_name": "ProgressStyleModel",
            "description_width": "initial",
            "_view_module": "@jupyter-widgets/base",
            "_model_module_version": "1.5.0",
            "_view_count": null,
            "_view_module_version": "1.2.0",
            "bar_color": null,
            "_model_module": "@jupyter-widgets/controls"
          }
        },
        "283b393dfc1646998926fca7fd2c1433": {
          "model_module": "@jupyter-widgets/base",
          "model_name": "LayoutModel",
          "state": {
            "_view_name": "LayoutView",
            "grid_template_rows": null,
            "right": null,
            "justify_content": null,
            "_view_module": "@jupyter-widgets/base",
            "overflow": null,
            "_model_module_version": "1.2.0",
            "_view_count": null,
            "flex_flow": null,
            "width": null,
            "min_width": null,
            "border": null,
            "align_items": null,
            "bottom": null,
            "_model_module": "@jupyter-widgets/base",
            "top": null,
            "grid_column": null,
            "overflow_y": null,
            "overflow_x": null,
            "grid_auto_flow": null,
            "grid_area": null,
            "grid_template_columns": null,
            "flex": null,
            "_model_name": "LayoutModel",
            "justify_items": null,
            "grid_row": null,
            "max_height": null,
            "align_content": null,
            "visibility": null,
            "align_self": null,
            "height": null,
            "min_height": null,
            "padding": null,
            "grid_auto_rows": null,
            "grid_gap": null,
            "max_width": null,
            "order": null,
            "_view_module_version": "1.2.0",
            "grid_template_areas": null,
            "object_position": null,
            "object_fit": null,
            "grid_auto_columns": null,
            "margin": null,
            "display": null,
            "left": null
          }
        },
        "7ba8eb97ac5640eca249bc8efbf0cc62": {
          "model_module": "@jupyter-widgets/controls",
          "model_name": "DescriptionStyleModel",
          "state": {
            "_view_name": "StyleView",
            "_model_name": "DescriptionStyleModel",
            "description_width": "",
            "_view_module": "@jupyter-widgets/base",
            "_model_module_version": "1.5.0",
            "_view_count": null,
            "_view_module_version": "1.2.0",
            "_model_module": "@jupyter-widgets/controls"
          }
        },
        "a4c04bab11624dc8809a7878f6ae0683": {
          "model_module": "@jupyter-widgets/base",
          "model_name": "LayoutModel",
          "state": {
            "_view_name": "LayoutView",
            "grid_template_rows": null,
            "right": null,
            "justify_content": null,
            "_view_module": "@jupyter-widgets/base",
            "overflow": null,
            "_model_module_version": "1.2.0",
            "_view_count": null,
            "flex_flow": null,
            "width": null,
            "min_width": null,
            "border": null,
            "align_items": null,
            "bottom": null,
            "_model_module": "@jupyter-widgets/base",
            "top": null,
            "grid_column": null,
            "overflow_y": null,
            "overflow_x": null,
            "grid_auto_flow": null,
            "grid_area": null,
            "grid_template_columns": null,
            "flex": null,
            "_model_name": "LayoutModel",
            "justify_items": null,
            "grid_row": null,
            "max_height": null,
            "align_content": null,
            "visibility": null,
            "align_self": null,
            "height": null,
            "min_height": null,
            "padding": null,
            "grid_auto_rows": null,
            "grid_gap": null,
            "max_width": null,
            "order": null,
            "_view_module_version": "1.2.0",
            "grid_template_areas": null,
            "object_position": null,
            "object_fit": null,
            "grid_auto_columns": null,
            "margin": null,
            "display": null,
            "left": null
          }
        },
        "1c00f7f2047942edba2afe1d53b25dd1": {
          "model_module": "@jupyter-widgets/controls",
          "model_name": "HBoxModel",
          "state": {
            "_view_name": "HBoxView",
            "_dom_classes": [],
            "_model_name": "HBoxModel",
            "_view_module": "@jupyter-widgets/controls",
            "_model_module_version": "1.5.0",
            "_view_count": null,
            "_view_module_version": "1.5.0",
            "box_style": "",
            "layout": "IPY_MODEL_cebe5f8824e0461d82e809a514802015",
            "_model_module": "@jupyter-widgets/controls",
            "children": [
              "IPY_MODEL_f0a5f8f3f4244d9db6b012d40184bb92",
              "IPY_MODEL_d87e54e62c6343d6907e0fa023ad2644"
            ]
          }
        },
        "cebe5f8824e0461d82e809a514802015": {
          "model_module": "@jupyter-widgets/base",
          "model_name": "LayoutModel",
          "state": {
            "_view_name": "LayoutView",
            "grid_template_rows": null,
            "right": null,
            "justify_content": null,
            "_view_module": "@jupyter-widgets/base",
            "overflow": null,
            "_model_module_version": "1.2.0",
            "_view_count": null,
            "flex_flow": null,
            "width": null,
            "min_width": null,
            "border": null,
            "align_items": null,
            "bottom": null,
            "_model_module": "@jupyter-widgets/base",
            "top": null,
            "grid_column": null,
            "overflow_y": null,
            "overflow_x": null,
            "grid_auto_flow": null,
            "grid_area": null,
            "grid_template_columns": null,
            "flex": null,
            "_model_name": "LayoutModel",
            "justify_items": null,
            "grid_row": null,
            "max_height": null,
            "align_content": null,
            "visibility": null,
            "align_self": null,
            "height": null,
            "min_height": null,
            "padding": null,
            "grid_auto_rows": null,
            "grid_gap": null,
            "max_width": null,
            "order": null,
            "_view_module_version": "1.2.0",
            "grid_template_areas": null,
            "object_position": null,
            "object_fit": null,
            "grid_auto_columns": null,
            "margin": null,
            "display": null,
            "left": null
          }
        },
        "f0a5f8f3f4244d9db6b012d40184bb92": {
          "model_module": "@jupyter-widgets/controls",
          "model_name": "FloatProgressModel",
          "state": {
            "_view_name": "ProgressView",
            "style": "IPY_MODEL_8c4d6da9e64942ea8a1f0ca2524b6568",
            "_dom_classes": [],
            "description": "Dl Size...: 100%",
            "_model_name": "FloatProgressModel",
            "bar_style": "success",
            "max": 1,
            "_view_module": "@jupyter-widgets/controls",
            "_model_module_version": "1.5.0",
            "value": 1,
            "_view_count": null,
            "_view_module_version": "1.5.0",
            "orientation": "horizontal",
            "min": 0,
            "description_tooltip": null,
            "_model_module": "@jupyter-widgets/controls",
            "layout": "IPY_MODEL_eb4d0128091647959258b24492a035cf"
          }
        },
        "d87e54e62c6343d6907e0fa023ad2644": {
          "model_module": "@jupyter-widgets/controls",
          "model_name": "HTMLModel",
          "state": {
            "_view_name": "HTMLView",
            "style": "IPY_MODEL_f46b3297a8164e20bf0078d825f2931f",
            "_dom_classes": [],
            "description": "",
            "_model_name": "HTMLModel",
            "placeholder": "​",
            "_view_module": "@jupyter-widgets/controls",
            "_model_module_version": "1.5.0",
            "value": " 162/162 [51:02&lt;00:00, 18.90s/ MiB]",
            "_view_count": null,
            "_view_module_version": "1.5.0",
            "description_tooltip": null,
            "_model_module": "@jupyter-widgets/controls",
            "layout": "IPY_MODEL_ec329b57112140fa88105e0fc5198cc5"
          }
        },
        "8c4d6da9e64942ea8a1f0ca2524b6568": {
          "model_module": "@jupyter-widgets/controls",
          "model_name": "ProgressStyleModel",
          "state": {
            "_view_name": "StyleView",
            "_model_name": "ProgressStyleModel",
            "description_width": "initial",
            "_view_module": "@jupyter-widgets/base",
            "_model_module_version": "1.5.0",
            "_view_count": null,
            "_view_module_version": "1.2.0",
            "bar_color": null,
            "_model_module": "@jupyter-widgets/controls"
          }
        },
        "eb4d0128091647959258b24492a035cf": {
          "model_module": "@jupyter-widgets/base",
          "model_name": "LayoutModel",
          "state": {
            "_view_name": "LayoutView",
            "grid_template_rows": null,
            "right": null,
            "justify_content": null,
            "_view_module": "@jupyter-widgets/base",
            "overflow": null,
            "_model_module_version": "1.2.0",
            "_view_count": null,
            "flex_flow": null,
            "width": null,
            "min_width": null,
            "border": null,
            "align_items": null,
            "bottom": null,
            "_model_module": "@jupyter-widgets/base",
            "top": null,
            "grid_column": null,
            "overflow_y": null,
            "overflow_x": null,
            "grid_auto_flow": null,
            "grid_area": null,
            "grid_template_columns": null,
            "flex": null,
            "_model_name": "LayoutModel",
            "justify_items": null,
            "grid_row": null,
            "max_height": null,
            "align_content": null,
            "visibility": null,
            "align_self": null,
            "height": null,
            "min_height": null,
            "padding": null,
            "grid_auto_rows": null,
            "grid_gap": null,
            "max_width": null,
            "order": null,
            "_view_module_version": "1.2.0",
            "grid_template_areas": null,
            "object_position": null,
            "object_fit": null,
            "grid_auto_columns": null,
            "margin": null,
            "display": null,
            "left": null
          }
        },
        "f46b3297a8164e20bf0078d825f2931f": {
          "model_module": "@jupyter-widgets/controls",
          "model_name": "DescriptionStyleModel",
          "state": {
            "_view_name": "StyleView",
            "_model_name": "DescriptionStyleModel",
            "description_width": "",
            "_view_module": "@jupyter-widgets/base",
            "_model_module_version": "1.5.0",
            "_view_count": null,
            "_view_module_version": "1.2.0",
            "_model_module": "@jupyter-widgets/controls"
          }
        },
        "ec329b57112140fa88105e0fc5198cc5": {
          "model_module": "@jupyter-widgets/base",
          "model_name": "LayoutModel",
          "state": {
            "_view_name": "LayoutView",
            "grid_template_rows": null,
            "right": null,
            "justify_content": null,
            "_view_module": "@jupyter-widgets/base",
            "overflow": null,
            "_model_module_version": "1.2.0",
            "_view_count": null,
            "flex_flow": null,
            "width": null,
            "min_width": null,
            "border": null,
            "align_items": null,
            "bottom": null,
            "_model_module": "@jupyter-widgets/base",
            "top": null,
            "grid_column": null,
            "overflow_y": null,
            "overflow_x": null,
            "grid_auto_flow": null,
            "grid_area": null,
            "grid_template_columns": null,
            "flex": null,
            "_model_name": "LayoutModel",
            "justify_items": null,
            "grid_row": null,
            "max_height": null,
            "align_content": null,
            "visibility": null,
            "align_self": null,
            "height": null,
            "min_height": null,
            "padding": null,
            "grid_auto_rows": null,
            "grid_gap": null,
            "max_width": null,
            "order": null,
            "_view_module_version": "1.2.0",
            "grid_template_areas": null,
            "object_position": null,
            "object_fit": null,
            "grid_auto_columns": null,
            "margin": null,
            "display": null,
            "left": null
          }
        },
        "b6aa5b26398b492f8251029bdc35dc24": {
          "model_module": "@jupyter-widgets/controls",
          "model_name": "HBoxModel",
          "state": {
            "_view_name": "HBoxView",
            "_dom_classes": [],
            "_model_name": "HBoxModel",
            "_view_module": "@jupyter-widgets/controls",
            "_model_module_version": "1.5.0",
            "_view_count": null,
            "_view_module_version": "1.5.0",
            "box_style": "",
            "layout": "IPY_MODEL_469c7c38f9e34b50b91cf84ac8979d06",
            "_model_module": "@jupyter-widgets/controls",
            "children": [
              "IPY_MODEL_6ff1ed3255094f419b444deb14921130",
              "IPY_MODEL_4f83f16e8ad8444b93447dd68c571cbd"
            ]
          }
        },
        "469c7c38f9e34b50b91cf84ac8979d06": {
          "model_module": "@jupyter-widgets/base",
          "model_name": "LayoutModel",
          "state": {
            "_view_name": "LayoutView",
            "grid_template_rows": null,
            "right": null,
            "justify_content": null,
            "_view_module": "@jupyter-widgets/base",
            "overflow": null,
            "_model_module_version": "1.2.0",
            "_view_count": null,
            "flex_flow": null,
            "width": null,
            "min_width": null,
            "border": null,
            "align_items": null,
            "bottom": null,
            "_model_module": "@jupyter-widgets/base",
            "top": null,
            "grid_column": null,
            "overflow_y": null,
            "overflow_x": null,
            "grid_auto_flow": null,
            "grid_area": null,
            "grid_template_columns": null,
            "flex": null,
            "_model_name": "LayoutModel",
            "justify_items": null,
            "grid_row": null,
            "max_height": null,
            "align_content": null,
            "visibility": null,
            "align_self": null,
            "height": null,
            "min_height": null,
            "padding": null,
            "grid_auto_rows": null,
            "grid_gap": null,
            "max_width": null,
            "order": null,
            "_view_module_version": "1.2.0",
            "grid_template_areas": null,
            "object_position": null,
            "object_fit": null,
            "grid_auto_columns": null,
            "margin": null,
            "display": null,
            "left": null
          }
        },
        "6ff1ed3255094f419b444deb14921130": {
          "model_module": "@jupyter-widgets/controls",
          "model_name": "FloatProgressModel",
          "state": {
            "_view_name": "ProgressView",
            "style": "IPY_MODEL_1daf9e0fa9554f57af2fe938d42dfd94",
            "_dom_classes": [],
            "description": "Extraction completed...: 100%",
            "_model_name": "FloatProgressModel",
            "bar_style": "success",
            "max": 1,
            "_view_module": "@jupyter-widgets/controls",
            "_model_module_version": "1.5.0",
            "value": 1,
            "_view_count": null,
            "_view_module_version": "1.5.0",
            "orientation": "horizontal",
            "min": 0,
            "description_tooltip": null,
            "_model_module": "@jupyter-widgets/controls",
            "layout": "IPY_MODEL_e4f462e3674e4889932b7f5d2e539161"
          }
        },
        "4f83f16e8ad8444b93447dd68c571cbd": {
          "model_module": "@jupyter-widgets/controls",
          "model_name": "HTMLModel",
          "state": {
            "_view_name": "HTMLView",
            "style": "IPY_MODEL_ed67c581294c4fe78686bcdb78776ff8",
            "_dom_classes": [],
            "description": "",
            "_model_name": "HTMLModel",
            "placeholder": "​",
            "_view_module": "@jupyter-widgets/controls",
            "_model_module_version": "1.5.0",
            "value": " 1/1 [00:05&lt;00:00,  5.84s/ file]",
            "_view_count": null,
            "_view_module_version": "1.5.0",
            "description_tooltip": null,
            "_model_module": "@jupyter-widgets/controls",
            "layout": "IPY_MODEL_497e8cf06a7946608007110f90c6a7ac"
          }
        },
        "1daf9e0fa9554f57af2fe938d42dfd94": {
          "model_module": "@jupyter-widgets/controls",
          "model_name": "ProgressStyleModel",
          "state": {
            "_view_name": "StyleView",
            "_model_name": "ProgressStyleModel",
            "description_width": "initial",
            "_view_module": "@jupyter-widgets/base",
            "_model_module_version": "1.5.0",
            "_view_count": null,
            "_view_module_version": "1.2.0",
            "bar_color": null,
            "_model_module": "@jupyter-widgets/controls"
          }
        },
        "e4f462e3674e4889932b7f5d2e539161": {
          "model_module": "@jupyter-widgets/base",
          "model_name": "LayoutModel",
          "state": {
            "_view_name": "LayoutView",
            "grid_template_rows": null,
            "right": null,
            "justify_content": null,
            "_view_module": "@jupyter-widgets/base",
            "overflow": null,
            "_model_module_version": "1.2.0",
            "_view_count": null,
            "flex_flow": null,
            "width": null,
            "min_width": null,
            "border": null,
            "align_items": null,
            "bottom": null,
            "_model_module": "@jupyter-widgets/base",
            "top": null,
            "grid_column": null,
            "overflow_y": null,
            "overflow_x": null,
            "grid_auto_flow": null,
            "grid_area": null,
            "grid_template_columns": null,
            "flex": null,
            "_model_name": "LayoutModel",
            "justify_items": null,
            "grid_row": null,
            "max_height": null,
            "align_content": null,
            "visibility": null,
            "align_self": null,
            "height": null,
            "min_height": null,
            "padding": null,
            "grid_auto_rows": null,
            "grid_gap": null,
            "max_width": null,
            "order": null,
            "_view_module_version": "1.2.0",
            "grid_template_areas": null,
            "object_position": null,
            "object_fit": null,
            "grid_auto_columns": null,
            "margin": null,
            "display": null,
            "left": null
          }
        },
        "ed67c581294c4fe78686bcdb78776ff8": {
          "model_module": "@jupyter-widgets/controls",
          "model_name": "DescriptionStyleModel",
          "state": {
            "_view_name": "StyleView",
            "_model_name": "DescriptionStyleModel",
            "description_width": "",
            "_view_module": "@jupyter-widgets/base",
            "_model_module_version": "1.5.0",
            "_view_count": null,
            "_view_module_version": "1.2.0",
            "_model_module": "@jupyter-widgets/controls"
          }
        },
        "497e8cf06a7946608007110f90c6a7ac": {
          "model_module": "@jupyter-widgets/base",
          "model_name": "LayoutModel",
          "state": {
            "_view_name": "LayoutView",
            "grid_template_rows": null,
            "right": null,
            "justify_content": null,
            "_view_module": "@jupyter-widgets/base",
            "overflow": null,
            "_model_module_version": "1.2.0",
            "_view_count": null,
            "flex_flow": null,
            "width": null,
            "min_width": null,
            "border": null,
            "align_items": null,
            "bottom": null,
            "_model_module": "@jupyter-widgets/base",
            "top": null,
            "grid_column": null,
            "overflow_y": null,
            "overflow_x": null,
            "grid_auto_flow": null,
            "grid_area": null,
            "grid_template_columns": null,
            "flex": null,
            "_model_name": "LayoutModel",
            "justify_items": null,
            "grid_row": null,
            "max_height": null,
            "align_content": null,
            "visibility": null,
            "align_self": null,
            "height": null,
            "min_height": null,
            "padding": null,
            "grid_auto_rows": null,
            "grid_gap": null,
            "max_width": null,
            "order": null,
            "_view_module_version": "1.2.0",
            "grid_template_areas": null,
            "object_position": null,
            "object_fit": null,
            "grid_auto_columns": null,
            "margin": null,
            "display": null,
            "left": null
          }
        },
        "67df471156b248afb8b9c82413d528eb": {
          "model_module": "@jupyter-widgets/controls",
          "model_name": "HBoxModel",
          "state": {
            "_view_name": "HBoxView",
            "_dom_classes": [],
            "_model_name": "HBoxModel",
            "_view_module": "@jupyter-widgets/controls",
            "_model_module_version": "1.5.0",
            "_view_count": null,
            "_view_module_version": "1.5.0",
            "box_style": "",
            "layout": "IPY_MODEL_3ef0f3a096d046a095bb1de5a339428e",
            "_model_module": "@jupyter-widgets/controls",
            "children": [
              "IPY_MODEL_b575948378004c5c9c0f3764c1978daa",
              "IPY_MODEL_0f9ae869db924ad9925c76607d6a6c09"
            ]
          }
        },
        "3ef0f3a096d046a095bb1de5a339428e": {
          "model_module": "@jupyter-widgets/base",
          "model_name": "LayoutModel",
          "state": {
            "_view_name": "LayoutView",
            "grid_template_rows": null,
            "right": null,
            "justify_content": null,
            "_view_module": "@jupyter-widgets/base",
            "overflow": null,
            "_model_module_version": "1.2.0",
            "_view_count": null,
            "flex_flow": null,
            "width": null,
            "min_width": null,
            "border": null,
            "align_items": null,
            "bottom": null,
            "_model_module": "@jupyter-widgets/base",
            "top": null,
            "grid_column": null,
            "overflow_y": null,
            "overflow_x": null,
            "grid_auto_flow": null,
            "grid_area": null,
            "grid_template_columns": null,
            "flex": null,
            "_model_name": "LayoutModel",
            "justify_items": null,
            "grid_row": null,
            "max_height": null,
            "align_content": null,
            "visibility": null,
            "align_self": null,
            "height": null,
            "min_height": null,
            "padding": null,
            "grid_auto_rows": null,
            "grid_gap": null,
            "max_width": null,
            "order": null,
            "_view_module_version": "1.2.0",
            "grid_template_areas": null,
            "object_position": null,
            "object_fit": null,
            "grid_auto_columns": null,
            "margin": null,
            "display": null,
            "left": null
          }
        },
        "b575948378004c5c9c0f3764c1978daa": {
          "model_module": "@jupyter-widgets/controls",
          "model_name": "FloatProgressModel",
          "state": {
            "_view_name": "ProgressView",
            "style": "IPY_MODEL_a806829f15954b4996c021d2f67b5562",
            "_dom_classes": [],
            "description": "",
            "_model_name": "FloatProgressModel",
            "bar_style": "info",
            "max": 1,
            "_view_module": "@jupyter-widgets/controls",
            "_model_module_version": "1.5.0",
            "value": 1,
            "_view_count": null,
            "_view_module_version": "1.5.0",
            "orientation": "horizontal",
            "min": 0,
            "description_tooltip": null,
            "_model_module": "@jupyter-widgets/controls",
            "layout": "IPY_MODEL_ba7dcb2c698c42c49631cac08933ce70"
          }
        },
        "0f9ae869db924ad9925c76607d6a6c09": {
          "model_module": "@jupyter-widgets/controls",
          "model_name": "HTMLModel",
          "state": {
            "_view_name": "HTMLView",
            "style": "IPY_MODEL_fbdbcb2001bb472aa4a3a58d975cec0a",
            "_dom_classes": [],
            "description": "",
            "_model_name": "HTMLModel",
            "placeholder": "​",
            "_view_module": "@jupyter-widgets/controls",
            "_model_module_version": "1.5.0",
            "value": " 50000/0 [00:35&lt;00:00, 1838.23 examples/s]",
            "_view_count": null,
            "_view_module_version": "1.5.0",
            "description_tooltip": null,
            "_model_module": "@jupyter-widgets/controls",
            "layout": "IPY_MODEL_dd3f20bbc349471d93e9857d0002eec6"
          }
        },
        "a806829f15954b4996c021d2f67b5562": {
          "model_module": "@jupyter-widgets/controls",
          "model_name": "ProgressStyleModel",
          "state": {
            "_view_name": "StyleView",
            "_model_name": "ProgressStyleModel",
            "description_width": "initial",
            "_view_module": "@jupyter-widgets/base",
            "_model_module_version": "1.5.0",
            "_view_count": null,
            "_view_module_version": "1.2.0",
            "bar_color": null,
            "_model_module": "@jupyter-widgets/controls"
          }
        },
        "ba7dcb2c698c42c49631cac08933ce70": {
          "model_module": "@jupyter-widgets/base",
          "model_name": "LayoutModel",
          "state": {
            "_view_name": "LayoutView",
            "grid_template_rows": null,
            "right": null,
            "justify_content": null,
            "_view_module": "@jupyter-widgets/base",
            "overflow": null,
            "_model_module_version": "1.2.0",
            "_view_count": null,
            "flex_flow": null,
            "width": null,
            "min_width": null,
            "border": null,
            "align_items": null,
            "bottom": null,
            "_model_module": "@jupyter-widgets/base",
            "top": null,
            "grid_column": null,
            "overflow_y": null,
            "overflow_x": null,
            "grid_auto_flow": null,
            "grid_area": null,
            "grid_template_columns": null,
            "flex": null,
            "_model_name": "LayoutModel",
            "justify_items": null,
            "grid_row": null,
            "max_height": null,
            "align_content": null,
            "visibility": null,
            "align_self": null,
            "height": null,
            "min_height": null,
            "padding": null,
            "grid_auto_rows": null,
            "grid_gap": null,
            "max_width": null,
            "order": null,
            "_view_module_version": "1.2.0",
            "grid_template_areas": null,
            "object_position": null,
            "object_fit": null,
            "grid_auto_columns": null,
            "margin": null,
            "display": null,
            "left": null
          }
        },
        "fbdbcb2001bb472aa4a3a58d975cec0a": {
          "model_module": "@jupyter-widgets/controls",
          "model_name": "DescriptionStyleModel",
          "state": {
            "_view_name": "StyleView",
            "_model_name": "DescriptionStyleModel",
            "description_width": "",
            "_view_module": "@jupyter-widgets/base",
            "_model_module_version": "1.5.0",
            "_view_count": null,
            "_view_module_version": "1.2.0",
            "_model_module": "@jupyter-widgets/controls"
          }
        },
        "dd3f20bbc349471d93e9857d0002eec6": {
          "model_module": "@jupyter-widgets/base",
          "model_name": "LayoutModel",
          "state": {
            "_view_name": "LayoutView",
            "grid_template_rows": null,
            "right": null,
            "justify_content": null,
            "_view_module": "@jupyter-widgets/base",
            "overflow": null,
            "_model_module_version": "1.2.0",
            "_view_count": null,
            "flex_flow": null,
            "width": null,
            "min_width": null,
            "border": null,
            "align_items": null,
            "bottom": null,
            "_model_module": "@jupyter-widgets/base",
            "top": null,
            "grid_column": null,
            "overflow_y": null,
            "overflow_x": null,
            "grid_auto_flow": null,
            "grid_area": null,
            "grid_template_columns": null,
            "flex": null,
            "_model_name": "LayoutModel",
            "justify_items": null,
            "grid_row": null,
            "max_height": null,
            "align_content": null,
            "visibility": null,
            "align_self": null,
            "height": null,
            "min_height": null,
            "padding": null,
            "grid_auto_rows": null,
            "grid_gap": null,
            "max_width": null,
            "order": null,
            "_view_module_version": "1.2.0",
            "grid_template_areas": null,
            "object_position": null,
            "object_fit": null,
            "grid_auto_columns": null,
            "margin": null,
            "display": null,
            "left": null
          }
        },
        "a7fa98b5564849ae9e1bd9a1f28ca0ff": {
          "model_module": "@jupyter-widgets/controls",
          "model_name": "HBoxModel",
          "state": {
            "_view_name": "HBoxView",
            "_dom_classes": [],
            "_model_name": "HBoxModel",
            "_view_module": "@jupyter-widgets/controls",
            "_model_module_version": "1.5.0",
            "_view_count": null,
            "_view_module_version": "1.5.0",
            "box_style": "",
            "layout": "IPY_MODEL_819a724468a04c51a71462df03e4cc45",
            "_model_module": "@jupyter-widgets/controls",
            "children": [
              "IPY_MODEL_e9c3ac8ad22546f0896cb7176a707382",
              "IPY_MODEL_3940d2e31c8242cda647b7d4d9bf5fea"
            ]
          }
        },
        "819a724468a04c51a71462df03e4cc45": {
          "model_module": "@jupyter-widgets/base",
          "model_name": "LayoutModel",
          "state": {
            "_view_name": "LayoutView",
            "grid_template_rows": null,
            "right": null,
            "justify_content": null,
            "_view_module": "@jupyter-widgets/base",
            "overflow": null,
            "_model_module_version": "1.2.0",
            "_view_count": null,
            "flex_flow": null,
            "width": null,
            "min_width": null,
            "border": null,
            "align_items": null,
            "bottom": null,
            "_model_module": "@jupyter-widgets/base",
            "top": null,
            "grid_column": null,
            "overflow_y": null,
            "overflow_x": null,
            "grid_auto_flow": null,
            "grid_area": null,
            "grid_template_columns": null,
            "flex": null,
            "_model_name": "LayoutModel",
            "justify_items": null,
            "grid_row": null,
            "max_height": null,
            "align_content": null,
            "visibility": null,
            "align_self": null,
            "height": null,
            "min_height": null,
            "padding": null,
            "grid_auto_rows": null,
            "grid_gap": null,
            "max_width": null,
            "order": null,
            "_view_module_version": "1.2.0",
            "grid_template_areas": null,
            "object_position": null,
            "object_fit": null,
            "grid_auto_columns": null,
            "margin": null,
            "display": null,
            "left": null
          }
        },
        "e9c3ac8ad22546f0896cb7176a707382": {
          "model_module": "@jupyter-widgets/controls",
          "model_name": "FloatProgressModel",
          "state": {
            "_view_name": "ProgressView",
            "style": "IPY_MODEL_430723a3a5694095aa725a78b9a9695e",
            "_dom_classes": [],
            "description": " 96%",
            "_model_name": "FloatProgressModel",
            "bar_style": "danger",
            "max": 50000,
            "_view_module": "@jupyter-widgets/controls",
            "_model_module_version": "1.5.0",
            "value": 48100,
            "_view_count": null,
            "_view_module_version": "1.5.0",
            "orientation": "horizontal",
            "min": 0,
            "description_tooltip": null,
            "_model_module": "@jupyter-widgets/controls",
            "layout": "IPY_MODEL_dc9438bb2c7c41c6a7081d9bb5856767"
          }
        },
        "3940d2e31c8242cda647b7d4d9bf5fea": {
          "model_module": "@jupyter-widgets/controls",
          "model_name": "HTMLModel",
          "state": {
            "_view_name": "HTMLView",
            "style": "IPY_MODEL_fa27bc8613944c4481107f011ec3570b",
            "_dom_classes": [],
            "description": "",
            "_model_name": "HTMLModel",
            "placeholder": "​",
            "_view_module": "@jupyter-widgets/controls",
            "_model_module_version": "1.5.0",
            "value": " 48100/50000 [00:00&lt;00:00, 109321.40 examples/s]",
            "_view_count": null,
            "_view_module_version": "1.5.0",
            "description_tooltip": null,
            "_model_module": "@jupyter-widgets/controls",
            "layout": "IPY_MODEL_ee692ac73cb047eb9b2cb5eeaff4a1b3"
          }
        },
        "430723a3a5694095aa725a78b9a9695e": {
          "model_module": "@jupyter-widgets/controls",
          "model_name": "ProgressStyleModel",
          "state": {
            "_view_name": "StyleView",
            "_model_name": "ProgressStyleModel",
            "description_width": "initial",
            "_view_module": "@jupyter-widgets/base",
            "_model_module_version": "1.5.0",
            "_view_count": null,
            "_view_module_version": "1.2.0",
            "bar_color": null,
            "_model_module": "@jupyter-widgets/controls"
          }
        },
        "dc9438bb2c7c41c6a7081d9bb5856767": {
          "model_module": "@jupyter-widgets/base",
          "model_name": "LayoutModel",
          "state": {
            "_view_name": "LayoutView",
            "grid_template_rows": null,
            "right": null,
            "justify_content": null,
            "_view_module": "@jupyter-widgets/base",
            "overflow": null,
            "_model_module_version": "1.2.0",
            "_view_count": null,
            "flex_flow": null,
            "width": null,
            "min_width": null,
            "border": null,
            "align_items": null,
            "bottom": null,
            "_model_module": "@jupyter-widgets/base",
            "top": null,
            "grid_column": null,
            "overflow_y": null,
            "overflow_x": null,
            "grid_auto_flow": null,
            "grid_area": null,
            "grid_template_columns": null,
            "flex": null,
            "_model_name": "LayoutModel",
            "justify_items": null,
            "grid_row": null,
            "max_height": null,
            "align_content": null,
            "visibility": null,
            "align_self": null,
            "height": null,
            "min_height": null,
            "padding": null,
            "grid_auto_rows": null,
            "grid_gap": null,
            "max_width": null,
            "order": null,
            "_view_module_version": "1.2.0",
            "grid_template_areas": null,
            "object_position": null,
            "object_fit": null,
            "grid_auto_columns": null,
            "margin": null,
            "display": null,
            "left": null
          }
        },
        "fa27bc8613944c4481107f011ec3570b": {
          "model_module": "@jupyter-widgets/controls",
          "model_name": "DescriptionStyleModel",
          "state": {
            "_view_name": "StyleView",
            "_model_name": "DescriptionStyleModel",
            "description_width": "",
            "_view_module": "@jupyter-widgets/base",
            "_model_module_version": "1.5.0",
            "_view_count": null,
            "_view_module_version": "1.2.0",
            "_model_module": "@jupyter-widgets/controls"
          }
        },
        "ee692ac73cb047eb9b2cb5eeaff4a1b3": {
          "model_module": "@jupyter-widgets/base",
          "model_name": "LayoutModel",
          "state": {
            "_view_name": "LayoutView",
            "grid_template_rows": null,
            "right": null,
            "justify_content": null,
            "_view_module": "@jupyter-widgets/base",
            "overflow": null,
            "_model_module_version": "1.2.0",
            "_view_count": null,
            "flex_flow": null,
            "width": null,
            "min_width": null,
            "border": null,
            "align_items": null,
            "bottom": null,
            "_model_module": "@jupyter-widgets/base",
            "top": null,
            "grid_column": null,
            "overflow_y": null,
            "overflow_x": null,
            "grid_auto_flow": null,
            "grid_area": null,
            "grid_template_columns": null,
            "flex": null,
            "_model_name": "LayoutModel",
            "justify_items": null,
            "grid_row": null,
            "max_height": null,
            "align_content": null,
            "visibility": null,
            "align_self": null,
            "height": null,
            "min_height": null,
            "padding": null,
            "grid_auto_rows": null,
            "grid_gap": null,
            "max_width": null,
            "order": null,
            "_view_module_version": "1.2.0",
            "grid_template_areas": null,
            "object_position": null,
            "object_fit": null,
            "grid_auto_columns": null,
            "margin": null,
            "display": null,
            "left": null
          }
        },
        "d00bf1d3744d4ed7bc3930b7d3a5784d": {
          "model_module": "@jupyter-widgets/controls",
          "model_name": "HBoxModel",
          "state": {
            "_view_name": "HBoxView",
            "_dom_classes": [],
            "_model_name": "HBoxModel",
            "_view_module": "@jupyter-widgets/controls",
            "_model_module_version": "1.5.0",
            "_view_count": null,
            "_view_module_version": "1.5.0",
            "box_style": "",
            "layout": "IPY_MODEL_a03ab24e60de4df0937e546b6aa80163",
            "_model_module": "@jupyter-widgets/controls",
            "children": [
              "IPY_MODEL_8529e9c7073c40c3867eda06c4fecb33",
              "IPY_MODEL_b3636b5034b24e87b43ba1d1a1ad2fde"
            ]
          }
        },
        "a03ab24e60de4df0937e546b6aa80163": {
          "model_module": "@jupyter-widgets/base",
          "model_name": "LayoutModel",
          "state": {
            "_view_name": "LayoutView",
            "grid_template_rows": null,
            "right": null,
            "justify_content": null,
            "_view_module": "@jupyter-widgets/base",
            "overflow": null,
            "_model_module_version": "1.2.0",
            "_view_count": null,
            "flex_flow": null,
            "width": null,
            "min_width": null,
            "border": null,
            "align_items": null,
            "bottom": null,
            "_model_module": "@jupyter-widgets/base",
            "top": null,
            "grid_column": null,
            "overflow_y": null,
            "overflow_x": null,
            "grid_auto_flow": null,
            "grid_area": null,
            "grid_template_columns": null,
            "flex": null,
            "_model_name": "LayoutModel",
            "justify_items": null,
            "grid_row": null,
            "max_height": null,
            "align_content": null,
            "visibility": null,
            "align_self": null,
            "height": null,
            "min_height": null,
            "padding": null,
            "grid_auto_rows": null,
            "grid_gap": null,
            "max_width": null,
            "order": null,
            "_view_module_version": "1.2.0",
            "grid_template_areas": null,
            "object_position": null,
            "object_fit": null,
            "grid_auto_columns": null,
            "margin": null,
            "display": null,
            "left": null
          }
        },
        "8529e9c7073c40c3867eda06c4fecb33": {
          "model_module": "@jupyter-widgets/controls",
          "model_name": "FloatProgressModel",
          "state": {
            "_view_name": "ProgressView",
            "style": "IPY_MODEL_beedd3479b12446fb34bc2816ffd50ba",
            "_dom_classes": [],
            "description": "",
            "_model_name": "FloatProgressModel",
            "bar_style": "info",
            "max": 1,
            "_view_module": "@jupyter-widgets/controls",
            "_model_module_version": "1.5.0",
            "value": 1,
            "_view_count": null,
            "_view_module_version": "1.5.0",
            "orientation": "horizontal",
            "min": 0,
            "description_tooltip": null,
            "_model_module": "@jupyter-widgets/controls",
            "layout": "IPY_MODEL_8bbbb6eab5974f53bdb665d1740da6de"
          }
        },
        "b3636b5034b24e87b43ba1d1a1ad2fde": {
          "model_module": "@jupyter-widgets/controls",
          "model_name": "HTMLModel",
          "state": {
            "_view_name": "HTMLView",
            "style": "IPY_MODEL_bf6da682ea25466da8f7d1a37f4e6c98",
            "_dom_classes": [],
            "description": "",
            "_model_name": "HTMLModel",
            "placeholder": "​",
            "_view_module": "@jupyter-widgets/controls",
            "_model_module_version": "1.5.0",
            "value": " 10000/0 [00:05&lt;00:00, 1754.69 examples/s]",
            "_view_count": null,
            "_view_module_version": "1.5.0",
            "description_tooltip": null,
            "_model_module": "@jupyter-widgets/controls",
            "layout": "IPY_MODEL_7170ee4988fe4e1098770dd4bccd5478"
          }
        },
        "beedd3479b12446fb34bc2816ffd50ba": {
          "model_module": "@jupyter-widgets/controls",
          "model_name": "ProgressStyleModel",
          "state": {
            "_view_name": "StyleView",
            "_model_name": "ProgressStyleModel",
            "description_width": "initial",
            "_view_module": "@jupyter-widgets/base",
            "_model_module_version": "1.5.0",
            "_view_count": null,
            "_view_module_version": "1.2.0",
            "bar_color": null,
            "_model_module": "@jupyter-widgets/controls"
          }
        },
        "8bbbb6eab5974f53bdb665d1740da6de": {
          "model_module": "@jupyter-widgets/base",
          "model_name": "LayoutModel",
          "state": {
            "_view_name": "LayoutView",
            "grid_template_rows": null,
            "right": null,
            "justify_content": null,
            "_view_module": "@jupyter-widgets/base",
            "overflow": null,
            "_model_module_version": "1.2.0",
            "_view_count": null,
            "flex_flow": null,
            "width": null,
            "min_width": null,
            "border": null,
            "align_items": null,
            "bottom": null,
            "_model_module": "@jupyter-widgets/base",
            "top": null,
            "grid_column": null,
            "overflow_y": null,
            "overflow_x": null,
            "grid_auto_flow": null,
            "grid_area": null,
            "grid_template_columns": null,
            "flex": null,
            "_model_name": "LayoutModel",
            "justify_items": null,
            "grid_row": null,
            "max_height": null,
            "align_content": null,
            "visibility": null,
            "align_self": null,
            "height": null,
            "min_height": null,
            "padding": null,
            "grid_auto_rows": null,
            "grid_gap": null,
            "max_width": null,
            "order": null,
            "_view_module_version": "1.2.0",
            "grid_template_areas": null,
            "object_position": null,
            "object_fit": null,
            "grid_auto_columns": null,
            "margin": null,
            "display": null,
            "left": null
          }
        },
        "bf6da682ea25466da8f7d1a37f4e6c98": {
          "model_module": "@jupyter-widgets/controls",
          "model_name": "DescriptionStyleModel",
          "state": {
            "_view_name": "StyleView",
            "_model_name": "DescriptionStyleModel",
            "description_width": "",
            "_view_module": "@jupyter-widgets/base",
            "_model_module_version": "1.5.0",
            "_view_count": null,
            "_view_module_version": "1.2.0",
            "_model_module": "@jupyter-widgets/controls"
          }
        },
        "7170ee4988fe4e1098770dd4bccd5478": {
          "model_module": "@jupyter-widgets/base",
          "model_name": "LayoutModel",
          "state": {
            "_view_name": "LayoutView",
            "grid_template_rows": null,
            "right": null,
            "justify_content": null,
            "_view_module": "@jupyter-widgets/base",
            "overflow": null,
            "_model_module_version": "1.2.0",
            "_view_count": null,
            "flex_flow": null,
            "width": null,
            "min_width": null,
            "border": null,
            "align_items": null,
            "bottom": null,
            "_model_module": "@jupyter-widgets/base",
            "top": null,
            "grid_column": null,
            "overflow_y": null,
            "overflow_x": null,
            "grid_auto_flow": null,
            "grid_area": null,
            "grid_template_columns": null,
            "flex": null,
            "_model_name": "LayoutModel",
            "justify_items": null,
            "grid_row": null,
            "max_height": null,
            "align_content": null,
            "visibility": null,
            "align_self": null,
            "height": null,
            "min_height": null,
            "padding": null,
            "grid_auto_rows": null,
            "grid_gap": null,
            "max_width": null,
            "order": null,
            "_view_module_version": "1.2.0",
            "grid_template_areas": null,
            "object_position": null,
            "object_fit": null,
            "grid_auto_columns": null,
            "margin": null,
            "display": null,
            "left": null
          }
        },
        "0553f91e483648cea66fc6e7924e3575": {
          "model_module": "@jupyter-widgets/controls",
          "model_name": "HBoxModel",
          "state": {
            "_view_name": "HBoxView",
            "_dom_classes": [],
            "_model_name": "HBoxModel",
            "_view_module": "@jupyter-widgets/controls",
            "_model_module_version": "1.5.0",
            "_view_count": null,
            "_view_module_version": "1.5.0",
            "box_style": "",
            "layout": "IPY_MODEL_4896e97b43394300a603c158821037ea",
            "_model_module": "@jupyter-widgets/controls",
            "children": [
              "IPY_MODEL_f9a99c542b74430ea497df6b1c6d24db",
              "IPY_MODEL_94a248cb5d7844b5a57fa636a595ab10"
            ]
          }
        },
        "4896e97b43394300a603c158821037ea": {
          "model_module": "@jupyter-widgets/base",
          "model_name": "LayoutModel",
          "state": {
            "_view_name": "LayoutView",
            "grid_template_rows": null,
            "right": null,
            "justify_content": null,
            "_view_module": "@jupyter-widgets/base",
            "overflow": null,
            "_model_module_version": "1.2.0",
            "_view_count": null,
            "flex_flow": null,
            "width": null,
            "min_width": null,
            "border": null,
            "align_items": null,
            "bottom": null,
            "_model_module": "@jupyter-widgets/base",
            "top": null,
            "grid_column": null,
            "overflow_y": null,
            "overflow_x": null,
            "grid_auto_flow": null,
            "grid_area": null,
            "grid_template_columns": null,
            "flex": null,
            "_model_name": "LayoutModel",
            "justify_items": null,
            "grid_row": null,
            "max_height": null,
            "align_content": null,
            "visibility": null,
            "align_self": null,
            "height": null,
            "min_height": null,
            "padding": null,
            "grid_auto_rows": null,
            "grid_gap": null,
            "max_width": null,
            "order": null,
            "_view_module_version": "1.2.0",
            "grid_template_areas": null,
            "object_position": null,
            "object_fit": null,
            "grid_auto_columns": null,
            "margin": null,
            "display": null,
            "left": null
          }
        },
        "f9a99c542b74430ea497df6b1c6d24db": {
          "model_module": "@jupyter-widgets/controls",
          "model_name": "FloatProgressModel",
          "state": {
            "_view_name": "ProgressView",
            "style": "IPY_MODEL_5d8bd3ddf8b74de39e21df3c2879cd40",
            "_dom_classes": [],
            "description": "  0%",
            "_model_name": "FloatProgressModel",
            "bar_style": "danger",
            "max": 10000,
            "_view_module": "@jupyter-widgets/controls",
            "_model_module_version": "1.5.0",
            "value": 0,
            "_view_count": null,
            "_view_module_version": "1.5.0",
            "orientation": "horizontal",
            "min": 0,
            "description_tooltip": null,
            "_model_module": "@jupyter-widgets/controls",
            "layout": "IPY_MODEL_6e1db3f59ed84c30b477261f1f8e1c2e"
          }
        },
        "94a248cb5d7844b5a57fa636a595ab10": {
          "model_module": "@jupyter-widgets/controls",
          "model_name": "HTMLModel",
          "state": {
            "_view_name": "HTMLView",
            "style": "IPY_MODEL_6144d31ec95947f29894a6514693b0f1",
            "_dom_classes": [],
            "description": "",
            "_model_name": "HTMLModel",
            "placeholder": "​",
            "_view_module": "@jupyter-widgets/controls",
            "_model_module_version": "1.5.0",
            "value": " 0/10000 [00:00&lt;?, ? examples/s]",
            "_view_count": null,
            "_view_module_version": "1.5.0",
            "description_tooltip": null,
            "_model_module": "@jupyter-widgets/controls",
            "layout": "IPY_MODEL_603ae4780ef54afb8b39c33686c93177"
          }
        },
        "5d8bd3ddf8b74de39e21df3c2879cd40": {
          "model_module": "@jupyter-widgets/controls",
          "model_name": "ProgressStyleModel",
          "state": {
            "_view_name": "StyleView",
            "_model_name": "ProgressStyleModel",
            "description_width": "initial",
            "_view_module": "@jupyter-widgets/base",
            "_model_module_version": "1.5.0",
            "_view_count": null,
            "_view_module_version": "1.2.0",
            "bar_color": null,
            "_model_module": "@jupyter-widgets/controls"
          }
        },
        "6e1db3f59ed84c30b477261f1f8e1c2e": {
          "model_module": "@jupyter-widgets/base",
          "model_name": "LayoutModel",
          "state": {
            "_view_name": "LayoutView",
            "grid_template_rows": null,
            "right": null,
            "justify_content": null,
            "_view_module": "@jupyter-widgets/base",
            "overflow": null,
            "_model_module_version": "1.2.0",
            "_view_count": null,
            "flex_flow": null,
            "width": null,
            "min_width": null,
            "border": null,
            "align_items": null,
            "bottom": null,
            "_model_module": "@jupyter-widgets/base",
            "top": null,
            "grid_column": null,
            "overflow_y": null,
            "overflow_x": null,
            "grid_auto_flow": null,
            "grid_area": null,
            "grid_template_columns": null,
            "flex": null,
            "_model_name": "LayoutModel",
            "justify_items": null,
            "grid_row": null,
            "max_height": null,
            "align_content": null,
            "visibility": null,
            "align_self": null,
            "height": null,
            "min_height": null,
            "padding": null,
            "grid_auto_rows": null,
            "grid_gap": null,
            "max_width": null,
            "order": null,
            "_view_module_version": "1.2.0",
            "grid_template_areas": null,
            "object_position": null,
            "object_fit": null,
            "grid_auto_columns": null,
            "margin": null,
            "display": null,
            "left": null
          }
        },
        "6144d31ec95947f29894a6514693b0f1": {
          "model_module": "@jupyter-widgets/controls",
          "model_name": "DescriptionStyleModel",
          "state": {
            "_view_name": "StyleView",
            "_model_name": "DescriptionStyleModel",
            "description_width": "",
            "_view_module": "@jupyter-widgets/base",
            "_model_module_version": "1.5.0",
            "_view_count": null,
            "_view_module_version": "1.2.0",
            "_model_module": "@jupyter-widgets/controls"
          }
        },
        "603ae4780ef54afb8b39c33686c93177": {
          "model_module": "@jupyter-widgets/base",
          "model_name": "LayoutModel",
          "state": {
            "_view_name": "LayoutView",
            "grid_template_rows": null,
            "right": null,
            "justify_content": null,
            "_view_module": "@jupyter-widgets/base",
            "overflow": null,
            "_model_module_version": "1.2.0",
            "_view_count": null,
            "flex_flow": null,
            "width": null,
            "min_width": null,
            "border": null,
            "align_items": null,
            "bottom": null,
            "_model_module": "@jupyter-widgets/base",
            "top": null,
            "grid_column": null,
            "overflow_y": null,
            "overflow_x": null,
            "grid_auto_flow": null,
            "grid_area": null,
            "grid_template_columns": null,
            "flex": null,
            "_model_name": "LayoutModel",
            "justify_items": null,
            "grid_row": null,
            "max_height": null,
            "align_content": null,
            "visibility": null,
            "align_self": null,
            "height": null,
            "min_height": null,
            "padding": null,
            "grid_auto_rows": null,
            "grid_gap": null,
            "max_width": null,
            "order": null,
            "_view_module_version": "1.2.0",
            "grid_template_areas": null,
            "object_position": null,
            "object_fit": null,
            "grid_auto_columns": null,
            "margin": null,
            "display": null,
            "left": null
          }
        }
      }
    }
  },
  "cells": [
    {
      "cell_type": "code",
      "metadata": {
        "id": "TzCH-gJB08t8",
        "colab_type": "code",
        "colab": {}
      },
      "source": [
        "import tensorflow as tf\n",
        "import tensorflow_datasets as tfds\n",
        "from tensorflow.python.client import device_lib"
      ],
      "execution_count": null,
      "outputs": []
    },
    {
      "cell_type": "code",
      "metadata": {
        "id": "YgJUswxy9v_t",
        "colab_type": "code",
        "colab": {
          "base_uri": "https://localhost:8080/",
          "height": 714
        },
        "outputId": "0260d8c0-1c62-40e9-c350-6eeff8491c9c"
      },
      "source": [
        "print('TensorFlow version: '  + tf.__version__ + '\\n')\n",
        "print('GPU Availability: '    + str(tf.test.is_gpu_available()) + '\\n')\n",
        "print('GPU Device Name: '     + tf.test.gpu_device_name() + '\\n')\n",
        "print('Information of Devices:')\n",
        "print(device_lib.list_local_devices())"
      ],
      "execution_count": null,
      "outputs": [
        {
          "output_type": "stream",
          "text": [
            "TensorFlow version: 2.2.0\n",
            "\n",
            "WARNING:tensorflow:From <ipython-input-2-97a1b80b85f1>:2: is_gpu_available (from tensorflow.python.framework.test_util) is deprecated and will be removed in a future version.\n",
            "Instructions for updating:\n",
            "Use `tf.config.list_physical_devices('GPU')` instead.\n",
            "GPU Availability: True\n",
            "\n",
            "GPU Device Name: /device:GPU:0\n",
            "\n",
            "Information of Devices:\n",
            "[name: \"/device:CPU:0\"\n",
            "device_type: \"CPU\"\n",
            "memory_limit: 268435456\n",
            "locality {\n",
            "}\n",
            "incarnation: 5687357026426779007\n",
            ", name: \"/device:XLA_CPU:0\"\n",
            "device_type: \"XLA_CPU\"\n",
            "memory_limit: 17179869184\n",
            "locality {\n",
            "}\n",
            "incarnation: 3222914596316194710\n",
            "physical_device_desc: \"device: XLA_CPU device\"\n",
            ", name: \"/device:XLA_GPU:0\"\n",
            "device_type: \"XLA_GPU\"\n",
            "memory_limit: 17179869184\n",
            "locality {\n",
            "}\n",
            "incarnation: 549613346319375953\n",
            "physical_device_desc: \"device: XLA_GPU device\"\n",
            ", name: \"/device:GPU:0\"\n",
            "device_type: \"GPU\"\n",
            "memory_limit: 15701463552\n",
            "locality {\n",
            "  bus_id: 1\n",
            "  links {\n",
            "  }\n",
            "}\n",
            "incarnation: 9663177593942232232\n",
            "physical_device_desc: \"device: 0, name: Tesla P100-PCIE-16GB, pci bus id: 0000:00:04.0, compute capability: 6.0\"\n",
            "]\n"
          ],
          "name": "stdout"
        }
      ]
    },
    {
      "cell_type": "code",
      "metadata": {
        "id": "R3HFyZcy0VyK",
        "colab_type": "code",
        "colab": {}
      },
      "source": [
        ""
      ],
      "execution_count": null,
      "outputs": []
    },
    {
      "cell_type": "code",
      "metadata": {
        "id": "Q7e5p8hl99eR",
        "colab_type": "code",
        "colab": {}
      },
      "source": [
        "import tensorflow.keras as keras\n",
        " \n",
        "input_shape = (28, 28, 3)\n",
        "num_class = 10\n",
        " \n",
        "model = keras.models.Sequential()\n",
        "model.add(keras.layers.Conv2D(32, kernel_size=(3, 3),\n",
        "                                  activation='relu',\n",
        "                                  input_shape=input_shape))\n",
        "model.add(keras.layers.Conv2D(64, (3, 3), activation='relu'))\n",
        "model.add(keras.layers.MaxPooling2D(pool_size=(2, 2)))\n",
        "model.add(keras.layers.Dropout(0.25))\n",
        "model.add(keras.layers.Flatten())\n",
        "model.add(keras.layers.Dense(128, activation='relu'))\n",
        "model.add(keras.layers.Dropout(0.5))\n",
        "model.add(keras.layers.Dense(num_class, activation='softmax'))\n",
        "model.compile(optimizer=tf.optimizers.Adam(learning_rate=0.001),\n",
        "               loss='sparse_categorical_crossentropy',\n",
        "               metrics=['accuracy'])"
      ],
      "execution_count": null,
      "outputs": []
    },
    {
      "cell_type": "code",
      "metadata": {
        "id": "hYVIpLQRAkCB",
        "colab_type": "code",
        "colab": {}
      },
      "source": [
        "mnist_dataset = keras.datasets.mnist\n",
        "(mnist_features_train, mnist_labels_train), _ = mnist_dataset.load_data()"
      ],
      "execution_count": null,
      "outputs": []
    },
    {
      "cell_type": "code",
      "metadata": {
        "id": "K8uxUYW8Bnof",
        "colab_type": "code",
        "colab": {}
      },
      "source": [
        "mnist_features_train = tf.cast(mnist_features_train, tf.float32)\n",
        "mnist_features_train = mnist_features_train / 255.0"
      ],
      "execution_count": null,
      "outputs": []
    },
    {
      "cell_type": "code",
      "metadata": {
        "id": "_4m7t5qxAnR0",
        "colab_type": "code",
        "colab": {}
      },
      "source": [
        "mnist_features_train = tf.reshape(mnist_features_train, (60000, 28, 28, 1))\n",
        "mnist_features_train = tf.image.grayscale_to_rgb(mnist_features_train)"
      ],
      "execution_count": null,
      "outputs": []
    },
    {
      "cell_type": "code",
      "metadata": {
        "id": "bJPvZJYOA0Lk",
        "colab_type": "code",
        "colab": {
          "base_uri": "https://localhost:8080/",
          "height": 867
        },
        "outputId": "ce55b3e6-2f5b-403f-9295-85430eb7605f"
      },
      "source": [
        "mnist_features_train[0]"
      ],
      "execution_count": null,
      "outputs": [
        {
          "output_type": "execute_result",
          "data": {
            "text/plain": [
              "<tf.Tensor: shape=(28, 28, 3), dtype=float32, numpy=\n",
              "array([[[0., 0., 0.],\n",
              "        [0., 0., 0.],\n",
              "        [0., 0., 0.],\n",
              "        ...,\n",
              "        [0., 0., 0.],\n",
              "        [0., 0., 0.],\n",
              "        [0., 0., 0.]],\n",
              "\n",
              "       [[0., 0., 0.],\n",
              "        [0., 0., 0.],\n",
              "        [0., 0., 0.],\n",
              "        ...,\n",
              "        [0., 0., 0.],\n",
              "        [0., 0., 0.],\n",
              "        [0., 0., 0.]],\n",
              "\n",
              "       [[0., 0., 0.],\n",
              "        [0., 0., 0.],\n",
              "        [0., 0., 0.],\n",
              "        ...,\n",
              "        [0., 0., 0.],\n",
              "        [0., 0., 0.],\n",
              "        [0., 0., 0.]],\n",
              "\n",
              "       ...,\n",
              "\n",
              "       [[0., 0., 0.],\n",
              "        [0., 0., 0.],\n",
              "        [0., 0., 0.],\n",
              "        ...,\n",
              "        [0., 0., 0.],\n",
              "        [0., 0., 0.],\n",
              "        [0., 0., 0.]],\n",
              "\n",
              "       [[0., 0., 0.],\n",
              "        [0., 0., 0.],\n",
              "        [0., 0., 0.],\n",
              "        ...,\n",
              "        [0., 0., 0.],\n",
              "        [0., 0., 0.],\n",
              "        [0., 0., 0.]],\n",
              "\n",
              "       [[0., 0., 0.],\n",
              "        [0., 0., 0.],\n",
              "        [0., 0., 0.],\n",
              "        ...,\n",
              "        [0., 0., 0.],\n",
              "        [0., 0., 0.],\n",
              "        [0., 0., 0.]]], dtype=float32)>"
            ]
          },
          "metadata": {
            "tags": []
          },
          "execution_count": 11
        }
      ]
    },
    {
      "cell_type": "code",
      "metadata": {
        "id": "usVg9OXhBxGM",
        "colab_type": "code",
        "colab": {}
      },
      "source": [
        "split_ratio = 0.3\n",
        "epochs = 10"
      ],
      "execution_count": null,
      "outputs": []
    },
    {
      "cell_type": "code",
      "metadata": {
        "id": "xFHfChdzB1Fr",
        "colab_type": "code",
        "colab": {
          "base_uri": "https://localhost:8080/",
          "height": 357
        },
        "outputId": "cc695592-a5aa-4cf5-9c93-8fde86bb42ab"
      },
      "source": [
        "history = model.fit(mnist_features_train, mnist_labels_train, epochs=epochs, validation_split=split_ratio)"
      ],
      "execution_count": null,
      "outputs": [
        {
          "output_type": "stream",
          "text": [
            "Epoch 1/10\n",
            "1313/1313 [==============================] - 6s 5ms/step - loss: 0.2114 - accuracy: 0.9352 - val_loss: 0.0736 - val_accuracy: 0.9779\n",
            "Epoch 2/10\n",
            "1313/1313 [==============================] - 6s 5ms/step - loss: 0.0871 - accuracy: 0.9743 - val_loss: 0.0560 - val_accuracy: 0.9836\n",
            "Epoch 3/10\n",
            "1313/1313 [==============================] - 6s 5ms/step - loss: 0.0643 - accuracy: 0.9798 - val_loss: 0.0453 - val_accuracy: 0.9868\n",
            "Epoch 4/10\n",
            "1313/1313 [==============================] - 6s 5ms/step - loss: 0.0556 - accuracy: 0.9830 - val_loss: 0.0430 - val_accuracy: 0.9873\n",
            "Epoch 5/10\n",
            "1313/1313 [==============================] - 6s 5ms/step - loss: 0.0439 - accuracy: 0.9860 - val_loss: 0.0445 - val_accuracy: 0.9879\n",
            "Epoch 6/10\n",
            "1313/1313 [==============================] - 6s 5ms/step - loss: 0.0398 - accuracy: 0.9880 - val_loss: 0.0439 - val_accuracy: 0.9878\n",
            "Epoch 7/10\n",
            "1313/1313 [==============================] - 6s 5ms/step - loss: 0.0366 - accuracy: 0.9883 - val_loss: 0.0452 - val_accuracy: 0.9876\n",
            "Epoch 8/10\n",
            "1313/1313 [==============================] - 6s 5ms/step - loss: 0.0303 - accuracy: 0.9902 - val_loss: 0.0420 - val_accuracy: 0.9897\n",
            "Epoch 9/10\n",
            "1313/1313 [==============================] - 6s 5ms/step - loss: 0.0286 - accuracy: 0.9905 - val_loss: 0.0452 - val_accuracy: 0.9885\n",
            "Epoch 10/10\n",
            "1313/1313 [==============================] - 6s 5ms/step - loss: 0.0270 - accuracy: 0.9906 - val_loss: 0.0450 - val_accuracy: 0.9896\n"
          ],
          "name": "stdout"
        }
      ]
    },
    {
      "cell_type": "code",
      "metadata": {
        "id": "uLj99KpcB2-X",
        "colab_type": "code",
        "colab": {
          "base_uri": "https://localhost:8080/",
          "height": 334
        },
        "outputId": "d89af337-4cfd-45bb-b0f5-26ecb9880287"
      },
      "source": [
        "import matplotlib.pyplot as plt\n",
        "\n",
        "fig, (loss_ax, acc_ax) = plt.subplots(1, 2, figsize=(20,5))\n",
        "\n",
        "loss_ax.plot(history.history['loss'], 'y', label='train loss')\n",
        "loss_ax.plot(history.history['val_loss'], 'r', label='val loss')\n",
        "loss_ax.set_xlabel('epoch')\n",
        "loss_ax.set_ylabel('loss')\n",
        "loss_ax.legend(loc='upper left')\n",
        "\n",
        "acc_ax.plot(history.history['accuracy'], 'b', label='train acc')\n",
        "acc_ax.plot(history.history['val_accuracy'], 'g', label='val acc')\n",
        "acc_ax.set_xlabel('epoch')\n",
        "acc_ax.set_ylabel('accuracy')\n",
        "acc_ax.legend(loc='upper left')\n",
        "\n",
        "plt.show()"
      ],
      "execution_count": null,
      "outputs": [
        {
          "output_type": "display_data",
          "data": {
            "image/png": "[encoded data removed]",
            "text/plain": [
              "<Figure size 1440x360 with 2 Axes>"
            ]
          },
          "metadata": {
            "tags": [],
            "needs_background": "light"
          }
        }
      ]
    },
    {
      "cell_type": "code",
      "metadata": {
        "id": "6tp0HApvz3rL",
        "colab_type": "code",
        "colab": {}
      },
      "source": [
        "# visualization prediction vs label"
      ],
      "execution_count": null,
      "outputs": []
    },
    {
      "cell_type": "code",
      "metadata": {
        "id": "q3zlks3pGtBf",
        "colab_type": "code",
        "colab": {}
      },
      "source": [
        "# split_ratio = 80\n",
        "# train_ds, info = tfds.load('cats_vs_dogs', split=f'train[:{split_ratio}%]', as_supervised=True, with_info=True)\n",
        "# val_ds, _ = tfds.load('cats_vs_dogs', split=f'train[{split_ratio}%:]', as_supervised=True, with_info=True)"
      ],
      "execution_count": null,
      "outputs": []
    },
    {
      "cell_type": "code",
      "metadata": {
        "id": "U_wIT0evhc36",
        "colab_type": "code",
        "colab": {}
      },
      "source": [
        "train_split = tfds.core.ReadInstruction(\n",
        "    'train',\n",
        "    from_=0,\n",
        "    to=90,\n",
        "    rounding='pct1_dropremainder',\n",
        "    unit = '%',\n",
        ")\n",
        "\n",
        "val_split = tfds.core.ReadInstruction(\n",
        "    'train',\n",
        "    from_=90,\n",
        "    to=100,\n",
        "    rounding='pct1_dropremainder',\n",
        "    unit = '%',\n",
        ")\n",
        "\n",
        "train_ds, info = tfds.load('cifar10', split=train_split, as_supervised=True, with_info=True)\n",
        "val_ds, _ = tfds.load('cifar10', split=val_split, as_supervised=True, with_info=True)"
      ],
      "execution_count": null,
      "outputs": []
    },
    {
      "cell_type": "code",
      "metadata": {
        "id": "2UnMmOE2hlU0",
        "colab_type": "code",
        "colab": {
          "base_uri": "https://localhost:8080/",
          "height": 401,
          "referenced_widgets": [
            "e5377bf54f0a4c9bb48757778630e0c0",
            "cb745b4f1d844b97b54190ad22a1dad8",
            "ecf147b7e3b347b69b5802d6db78dfaf",
            "c97d4da9b8f2418f92d7a87ec97298f9",
            "373929de46104776929e43fa1b55054c",
            "69d1e9163d444d7ead2789cdd1fce95d",
            "d7976b3595af428fb2caf0a4427ac5f3",
            "6f3d8fe62d8d4d52bc377eb01802e238",
            "8ec5d936a08b41639eeb8f9ab32fbb7c",
            "60c82b6e741b4038b195fbbfa15e214c",
            "21c6e9ab21234155b25ed0bee1746e60",
            "ef744e17a25e40bf88c34c0992e62097",
            "7deb5e3327c44ad398b4cc150e72ebba",
            "16176e166d644191993b6f5b9f44cf13",
            "6e3fab0454a647a1a1a38d73d1b8ff7d",
            "2b00980d81f348ac90cc6167785b9d55",
            "3d893706fe3341a4a295b656187871ce",
            "af56b63b9a8b4e95b5ab358d4cf9bdf7",
            "a409dbe8eb7d451e931a49412005e6b5",
            "6baa04fbe3d249cd9689705f7ef7619b",
            "0a7f85c376094d09bf73c0e507fdd482",
            "c35ae4b06d044d27b3e2d9013f2b3d1d",
            "14858b043e894b8aa632e66de5b25ec1",
            "11c11070b41d477896fc646de4523f5e",
            "b79145ff4dd7413a82dd56e4ce55da51",
            "49191ec5b9b24bd2880ad2ee0f8772b6",
            "dae5f4a256604a2a99aba56cf83347db",
            "1ff6c5195d0d46a18f2a04d66b4c6a12",
            "666d4eb0b24344b783024a84e863e39d",
            "95b92e9611a84a87842df2b2033d04ac",
            "30bc2244fc204f17be3793e19b9e88ab",
            "f594ca31ca8642f69475281cc85c592d",
            "9e7d519a61714fdb9a70b23d8a7e64d2",
            "25ea3eb09b77487ba1e200a8456f6930",
            "6b0fe60d14cc4df59925c080c4827bf9",
            "a2848cf1176e40678238e040e5637887",
            "19ad3f0a71934cb7bcde2b2811bf5720",
            "aada38b237e244d487e99a8f6bcc3cb0",
            "55f4c04f40ad4696a255dd7ad19b511f",
            "9221eab944964b7192b56b7b8d6bd097",
            "2d94c3847e1f4e20839dc90bde481f69",
            "d41cfb765aa74f0e90ef3a76de33eead",
            "ee6371e5e7c44cf8b88b4a60417e858f",
            "5c75f049ffe24c989efae6458845aee7",
            "515c4ee41c27451e82b5d92c2f551131",
            "a77178b4068d4dafa8000288ec5093d7",
            "8b52a041d6b9423bbf19083e9771e8ed",
            "8e06e7eaf5a544de9941466d195201d7",
            "e8d1d5d5f8a649b8b6bb3a1f056797a8",
            "ac96b8ba75d742fd8291ca1bc85f0a0f",
            "e10c604e224b423d8bb89791c2a6f10e",
            "6da01e07346540b8bd76ea8d1edc3a33",
            "71ccad2631eb4233b59551cb269ea619",
            "6cb1ff81619b4bc1897e08fdf979c7a9",
            "3f49644f84c94cedaa2a6b65047ce6e1",
            "930e385ca205418fb697c9c7600f64e9"
          ]
        },
        "outputId": "199e8f12-0d0f-4d95-f429-17f0d7c2bc7e"
      },
      "source": [
        "train_ds, info = tfds.load('cifar10', split='train', as_supervised=True, with_info=True)\n",
        "val_ds, _ = tfds.load('cifar10', split='test', as_supervised=True, with_info=True)"
      ],
      "execution_count": null,
      "outputs": [
        {
          "output_type": "stream",
          "text": [
            "\u001b[1mDownloading and preparing dataset cifar10/3.0.0 (download: 162.17 MiB, generated: Unknown size, total: 162.17 MiB) to /root/tensorflow_datasets/cifar10/3.0.0...\u001b[0m\n"
          ],
          "name": "stdout"
        },
        {
          "output_type": "display_data",
          "data": {
            "application/vnd.jupyter.widget-view+json": {
              "model_id": "e5377bf54f0a4c9bb48757778630e0c0",
              "version_minor": 0,
              "version_major": 2
            },
            "text/plain": [
              "HBox(children=(FloatProgress(value=1.0, bar_style='info', description='Dl Completed...', max=1.0, style=Progre…"
            ]
          },
          "metadata": {
            "tags": []
          }
        },
        {
          "output_type": "display_data",
          "data": {
            "application/vnd.jupyter.widget-view+json": {
              "model_id": "8ec5d936a08b41639eeb8f9ab32fbb7c",
              "version_minor": 0,
              "version_major": 2
            },
            "text/plain": [
              "HBox(children=(FloatProgress(value=1.0, bar_style='info', description='Dl Size...', max=1.0, style=ProgressSty…"
            ]
          },
          "metadata": {
            "tags": []
          }
        },
        {
          "output_type": "display_data",
          "data": {
            "application/vnd.jupyter.widget-view+json": {
              "model_id": "3d893706fe3341a4a295b656187871ce",
              "version_minor": 0,
              "version_major": 2
            },
            "text/plain": [
              "HBox(children=(FloatProgress(value=1.0, bar_style='info', description='Extraction completed...', max=1.0, styl…"
            ]
          },
          "metadata": {
            "tags": []
          }
        },
        {
          "output_type": "stream",
          "text": [
            "/usr/local/lib/python3.6/dist-packages/urllib3/connectionpool.py:847: InsecureRequestWarning: Unverified HTTPS request is being made. Adding certificate verification is strongly advised. See: https://urllib3.readthedocs.io/en/latest/advanced-usage.html#ssl-warnings\n",
            "  InsecureRequestWarning)\n"
          ],
          "name": "stderr"
        },
        {
          "output_type": "stream",
          "text": [
            "\n",
            "\n",
            "\n",
            "\n",
            "\n",
            "\n"
          ],
          "name": "stdout"
        },
        {
          "output_type": "display_data",
          "data": {
            "application/vnd.jupyter.widget-view+json": {
              "model_id": "b79145ff4dd7413a82dd56e4ce55da51",
              "version_minor": 0,
              "version_major": 2
            },
            "text/plain": [
              "HBox(children=(FloatProgress(value=1.0, bar_style='info', max=1.0), HTML(value='')))"
            ]
          },
          "metadata": {
            "tags": []
          }
        },
        {
          "output_type": "stream",
          "text": [
            "\rShuffling and writing examples to /root/tensorflow_datasets/cifar10/3.0.0.incompleteYH2Q55/cifar10-train.tfrecord\n"
          ],
          "name": "stdout"
        },
        {
          "output_type": "display_data",
          "data": {
            "application/vnd.jupyter.widget-view+json": {
              "model_id": "9e7d519a61714fdb9a70b23d8a7e64d2",
              "version_minor": 0,
              "version_major": 2
            },
            "text/plain": [
              "HBox(children=(FloatProgress(value=0.0, max=50000.0), HTML(value='')))"
            ]
          },
          "metadata": {
            "tags": []
          }
        },
        {
          "output_type": "stream",
          "text": [
            "\r"
          ],
          "name": "stdout"
        },
        {
          "output_type": "display_data",
          "data": {
            "application/vnd.jupyter.widget-view+json": {
              "model_id": "2d94c3847e1f4e20839dc90bde481f69",
              "version_minor": 0,
              "version_major": 2
            },
            "text/plain": [
              "HBox(children=(FloatProgress(value=1.0, bar_style='info', max=1.0), HTML(value='')))"
            ]
          },
          "metadata": {
            "tags": []
          }
        },
        {
          "output_type": "stream",
          "text": [
            "\rShuffling and writing examples to /root/tensorflow_datasets/cifar10/3.0.0.incompleteYH2Q55/cifar10-test.tfrecord\n"
          ],
          "name": "stdout"
        },
        {
          "output_type": "display_data",
          "data": {
            "application/vnd.jupyter.widget-view+json": {
              "model_id": "e8d1d5d5f8a649b8b6bb3a1f056797a8",
              "version_minor": 0,
              "version_major": 2
            },
            "text/plain": [
              "HBox(children=(FloatProgress(value=0.0, max=10000.0), HTML(value='')))"
            ]
          },
          "metadata": {
            "tags": []
          }
        },
        {
          "output_type": "stream",
          "text": [
            "\u001b[1mDataset cifar10 downloaded and prepared to /root/tensorflow_datasets/cifar10/3.0.0. Subsequent calls will reuse this data.\u001b[0m\n",
            "\r"
          ],
          "name": "stdout"
        }
      ]
    },
    {
      "cell_type": "code",
      "metadata": {
        "id": "iC0UjrMTjTLc",
        "colab_type": "code",
        "colab": {
          "base_uri": "https://localhost:8080/",
          "height": 428
        },
        "outputId": "aee6612f-969c-4a39-a3da-4ac1fcf2a6f2"
      },
      "source": [
        "info"
      ],
      "execution_count": null,
      "outputs": [
        {
          "output_type": "execute_result",
          "data": {
            "text/plain": [
              "tfds.core.DatasetInfo(\n",
              "    name='cifar10',\n",
              "    version=3.0.0,\n",
              "    description='The CIFAR-10 dataset consists of 60000 32x32 colour images in 10 classes, with 6000 images per class. There are 50000 training images and 10000 test images.',\n",
              "    homepage='https://www.cs.toronto.edu/~kriz/cifar.html',\n",
              "    features=FeaturesDict({\n",
              "        'image': Image(shape=(32, 32, 3), dtype=tf.uint8),\n",
              "        'label': ClassLabel(shape=(), dtype=tf.int64, num_classes=10),\n",
              "    }),\n",
              "    total_num_examples=60000,\n",
              "    splits={\n",
              "        'test': 10000,\n",
              "        'train': 50000,\n",
              "    },\n",
              "    supervised_keys=('image', 'label'),\n",
              "    citation=\"\"\"@TECHREPORT{Krizhevsky09learningmultiple,\n",
              "        author = {Alex Krizhevsky},\n",
              "        title = {Learning multiple layers of features from tiny images},\n",
              "        institution = {},\n",
              "        year = {2009}\n",
              "    }\"\"\",\n",
              "    redistribution_info=,\n",
              ")"
            ]
          },
          "metadata": {
            "tags": []
          },
          "execution_count": 3
        }
      ]
    },
    {
      "cell_type": "code",
      "metadata": {
        "id": "hA8EuMXpex8G",
        "colab_type": "code",
        "colab": {
          "base_uri": "https://localhost:8080/",
          "height": 881
        },
        "outputId": "917788ba-07c5-4309-c350-ad43e6c62c7d"
      },
      "source": [
        "for x in train_ds.take(1).enumerate():\n",
        "  print(x)"
      ],
      "execution_count": null,
      "outputs": [
        {
          "output_type": "stream",
          "text": [
            "(<tf.Tensor: shape=(), dtype=int64, numpy=0>, (<tf.Tensor: shape=(32, 32, 3), dtype=uint8, numpy=\n",
            "array([[[143,  96,  70],\n",
            "        [141,  96,  72],\n",
            "        [135,  93,  72],\n",
            "        ...,\n",
            "        [ 96,  37,  19],\n",
            "        [105,  42,  18],\n",
            "        [104,  38,  20]],\n",
            "\n",
            "       [[128,  98,  92],\n",
            "        [146, 118, 112],\n",
            "        [170, 145, 138],\n",
            "        ...,\n",
            "        [108,  45,  26],\n",
            "        [112,  44,  24],\n",
            "        [112,  41,  22]],\n",
            "\n",
            "       [[ 93,  69,  75],\n",
            "        [118,  96, 101],\n",
            "        [179, 160, 162],\n",
            "        ...,\n",
            "        [128,  68,  47],\n",
            "        [125,  61,  42],\n",
            "        [122,  59,  39]],\n",
            "\n",
            "       ...,\n",
            "\n",
            "       [[187, 150, 123],\n",
            "        [184, 148, 123],\n",
            "        [179, 142, 121],\n",
            "        ...,\n",
            "        [198, 163, 132],\n",
            "        [201, 166, 135],\n",
            "        [207, 174, 143]],\n",
            "\n",
            "       [[187, 150, 117],\n",
            "        [181, 143, 115],\n",
            "        [175, 136, 113],\n",
            "        ...,\n",
            "        [201, 164, 132],\n",
            "        [205, 168, 135],\n",
            "        [207, 171, 139]],\n",
            "\n",
            "       [[195, 161, 126],\n",
            "        [187, 153, 123],\n",
            "        [186, 151, 128],\n",
            "        ...,\n",
            "        [212, 177, 147],\n",
            "        [219, 185, 155],\n",
            "        [221, 187, 157]]], dtype=uint8)>, <tf.Tensor: shape=(), dtype=int64, numpy=7>))\n"
          ],
          "name": "stdout"
        }
      ]
    },
    {
      "cell_type": "code",
      "metadata": {
        "id": "t3WHoqY4Ubhb",
        "colab_type": "code",
        "colab": {}
      },
      "source": [
        "image_size = 56\n",
        "\n",
        "def preprocessing(image, label):\n",
        "  image = tf.image.resize(image, (image_size, image_size))\n",
        "  image = tf.image.convert_image_dtype(image, tf.float16)\n",
        "  image = image / 255.0\n",
        "\n",
        "  return image, label"
      ],
      "execution_count": null,
      "outputs": []
    },
    {
      "cell_type": "code",
      "metadata": {
        "id": "tM7LFnkChPy9",
        "colab_type": "code",
        "colab": {}
      },
      "source": [
        "train_ds = train_ds.map(preprocessing).batch(32).prefetch(tf.data.experimental.AUTOTUNE)\n",
        "val_ds = val_ds.map(preprocessing).batch(info.splits['test'].num_examples)"
      ],
      "execution_count": null,
      "outputs": []
    },
    {
      "cell_type": "code",
      "metadata": {
        "id": "fDCqP4IAzIKT",
        "colab_type": "code",
        "colab": {
          "base_uri": "https://localhost:8080/",
          "height": 35
        },
        "outputId": "15bfcf0c-f18a-4f16-ec98-61183326ca72"
      },
      "source": [
        "train_ds"
      ],
      "execution_count": null,
      "outputs": [
        {
          "output_type": "execute_result",
          "data": {
            "text/plain": [
              "<DatasetV1Adapter shapes: ((None, 56, 56, 3), (None,)), types: (tf.float16, tf.int64)>"
            ]
          },
          "metadata": {
            "tags": []
          },
          "execution_count": 9
        }
      ]
    },
    {
      "cell_type": "code",
      "metadata": {
        "id": "POYwlFW9FEWT",
        "colab_type": "code",
        "colab": {
          "base_uri": "https://localhost:8080/",
          "height": 1000
        },
        "outputId": "65fdf79f-f598-4124-fd6b-5e8e405be7a0"
      },
      "source": [
        "for x in train_ds.take(1).enumerate():\n",
        "  print(x)"
      ],
      "execution_count": null,
      "outputs": [
        {
          "output_type": "stream",
          "text": [
            "(<tf.Tensor: shape=(), dtype=int64, numpy=0>, (<tf.Tensor: shape=(32, 56, 56, 3), dtype=float16, numpy=\n",
            "array([[[[0.5605 , 0.3765 , 0.2744 ],\n",
            "         [0.5576 , 0.3765 , 0.277  ],\n",
            "         [0.553  , 0.3765 , 0.282  ],\n",
            "         ...,\n",
            "         [0.4116 , 0.1636 , 0.07117],\n",
            "         [0.4094 , 0.1547 , 0.0756 ],\n",
            "         [0.408  , 0.149  , 0.0784 ]],\n",
            "\n",
            "        [[0.5396 , 0.3792 , 0.3054 ],\n",
            "         [0.547  , 0.3892 , 0.3171 ],\n",
            "         [0.558  , 0.4053 , 0.336  ],\n",
            "         ...,\n",
            "         [0.4214 , 0.1665 , 0.07916],\n",
            "         [0.42   , 0.1583 , 0.08044],\n",
            "         [0.4192 , 0.1532 , 0.08124]],\n",
            "\n",
            "        [[0.5063 , 0.3838 , 0.3547 ],\n",
            "         [0.5293 , 0.41   , 0.3809 ],\n",
            "         [0.567  , 0.4514 , 0.4229 ],\n",
            "         ...,\n",
            "         [0.4373 , 0.171  , 0.092  ],\n",
            "         [0.437  , 0.1642 , 0.08813],\n",
            "         [0.437  , 0.1599 , 0.0857 ]],\n",
            "\n",
            "        ...,\n",
            "\n",
            "        [[0.736  , 0.5913 , 0.4612 ],\n",
            "         [0.727  , 0.5815 , 0.4583 ],\n",
            "         [0.7134 , 0.566  , 0.4539 ],\n",
            "         ...,\n",
            "         [0.808  , 0.664  , 0.536  ],\n",
            "         [0.813  , 0.671  , 0.5444 ],\n",
            "         [0.816  , 0.675  , 0.55   ]],\n",
            "\n",
            "        [[0.7534 , 0.616  , 0.4817 ],\n",
            "         [0.743  , 0.6055 , 0.4778 ],\n",
            "         [0.727  , 0.5884 , 0.472  ],\n",
            "         ...,\n",
            "         [0.84   , 0.7026 , 0.5806 ],\n",
            "         [0.844  , 0.708  , 0.587  ],\n",
            "         [0.847  , 0.711  , 0.591  ]],\n",
            "\n",
            "        [[0.7646 , 0.6313 , 0.4941 ],\n",
            "         [0.7534 , 0.62   , 0.49   ],\n",
            "         [0.736  , 0.6025 , 0.4832 ],\n",
            "         ...,\n",
            "         [0.8594 , 0.726  , 0.6084 ],\n",
            "         [0.864  , 0.7305 , 0.613  ],\n",
            "         [0.8667 , 0.7334 , 0.6157 ]]],\n",
            "\n",
            "\n",
            "       [[[0.796  , 0.8394 , 0.9175 ],\n",
            "         [0.7793 , 0.8296 , 0.9062 ],\n",
            "         [0.7524 , 0.814  , 0.8887 ],\n",
            "         ...,\n",
            "         [0.4937 , 0.67   , 0.831  ],\n",
            "         [0.489  , 0.668  , 0.829  ],\n",
            "         [0.4863 , 0.6665 , 0.8276 ]],\n",
            "\n",
            "        [[0.799  , 0.8394 , 0.912  ],\n",
            "         [0.7783 , 0.8257 , 0.8965 ],\n",
            "         [0.746  , 0.803  , 0.871  ],\n",
            "         ...,\n",
            "         [0.4993 , 0.6772 , 0.841  ],\n",
            "         [0.4956 , 0.675  , 0.838  ],\n",
            "         [0.4934 , 0.6733 , 0.836  ]],\n",
            "\n",
            "        [[0.803  , 0.8394 , 0.903  ],\n",
            "         [0.7773 , 0.8193 , 0.8804 ],\n",
            "         [0.736  , 0.7866 , 0.8438 ],\n",
            "         ...,\n",
            "         [0.5083 , 0.689  , 0.8564 ],\n",
            "         [0.506  , 0.686  , 0.852  ],\n",
            "         [0.5044 , 0.6846 , 0.8496 ]],\n",
            "\n",
            "        ...,\n",
            "\n",
            "        [[0.1443 , 0.1716 , 0.207  ],\n",
            "         [0.1359 , 0.1578 , 0.1888 ],\n",
            "         [0.1227 , 0.1355 , 0.1599 ],\n",
            "         ...,\n",
            "         [0.2515 , 0.361  , 0.4983 ],\n",
            "         [0.26   , 0.3696 , 0.5093 ],\n",
            "         [0.2651 , 0.375  , 0.516  ]],\n",
            "\n",
            "        [[0.1375 , 0.1649 , 0.2002 ],\n",
            "         [0.13   , 0.1519 , 0.183  ],\n",
            "         [0.11804, 0.1309 , 0.1553 ],\n",
            "         ...,\n",
            "         [0.2466 , 0.354  , 0.489  ],\n",
            "         [0.2512 , 0.36   , 0.4973 ],\n",
            "         [0.2542 , 0.364  , 0.5024 ]],\n",
            "\n",
            "        [[0.1333 , 0.1608 , 0.196  ],\n",
            "         [0.1263 , 0.1482 , 0.1793 ],\n",
            "         [0.1151 , 0.128  , 0.1523 ],\n",
            "         ...,\n",
            "         [0.2434 , 0.3496 , 0.4832 ],\n",
            "         [0.2457 , 0.3542 , 0.49   ],\n",
            "         [0.2471 , 0.357  , 0.4941 ]]],\n",
            "\n",
            "\n",
            "       [[[0.4158 , 0.4038 , 0.408  ],\n",
            "         [0.4116 , 0.3955 , 0.4006 ],\n",
            "         [0.4045 , 0.382  , 0.3896 ],\n",
            "         ...,\n",
            "         [0.5425 , 0.5073 , 0.519  ],\n",
            "         [0.525  , 0.4897 , 0.5015 ],\n",
            "         [0.5137 , 0.4785 , 0.4902 ]],\n",
            "\n",
            "        [[0.4158 , 0.4053 , 0.4094 ],\n",
            "         [0.4126 , 0.3972 , 0.4026 ],\n",
            "         [0.4075 , 0.3848 , 0.3923 ],\n",
            "         ...,\n",
            "         [0.5366 , 0.502  , 0.513  ],\n",
            "         [0.5166 , 0.4814 , 0.4932 ],\n",
            "         [0.504  , 0.4685 , 0.4805 ]],\n",
            "\n",
            "        [[0.4158 , 0.4077 , 0.4116 ],\n",
            "         [0.414  , 0.4004 , 0.4058 ],\n",
            "         [0.4116 , 0.3892 , 0.3965 ],\n",
            "         ...,\n",
            "         [0.5273 , 0.4922 , 0.504  ],\n",
            "         [0.5034 , 0.468  , 0.48   ],\n",
            "         [0.4883 , 0.453  , 0.4646 ]],\n",
            "\n",
            "        ...,\n",
            "\n",
            "        [[0.512  , 0.589  , 0.4092 ],\n",
            "         [0.513  , 0.588  , 0.4124 ],\n",
            "         [0.514  , 0.587  , 0.418  ],\n",
            "         ...,\n",
            "         [0.5615 , 0.592  , 0.4485 ],\n",
            "         [0.5527 , 0.5737 , 0.4395 ],\n",
            "         [0.5474 , 0.562  , 0.4338 ]],\n",
            "\n",
            "        [[0.532  , 0.591  , 0.418  ],\n",
            "         [0.5273 , 0.5845 , 0.415  ],\n",
            "         [0.5195 , 0.5747 , 0.4102 ],\n",
            "         ...,\n",
            "         [0.5483 , 0.5737 , 0.4373 ],\n",
            "         [0.5396 , 0.5557 , 0.4282 ],\n",
            "         [0.5337 , 0.5444 , 0.4229 ]],\n",
            "\n",
            "        [[0.545  , 0.5923 , 0.4236 ],\n",
            "         [0.5366 , 0.5825 , 0.4165 ],\n",
            "         [0.523  , 0.567  , 0.4053 ],\n",
            "         ...,\n",
            "         [0.54   , 0.562  , 0.4302 ],\n",
            "         [0.531  , 0.5444 , 0.4214 ],\n",
            "         [0.5254 , 0.533  , 0.4158 ]]],\n",
            "\n",
            "\n",
            "       ...,\n",
            "\n",
            "\n",
            "       [[[1.     , 1.     , 1.     ],\n",
            "         [0.9985 , 0.9985 , 0.9985 ],\n",
            "         [0.9966 , 0.9966 , 0.9966 ],\n",
            "         ...,\n",
            "         [0.888  , 0.925  , 0.9604 ],\n",
            "         [0.8726 , 0.923  , 0.9585 ],\n",
            "         [0.863  , 0.9214 , 0.957  ]],\n",
            "\n",
            "        [[1.     , 1.     , 1.     ],\n",
            "         [0.998  , 0.998  , 0.998  ],\n",
            "         [0.995  , 0.995  , 0.995  ],\n",
            "         ...,\n",
            "         [0.898  , 0.932  , 0.965  ],\n",
            "         [0.8833 , 0.9287 , 0.9624 ],\n",
            "         [0.874  , 0.927  , 0.9614 ]],\n",
            "\n",
            "        [[1.     , 1.     , 1.     ],\n",
            "         [0.997  , 0.997  , 0.997  ],\n",
            "         [0.993  , 0.993  , 0.993  ],\n",
            "         ...,\n",
            "         [0.914  , 0.9434 , 0.9717 ],\n",
            "         [0.9004 , 0.939  , 0.969  ],\n",
            "         [0.8916 , 0.936  , 0.968  ]],\n",
            "\n",
            "        ...,\n",
            "\n",
            "        [[0.7495 , 0.792  , 0.8755 ],\n",
            "         [0.722  , 0.772  , 0.857  ],\n",
            "         [0.6787 , 0.74   , 0.827  ],\n",
            "         ...,\n",
            "         [0.4097 , 0.462  , 0.542  ],\n",
            "         [0.4292 , 0.464  , 0.5337 ],\n",
            "         [0.4414 , 0.4658 , 0.5283 ]],\n",
            "\n",
            "        [[0.72   , 0.7607 , 0.8535 ],\n",
            "         [0.701  , 0.749  , 0.842  ],\n",
            "         [0.6704 , 0.7295 , 0.8237 ],\n",
            "         ...,\n",
            "         [0.402  , 0.4531 , 0.5293 ],\n",
            "         [0.4182 , 0.4568 , 0.5244 ],\n",
            "         [0.428  , 0.459  , 0.522  ]],\n",
            "\n",
            "        [[0.702  , 0.741  , 0.8394 ],\n",
            "         [0.688  , 0.7344 , 0.8325 ],\n",
            "         [0.6655 , 0.723  , 0.8213 ],\n",
            "         ...,\n",
            "         [0.3977 , 0.4475 , 0.521  ],\n",
            "         [0.4114 , 0.4521 , 0.519  ],\n",
            "         [0.4197 , 0.4548 , 0.5176 ]]],\n",
            "\n",
            "\n",
            "       [[[0.3804 , 0.451  , 0.2393 ],\n",
            "         [0.3887 , 0.4622 , 0.2351 ],\n",
            "         [0.402  , 0.4802 , 0.2283 ],\n",
            "         ...,\n",
            "         [0.4563 , 0.5273 , 0.26   ],\n",
            "         [0.436  , 0.5117 , 0.2688 ],\n",
            "         [0.4236 , 0.502  , 0.2744 ]],\n",
            "\n",
            "        [[0.3635 , 0.4314 , 0.2393 ],\n",
            "         [0.37   , 0.4412 , 0.234  ],\n",
            "         [0.3801 , 0.4565 , 0.2257 ],\n",
            "         ...,\n",
            "         [0.4707 , 0.542  , 0.268  ],\n",
            "         [0.4536 , 0.5317 , 0.2754 ],\n",
            "         [0.443  , 0.526  , 0.28   ]],\n",
            "\n",
            "        [[0.3367 , 0.4    , 0.2393 ],\n",
            "         [0.3398 , 0.4075 , 0.2323 ],\n",
            "         [0.3452 , 0.419  , 0.2216 ],\n",
            "         ...,\n",
            "         [0.494  , 0.566  , 0.2815 ],\n",
            "         [0.482  , 0.565  , 0.2861 ],\n",
            "         [0.4746 , 0.564  , 0.289  ]],\n",
            "\n",
            "        ...,\n",
            "\n",
            "        [[0.3555 , 0.384  , 0.2395 ],\n",
            "         [0.3481 , 0.3767 , 0.24   ],\n",
            "         [0.3362 , 0.3652 , 0.2408 ],\n",
            "         ...,\n",
            "         [0.311  , 0.348  , 0.2515 ],\n",
            "         [0.302  , 0.3384 , 0.2345 ],\n",
            "         [0.2964 , 0.3325 , 0.2238 ]],\n",
            "\n",
            "        [[0.4072 , 0.4446 , 0.273  ],\n",
            "         [0.4077 , 0.447  , 0.2776 ],\n",
            "         [0.4087 , 0.4507 , 0.285  ],\n",
            "         ...,\n",
            "         [0.3289 , 0.3787 , 0.2412 ],\n",
            "         [0.3198 , 0.3655 , 0.2318 ],\n",
            "         [0.3142 , 0.3572 , 0.2261 ]],\n",
            "\n",
            "        [[0.4392 , 0.4824 , 0.2942 ],\n",
            "         [0.4448 , 0.4907 , 0.3013 ],\n",
            "         [0.4536 , 0.5044 , 0.3123 ],\n",
            "         ...,\n",
            "         [0.3398 , 0.398  , 0.2347 ],\n",
            "         [0.331  , 0.3823 , 0.2302 ],\n",
            "         [0.3254 , 0.3726 , 0.2274 ]]],\n",
            "\n",
            "\n",
            "       [[[0.498  , 0.565  , 0.3804 ],\n",
            "         [0.4812 , 0.542  , 0.3582 ],\n",
            "         [0.4543 , 0.5063 , 0.322  ],\n",
            "         ...,\n",
            "         [0.321  , 0.4224 , 0.2856 ],\n",
            "         [0.505  , 0.6016 , 0.4668 ],\n",
            "         [0.6196 , 0.714  , 0.5806 ]],\n",
            "\n",
            "        [[0.5093 , 0.556  , 0.3623 ],\n",
            "         [0.5044 , 0.5464 , 0.3523 ],\n",
            "         [0.4968 , 0.5303 , 0.3364 ],\n",
            "         ...,\n",
            "         [0.3071 , 0.409  , 0.2756 ],\n",
            "         [0.503  , 0.6025 , 0.4702 ],\n",
            "         [0.625  , 0.7236 , 0.592  ]],\n",
            "\n",
            "        [[0.527  , 0.5425 , 0.333  ],\n",
            "         [0.5415 , 0.5527 , 0.343  ],\n",
            "         [0.565  , 0.5693 , 0.3594 ],\n",
            "         ...,\n",
            "         [0.285  , 0.387  , 0.2605 ],\n",
            "         [0.4998 , 0.604  , 0.4753 ],\n",
            "         [0.6343 , 0.7393 , 0.6094 ]],\n",
            "\n",
            "        ...,\n",
            "\n",
            "        [[0.4043 , 0.521  , 0.349  ],\n",
            "         [0.443  , 0.5635 , 0.385  ],\n",
            "         [0.505  , 0.63   , 0.4429 ],\n",
            "         ...,\n",
            "         [0.1549 , 0.10706, 0.0725 ],\n",
            "         [0.2001 , 0.1565 , 0.1125 ],\n",
            "         [0.2283 , 0.1874 , 0.1375 ]],\n",
            "\n",
            "        [[0.534  , 0.676  , 0.4746 ],\n",
            "         [0.5464 , 0.694  , 0.4858 ],\n",
            "         [0.567  , 0.722  , 0.504  ],\n",
            "         ...,\n",
            "         [0.2854 , 0.226  , 0.1753 ],\n",
            "         [0.351  , 0.2947 , 0.2306 ],\n",
            "         [0.3918 , 0.3374 , 0.2651 ]],\n",
            "\n",
            "        [[0.6157 , 0.7725 , 0.5527 ],\n",
            "         [0.6113 , 0.7754 , 0.5483 ],\n",
            "         [0.605  , 0.78   , 0.542  ],\n",
            "         ...,\n",
            "         [0.3667 , 0.3003 , 0.2395 ],\n",
            "         [0.445  , 0.3809 , 0.3044 ],\n",
            "         [0.4941 , 0.4314 , 0.3452 ]]]], dtype=float16)>, <tf.Tensor: shape=(32,), dtype=int64, numpy=\n",
            "array([7, 8, 4, 4, 6, 5, 2, 9, 6, 6, 9, 9, 3, 0, 8, 7, 9, 0, 4, 9, 0, 8,\n",
            "       6, 4, 2, 8, 8, 7, 0, 8, 4, 2])>))\n"
          ],
          "name": "stdout"
        }
      ]
    },
    {
      "cell_type": "code",
      "metadata": {
        "id": "tBaQjg4DFNtc",
        "colab_type": "code",
        "colab": {}
      },
      "source": [
        ""
      ],
      "execution_count": null,
      "outputs": []
    },
    {
      "cell_type": "code",
      "metadata": {
        "id": "CTh8JqNZFLGi",
        "colab_type": "code",
        "colab": {}
      },
      "source": [
        ""
      ],
      "execution_count": null,
      "outputs": []
    },
    {
      "cell_type": "code",
      "metadata": {
        "id": "TEaEpWkIlPzX",
        "colab_type": "code",
        "colab": {}
      },
      "source": [
        "import tensorflow.keras as keras\n",
        " \n",
        "input_shape = (image_size, image_size, 3)\n",
        "num_class = 10\n",
        " \n",
        "model = keras.models.Sequential()\n",
        "model.add(keras.layers.Conv2D(32, kernel_size=(3, 3),\n",
        "                                  activation='relu',\n",
        "                                  input_shape=input_shape))\n",
        "model.add(keras.layers.MaxPooling2D(pool_size=(2, 2)))\n",
        "model.add(keras.layers.Conv2D(64, (3, 3), activation='relu'))\n",
        "model.add(keras.layers.MaxPooling2D(pool_size=(2, 2)))\n",
        "model.add(keras.layers.Conv2D(128, (3, 3), activation='relu'))\n",
        "model.add(keras.layers.MaxPooling2D(pool_size=(2, 2)))\n",
        "model.add(keras.layers.Conv2D(256, (3, 3), activation='relu'))\n",
        "model.add(keras.layers.MaxPooling2D(pool_size=(2, 2)))\n",
        "model.add(keras.layers.Flatten())\n",
        "model.add(keras.layers.Dense(32, activation='relu'))\n",
        "model.add(keras.layers.Dropout(0.5))\n",
        "model.add(keras.layers.Dense(64, activation='relu'))\n",
        "model.add(keras.layers.Dropout(0.5))\n",
        "model.add(keras.layers.Dense(128, activation='relu'))\n",
        "model.add(keras.layers.Dropout(0.5))\n",
        "model.add(keras.layers.Dense(num_class, activation='softmax'))\n",
        "\n",
        "model.compile(optimizer=tf.optimizers.Adam(learning_rate=0.001),\n",
        "               loss='sparse_categorical_crossentropy',\n",
        "               metrics=['accuracy'])"
      ],
      "execution_count": null,
      "outputs": []
    },
    {
      "cell_type": "code",
      "metadata": {
        "id": "XMp9T6AFkYuH",
        "colab_type": "code",
        "colab": {}
      },
      "source": [
        "epochs = 10"
      ],
      "execution_count": null,
      "outputs": []
    },
    {
      "cell_type": "code",
      "metadata": {
        "id": "wjqqt3iVkaxV",
        "colab_type": "code",
        "colab": {
          "base_uri": "https://localhost:8080/",
          "height": 363
        },
        "outputId": "ee229309-ddb2-4e68-808e-559160397df0"
      },
      "source": [
        "history1 = model.fit(train_ds, validation_data=val_ds, epochs=epochs)"
      ],
      "execution_count": null,
      "outputs": [
        {
          "output_type": "stream",
          "text": [
            "Epoch 1/10\n",
            "1563/1563 [==============================] - 19s 12ms/step - loss: 2.0345 - accuracy: 0.1951 - val_loss: 1.8157 - val_accuracy: 0.2844\n",
            "Epoch 2/10\n",
            "1563/1563 [==============================] - 18s 11ms/step - loss: 1.8341 - accuracy: 0.2668 - val_loss: 1.7235 - val_accuracy: 0.3204\n",
            "Epoch 3/10\n",
            "1563/1563 [==============================] - 18s 12ms/step - loss: 1.7511 - accuracy: 0.3069 - val_loss: 1.6325 - val_accuracy: 0.3514\n",
            "Epoch 4/10\n",
            "1563/1563 [==============================] - 18s 12ms/step - loss: 1.6638 - accuracy: 0.3420 - val_loss: 1.5859 - val_accuracy: 0.3784\n",
            "Epoch 5/10\n",
            "1563/1563 [==============================] - 19s 12ms/step - loss: 1.5970 - accuracy: 0.3837 - val_loss: 1.5994 - val_accuracy: 0.4069\n",
            "Epoch 6/10\n",
            "1563/1563 [==============================] - 18s 12ms/step - loss: 1.5331 - accuracy: 0.4172 - val_loss: 1.5448 - val_accuracy: 0.4382\n",
            "Epoch 7/10\n",
            "1563/1563 [==============================] - 18s 11ms/step - loss: 1.4755 - accuracy: 0.4473 - val_loss: 1.3957 - val_accuracy: 0.4820\n",
            "Epoch 8/10\n",
            "1563/1563 [==============================] - 18s 11ms/step - loss: 1.4258 - accuracy: 0.4716 - val_loss: 1.4197 - val_accuracy: 0.4892\n",
            "Epoch 9/10\n",
            "1563/1563 [==============================] - 18s 11ms/step - loss: 1.3828 - accuracy: 0.4932 - val_loss: 1.3663 - val_accuracy: 0.5083\n",
            "Epoch 10/10\n",
            "1563/1563 [==============================] - 18s 12ms/step - loss: 1.3542 - accuracy: 0.5076 - val_loss: 1.3191 - val_accuracy: 0.5272\n"
          ],
          "name": "stdout"
        }
      ]
    },
    {
      "cell_type": "code",
      "metadata": {
        "id": "4j_VxKv2EhBW",
        "colab_type": "code",
        "colab": {
          "base_uri": "https://localhost:8080/",
          "height": 363
        },
        "outputId": "ca05ccba-c599-40f2-f58f-6e514f45bc10"
      },
      "source": [
        "model.compile(optimizer=tf.optimizers.Adam(learning_rate=0.0001),\n",
        "               loss='sparse_categorical_crossentropy',\n",
        "               metrics=['accuracy'])\n",
        "\n",
        "epochs = 10\n",
        "history2 = model.fit(train_ds, validation_data=val_ds, epochs=epochs)"
      ],
      "execution_count": null,
      "outputs": [
        {
          "output_type": "stream",
          "text": [
            "Epoch 1/10\n",
            "1563/1563 [==============================] - 18s 12ms/step - loss: 1.2289 - accuracy: 0.5495 - val_loss: 1.2770 - val_accuracy: 0.5426\n",
            "Epoch 2/10\n",
            "1563/1563 [==============================] - 18s 12ms/step - loss: 1.2003 - accuracy: 0.5592 - val_loss: 1.2608 - val_accuracy: 0.5520\n",
            "Epoch 3/10\n",
            "1563/1563 [==============================] - 18s 11ms/step - loss: 1.1833 - accuracy: 0.5668 - val_loss: 1.2658 - val_accuracy: 0.5574\n",
            "Epoch 4/10\n",
            "1563/1563 [==============================] - 18s 12ms/step - loss: 1.1705 - accuracy: 0.5697 - val_loss: 1.2635 - val_accuracy: 0.5514\n",
            "Epoch 5/10\n",
            "1563/1563 [==============================] - 18s 11ms/step - loss: 1.1528 - accuracy: 0.5779 - val_loss: 1.2534 - val_accuracy: 0.5581\n",
            "Epoch 6/10\n",
            "1563/1563 [==============================] - 18s 12ms/step - loss: 1.1437 - accuracy: 0.5797 - val_loss: 1.2643 - val_accuracy: 0.5538\n",
            "Epoch 7/10\n",
            "1563/1563 [==============================] - 18s 11ms/step - loss: 1.1308 - accuracy: 0.5832 - val_loss: 1.2586 - val_accuracy: 0.5575\n",
            "Epoch 8/10\n",
            "1563/1563 [==============================] - 18s 11ms/step - loss: 1.1199 - accuracy: 0.5891 - val_loss: 1.2480 - val_accuracy: 0.5620\n",
            "Epoch 9/10\n",
            "1563/1563 [==============================] - 18s 12ms/step - loss: 1.1110 - accuracy: 0.5905 - val_loss: 1.2572 - val_accuracy: 0.5610\n",
            "Epoch 10/10\n",
            "1563/1563 [==============================] - 18s 12ms/step - loss: 1.0966 - accuracy: 0.5941 - val_loss: 1.2484 - val_accuracy: 0.5641\n"
          ],
          "name": "stdout"
        }
      ]
    },
    {
      "cell_type": "code",
      "metadata": {
        "id": "P2eSaf9ZFP8_",
        "colab_type": "code",
        "colab": {
          "base_uri": "https://localhost:8080/",
          "height": 708
        },
        "outputId": "db68e911-bb4d-416a-df29-4f8356ba8f17"
      },
      "source": [
        "epochs = 20\n",
        "history3 = model.fit(train_ds, validation_data=val_ds, epochs=epochs)"
      ],
      "execution_count": null,
      "outputs": [
        {
          "output_type": "stream",
          "text": [
            "Epoch 1/20\n",
            "1563/1563 [==============================] - 18s 12ms/step - loss: 1.0904 - accuracy: 0.5977 - val_loss: 1.2582 - val_accuracy: 0.5618\n",
            "Epoch 2/20\n",
            "1563/1563 [==============================] - 18s 12ms/step - loss: 1.0822 - accuracy: 0.6008 - val_loss: 1.2634 - val_accuracy: 0.5619\n",
            "Epoch 3/20\n",
            "1563/1563 [==============================] - 18s 12ms/step - loss: 1.0736 - accuracy: 0.6034 - val_loss: 1.2567 - val_accuracy: 0.5650\n",
            "Epoch 4/20\n",
            "1563/1563 [==============================] - 18s 11ms/step - loss: 1.0566 - accuracy: 0.6095 - val_loss: 1.2662 - val_accuracy: 0.5604\n",
            "Epoch 5/20\n",
            "1563/1563 [==============================] - 18s 11ms/step - loss: 1.0564 - accuracy: 0.6095 - val_loss: 1.2597 - val_accuracy: 0.5623\n",
            "Epoch 6/20\n",
            "1563/1563 [==============================] - 18s 12ms/step - loss: 1.0417 - accuracy: 0.6169 - val_loss: 1.2659 - val_accuracy: 0.5651\n",
            "Epoch 7/20\n",
            "1563/1563 [==============================] - 18s 12ms/step - loss: 1.0328 - accuracy: 0.6188 - val_loss: 1.2716 - val_accuracy: 0.5646\n",
            "Epoch 8/20\n",
            "1563/1563 [==============================] - 18s 11ms/step - loss: 1.0225 - accuracy: 0.6232 - val_loss: 1.2742 - val_accuracy: 0.5645\n",
            "Epoch 9/20\n",
            "1563/1563 [==============================] - 18s 12ms/step - loss: 1.0188 - accuracy: 0.6235 - val_loss: 1.2822 - val_accuracy: 0.5627\n",
            "Epoch 10/20\n",
            "1563/1563 [==============================] - 18s 11ms/step - loss: 1.0077 - accuracy: 0.6280 - val_loss: 1.2825 - val_accuracy: 0.5667\n",
            "Epoch 11/20\n",
            "1563/1563 [==============================] - 18s 11ms/step - loss: 1.0032 - accuracy: 0.6294 - val_loss: 1.2880 - val_accuracy: 0.5642\n",
            "Epoch 12/20\n",
            "1563/1563 [==============================] - 18s 12ms/step - loss: 0.9933 - accuracy: 0.6331 - val_loss: 1.2955 - val_accuracy: 0.5661\n",
            "Epoch 13/20\n",
            "1563/1563 [==============================] - 18s 12ms/step - loss: 0.9839 - accuracy: 0.6358 - val_loss: 1.3011 - val_accuracy: 0.5635\n",
            "Epoch 14/20\n",
            "1563/1563 [==============================] - 18s 12ms/step - loss: 0.9824 - accuracy: 0.6349 - val_loss: 1.3038 - val_accuracy: 0.5657\n",
            "Epoch 15/20\n",
            "1563/1563 [==============================] - 18s 12ms/step - loss: 0.9723 - accuracy: 0.6388 - val_loss: 1.3136 - val_accuracy: 0.5656\n",
            "Epoch 16/20\n",
            "1563/1563 [==============================] - 17s 11ms/step - loss: 0.9634 - accuracy: 0.6412 - val_loss: 1.3135 - val_accuracy: 0.5645\n",
            "Epoch 17/20\n",
            "1563/1563 [==============================] - 18s 11ms/step - loss: 0.9597 - accuracy: 0.6422 - val_loss: 1.3254 - val_accuracy: 0.5650\n",
            "Epoch 18/20\n",
            "1563/1563 [==============================] - 18s 11ms/step - loss: 0.9455 - accuracy: 0.6473 - val_loss: 1.3245 - val_accuracy: 0.5668\n",
            "Epoch 19/20\n",
            "1563/1563 [==============================] - 19s 12ms/step - loss: 0.9414 - accuracy: 0.6498 - val_loss: 1.3344 - val_accuracy: 0.5647\n",
            "Epoch 20/20\n",
            "1563/1563 [==============================] - 18s 11ms/step - loss: 0.9365 - accuracy: 0.6489 - val_loss: 1.3515 - val_accuracy: 0.5659\n"
          ],
          "name": "stdout"
        }
      ]
    },
    {
      "cell_type": "code",
      "metadata": {
        "id": "9Fltob3pW1M4",
        "colab_type": "code",
        "colab": {}
      },
      "source": [
        "history = history1\n",
        "\n",
        "for key in ['loss', 'val_loss', 'accuracy', 'val_accuracy']:\n",
        "  history.history[key].extend(history2.history[key])\n",
        "  history.history[key].extend(history3.history[key])"
      ],
      "execution_count": null,
      "outputs": []
    },
    {
      "cell_type": "code",
      "metadata": {
        "id": "rkEXavKbXFsf",
        "colab_type": "code",
        "colab": {
          "base_uri": "https://localhost:8080/",
          "height": 35
        },
        "outputId": "45d8f499-77ab-4a5d-8b3e-ef2e4cd0e29a"
      },
      "source": [
        "len(history.history['loss'])"
      ],
      "execution_count": null,
      "outputs": [
        {
          "output_type": "execute_result",
          "data": {
            "text/plain": [
              "40"
            ]
          },
          "metadata": {
            "tags": []
          },
          "execution_count": 40
        }
      ]
    },
    {
      "cell_type": "code",
      "metadata": {
        "id": "Uk7XiQoL10Fq",
        "colab_type": "code",
        "colab": {
          "base_uri": "https://localhost:8080/",
          "height": 334
        },
        "outputId": "4afa0254-fb60-4d17-f9f3-9a785d8f003c"
      },
      "source": [
        "import matplotlib.pyplot as plt\n",
        "\n",
        "fig, (loss_ax, acc_ax) = plt.subplots(1, 2, figsize=(20,5))\n",
        "\n",
        "loss_ax.plot(history.history['loss'], 'y', label='train loss')\n",
        "loss_ax.plot(history.history['val_loss'], 'r', label='val loss')\n",
        "loss_ax.set_xlabel('epoch')\n",
        "loss_ax.set_ylabel('loss')\n",
        "loss_ax.legend(loc='upper left')\n",
        "\n",
        "acc_ax.plot(history.history['accuracy'], 'b', label='train acc')\n",
        "acc_ax.plot(history.history['val_accuracy'], 'g', label='val acc')\n",
        "acc_ax.set_xlabel('epoch')\n",
        "acc_ax.set_ylabel('accuracy')\n",
        "acc_ax.legend(loc='upper left')\n",
        "\n",
        "plt.show()"
      ],
      "execution_count": null,
      "outputs": [
        {
          "output_type": "display_data",
          "data": {
            "image/png": "[encoded data removed]",
            "text/plain": [
              "<Figure size 1440x360 with 2 Axes>"
            ]
          },
          "metadata": {
            "tags": [],
            "needs_background": "light"
          }
        }
      ]
    },
    {
      "cell_type": "code",
      "metadata": {
        "id": "qcuDlRnldUwk",
        "colab_type": "code",
        "colab": {}
      },
      "source": [
        ""
      ],
      "execution_count": null,
      "outputs": []
    },
    {
      "cell_type": "markdown",
      "metadata": {
        "id": "jaofEf8aeuB3",
        "colab_type": "text"
      },
      "source": [
        "# Transfer Learning on CIFAR10"
      ]
    },
    {
      "cell_type": "code",
      "metadata": {
        "id": "3JUHKo6sewNW",
        "colab_type": "code",
        "colab": {}
      },
      "source": [
        "import tensorflow as tf\n",
        "import tensorflow_datasets as tfds\n",
        "from tensorflow.python.client import device_lib"
      ],
      "execution_count": null,
      "outputs": []
    },
    {
      "cell_type": "code",
      "metadata": {
        "id": "NKtkNgetey_l",
        "colab_type": "code",
        "colab": {
          "base_uri": "https://localhost:8080/",
          "height": 401,
          "referenced_widgets": [
            "1beaa6dca5b64a5b95c7672acf570049",
            "eb5037c64af94930bf4f13b24878caa6",
            "3911bce57c7c4595a45ca3c19ecd14fa",
            "e17dd48127724529a35b8f75533ea4e7",
            "a777a452d543482bb0bb7cafbd6686f1",
            "283b393dfc1646998926fca7fd2c1433",
            "7ba8eb97ac5640eca249bc8efbf0cc62",
            "a4c04bab11624dc8809a7878f6ae0683",
            "1c00f7f2047942edba2afe1d53b25dd1",
            "cebe5f8824e0461d82e809a514802015",
            "f0a5f8f3f4244d9db6b012d40184bb92",
            "d87e54e62c6343d6907e0fa023ad2644",
            "8c4d6da9e64942ea8a1f0ca2524b6568",
            "eb4d0128091647959258b24492a035cf",
            "f46b3297a8164e20bf0078d825f2931f",
            "ec329b57112140fa88105e0fc5198cc5",
            "b6aa5b26398b492f8251029bdc35dc24",
            "469c7c38f9e34b50b91cf84ac8979d06",
            "6ff1ed3255094f419b444deb14921130",
            "4f83f16e8ad8444b93447dd68c571cbd",
            "1daf9e0fa9554f57af2fe938d42dfd94",
            "e4f462e3674e4889932b7f5d2e539161",
            "ed67c581294c4fe78686bcdb78776ff8",
            "497e8cf06a7946608007110f90c6a7ac",
            "67df471156b248afb8b9c82413d528eb",
            "3ef0f3a096d046a095bb1de5a339428e",
            "b575948378004c5c9c0f3764c1978daa",
            "0f9ae869db924ad9925c76607d6a6c09",
            "a806829f15954b4996c021d2f67b5562",
            "ba7dcb2c698c42c49631cac08933ce70",
            "fbdbcb2001bb472aa4a3a58d975cec0a",
            "dd3f20bbc349471d93e9857d0002eec6",
            "a7fa98b5564849ae9e1bd9a1f28ca0ff",
            "819a724468a04c51a71462df03e4cc45",
            "e9c3ac8ad22546f0896cb7176a707382",
            "3940d2e31c8242cda647b7d4d9bf5fea",
            "430723a3a5694095aa725a78b9a9695e",
            "dc9438bb2c7c41c6a7081d9bb5856767",
            "fa27bc8613944c4481107f011ec3570b",
            "ee692ac73cb047eb9b2cb5eeaff4a1b3",
            "d00bf1d3744d4ed7bc3930b7d3a5784d",
            "a03ab24e60de4df0937e546b6aa80163",
            "8529e9c7073c40c3867eda06c4fecb33",
            "b3636b5034b24e87b43ba1d1a1ad2fde",
            "beedd3479b12446fb34bc2816ffd50ba",
            "8bbbb6eab5974f53bdb665d1740da6de",
            "bf6da682ea25466da8f7d1a37f4e6c98",
            "7170ee4988fe4e1098770dd4bccd5478",
            "0553f91e483648cea66fc6e7924e3575",
            "4896e97b43394300a603c158821037ea",
            "f9a99c542b74430ea497df6b1c6d24db",
            "94a248cb5d7844b5a57fa636a595ab10",
            "5d8bd3ddf8b74de39e21df3c2879cd40",
            "6e1db3f59ed84c30b477261f1f8e1c2e",
            "6144d31ec95947f29894a6514693b0f1",
            "603ae4780ef54afb8b39c33686c93177"
          ]
        },
        "outputId": "7f6407c3-3075-4b76-a254-0a201ae99bfe"
      },
      "source": [
        "train_ds, info = tfds.load('cifar10', split='train', as_supervised=True, with_info=True)\n",
        "val_ds, _ = tfds.load('cifar10', split='test', as_supervised=True, with_info=True)"
      ],
      "execution_count": null,
      "outputs": [
        {
          "output_type": "stream",
          "text": [
            "\u001b[1mDownloading and preparing dataset cifar10/3.0.0 (download: 162.17 MiB, generated: Unknown size, total: 162.17 MiB) to /root/tensorflow_datasets/cifar10/3.0.0...\u001b[0m\n"
          ],
          "name": "stdout"
        },
        {
          "output_type": "display_data",
          "data": {
            "application/vnd.jupyter.widget-view+json": {
              "model_id": "1beaa6dca5b64a5b95c7672acf570049",
              "version_minor": 0,
              "version_major": 2
            },
            "text/plain": [
              "HBox(children=(FloatProgress(value=1.0, bar_style='info', description='Dl Completed...', max=1.0, style=Progre…"
            ]
          },
          "metadata": {
            "tags": []
          }
        },
        {
          "output_type": "display_data",
          "data": {
            "application/vnd.jupyter.widget-view+json": {
              "model_id": "1c00f7f2047942edba2afe1d53b25dd1",
              "version_minor": 0,
              "version_major": 2
            },
            "text/plain": [
              "HBox(children=(FloatProgress(value=1.0, bar_style='info', description='Dl Size...', max=1.0, style=ProgressSty…"
            ]
          },
          "metadata": {
            "tags": []
          }
        },
        {
          "output_type": "display_data",
          "data": {
            "application/vnd.jupyter.widget-view+json": {
              "model_id": "b6aa5b26398b492f8251029bdc35dc24",
              "version_minor": 0,
              "version_major": 2
            },
            "text/plain": [
              "HBox(children=(FloatProgress(value=1.0, bar_style='info', description='Extraction completed...', max=1.0, styl…"
            ]
          },
          "metadata": {
            "tags": []
          }
        },
        {
          "output_type": "stream",
          "text": [
            "/usr/local/lib/python3.6/dist-packages/urllib3/connectionpool.py:847: InsecureRequestWarning: Unverified HTTPS request is being made. Adding certificate verification is strongly advised. See: https://urllib3.readthedocs.io/en/latest/advanced-usage.html#ssl-warnings\n",
            "  InsecureRequestWarning)\n"
          ],
          "name": "stderr"
        },
        {
          "output_type": "stream",
          "text": [
            "\n",
            "\n",
            "\n",
            "\n",
            "\n",
            "\n"
          ],
          "name": "stdout"
        },
        {
          "output_type": "display_data",
          "data": {
            "application/vnd.jupyter.widget-view+json": {
              "model_id": "67df471156b248afb8b9c82413d528eb",
              "version_minor": 0,
              "version_major": 2
            },
            "text/plain": [
              "HBox(children=(FloatProgress(value=1.0, bar_style='info', max=1.0), HTML(value='')))"
            ]
          },
          "metadata": {
            "tags": []
          }
        },
        {
          "output_type": "stream",
          "text": [
            "\rShuffling and writing examples to /root/tensorflow_datasets/cifar10/3.0.0.incompleteVKF3CJ/cifar10-train.tfrecord\n"
          ],
          "name": "stdout"
        },
        {
          "output_type": "display_data",
          "data": {
            "application/vnd.jupyter.widget-view+json": {
              "model_id": "a7fa98b5564849ae9e1bd9a1f28ca0ff",
              "version_minor": 0,
              "version_major": 2
            },
            "text/plain": [
              "HBox(children=(FloatProgress(value=0.0, max=50000.0), HTML(value='')))"
            ]
          },
          "metadata": {
            "tags": []
          }
        },
        {
          "output_type": "stream",
          "text": [
            "\r"
          ],
          "name": "stdout"
        },
        {
          "output_type": "display_data",
          "data": {
            "application/vnd.jupyter.widget-view+json": {
              "model_id": "d00bf1d3744d4ed7bc3930b7d3a5784d",
              "version_minor": 0,
              "version_major": 2
            },
            "text/plain": [
              "HBox(children=(FloatProgress(value=1.0, bar_style='info', max=1.0), HTML(value='')))"
            ]
          },
          "metadata": {
            "tags": []
          }
        },
        {
          "output_type": "stream",
          "text": [
            "\rShuffling and writing examples to /root/tensorflow_datasets/cifar10/3.0.0.incompleteVKF3CJ/cifar10-test.tfrecord\n"
          ],
          "name": "stdout"
        },
        {
          "output_type": "display_data",
          "data": {
            "application/vnd.jupyter.widget-view+json": {
              "model_id": "0553f91e483648cea66fc6e7924e3575",
              "version_minor": 0,
              "version_major": 2
            },
            "text/plain": [
              "HBox(children=(FloatProgress(value=0.0, max=10000.0), HTML(value='')))"
            ]
          },
          "metadata": {
            "tags": []
          }
        },
        {
          "output_type": "stream",
          "text": [
            "\u001b[1mDataset cifar10 downloaded and prepared to /root/tensorflow_datasets/cifar10/3.0.0. Subsequent calls will reuse this data.\u001b[0m\n",
            "\r"
          ],
          "name": "stdout"
        }
      ]
    },
    {
      "cell_type": "code",
      "metadata": {
        "id": "ZhYfGN_4ezsg",
        "colab_type": "code",
        "colab": {}
      },
      "source": [
        "image_size = 112\n",
        "\n",
        "def preprocessing(image, label):\n",
        "  image = tf.image.resize(image, (image_size, image_size))\n",
        "  image = tf.image.convert_image_dtype(image, tf.float16)\n",
        "  image = image / 255.0\n",
        "\n",
        "  return image, label"
      ],
      "execution_count": null,
      "outputs": []
    },
    {
      "cell_type": "code",
      "metadata": {
        "id": "zeVLryqFe2_R",
        "colab_type": "code",
        "colab": {}
      },
      "source": [
        "train_ds = train_ds.map(preprocessing).batch(64).prefetch(tf.data.experimental.AUTOTUNE)\n",
        "val_ds = val_ds.map(preprocessing).batch(64)  "
      ],
      "execution_count": null,
      "outputs": []
    },
    {
      "cell_type": "code",
      "metadata": {
        "id": "DBZNxgiXe5j8",
        "colab_type": "code",
        "colab": {}
      },
      "source": [
        "import tensorflow.keras as keras\n",
        "\n",
        "num_class = 10\n",
        "\n",
        "model = tf.keras.applications.VGG16(include_top=False, input_shape=(image_size, image_size, 3))\n",
        "model.trainable = False\n",
        "\n",
        "# for layer in model.layers[:15]:\n",
        "#       layer.trainable = False\n",
        "\n",
        "\n",
        "model = keras.Sequential([\n",
        "  model,\n",
        "  keras.layers.Flatten(),\n",
        "  keras.layers.Dense(256, activation='relu'),\n",
        "  keras.layers.Dropout(0.5),\n",
        "  keras.layers.Dense(512, activation='relu'),\n",
        "  keras.layers.Dropout(0.5),\n",
        "  keras.layers.Dense(1024, activation='relu'),\n",
        "  keras.layers.Dropout(0.5),  \n",
        "  keras.layers.Dense(num_class, activation='softmax')\n",
        "])"
      ],
      "execution_count": null,
      "outputs": []
    },
    {
      "cell_type": "code",
      "metadata": {
        "id": "Iec5kekOfI0n",
        "colab_type": "code",
        "colab": {}
      },
      "source": [
        " model.compile(optimizer=tf.optimizers.Adam(learning_rate=0.0001),\n",
        "                loss='sparse_categorical_crossentropy',\n",
        "                metrics=['accuracy'])\n",
        " \n",
        " epochs = 30"
      ],
      "execution_count": null,
      "outputs": []
    },
    {
      "cell_type": "code",
      "metadata": {
        "id": "xyLddpGJfRoL",
        "colab_type": "code",
        "colab": {
          "base_uri": "https://localhost:8080/",
          "height": 1000
        },
        "outputId": "295eee06-a0c4-4465-cd23-3e84b002a8ef"
      },
      "source": [
        "history = model.fit(train_ds, validation_data=val_ds, epochs=epochs)"
      ],
      "execution_count": null,
      "outputs": [
        {
          "output_type": "stream",
          "text": [
            "Epoch 1/30\n",
            "782/782 [==============================] - 39s 50ms/step - loss: 1.5993 - accuracy: 0.4239 - val_loss: 1.0157 - val_accuracy: 0.6433\n",
            "Epoch 2/30\n",
            "782/782 [==============================] - 39s 50ms/step - loss: 1.0904 - accuracy: 0.6224 - val_loss: 0.8698 - val_accuracy: 0.7034\n",
            "Epoch 3/30\n",
            "782/782 [==============================] - 39s 50ms/step - loss: 0.9603 - accuracy: 0.6714 - val_loss: 0.8088 - val_accuracy: 0.7258\n",
            "Epoch 4/30\n",
            "782/782 [==============================] - 39s 50ms/step - loss: 0.8876 - accuracy: 0.6983 - val_loss: 0.7698 - val_accuracy: 0.7392\n",
            "Epoch 5/30\n",
            "782/782 [==============================] - 39s 50ms/step - loss: 0.8325 - accuracy: 0.7175 - val_loss: 0.7417 - val_accuracy: 0.7483\n",
            "Epoch 6/30\n",
            "782/782 [==============================] - 39s 50ms/step - loss: 0.7899 - accuracy: 0.7314 - val_loss: 0.7326 - val_accuracy: 0.7530\n",
            "Epoch 7/30\n",
            "782/782 [==============================] - 39s 50ms/step - loss: 0.7513 - accuracy: 0.7449 - val_loss: 0.7245 - val_accuracy: 0.7563\n",
            "Epoch 8/30\n",
            "782/782 [==============================] - 39s 50ms/step - loss: 0.7207 - accuracy: 0.7552 - val_loss: 0.7073 - val_accuracy: 0.7623\n",
            "Epoch 9/30\n",
            "782/782 [==============================] - 39s 50ms/step - loss: 0.6914 - accuracy: 0.7646 - val_loss: 0.7027 - val_accuracy: 0.7630\n",
            "Epoch 10/30\n",
            "782/782 [==============================] - 39s 50ms/step - loss: 0.6721 - accuracy: 0.7689 - val_loss: 0.6891 - val_accuracy: 0.7682\n",
            "Epoch 11/30\n",
            "782/782 [==============================] - 39s 50ms/step - loss: 0.6465 - accuracy: 0.7783 - val_loss: 0.6958 - val_accuracy: 0.7681\n",
            "Epoch 12/30\n",
            "782/782 [==============================] - 39s 50ms/step - loss: 0.6237 - accuracy: 0.7850 - val_loss: 0.6907 - val_accuracy: 0.7724\n",
            "Epoch 13/30\n",
            "782/782 [==============================] - 39s 50ms/step - loss: 0.6000 - accuracy: 0.7949 - val_loss: 0.6900 - val_accuracy: 0.7749\n",
            "Epoch 14/30\n",
            "782/782 [==============================] - 39s 50ms/step - loss: 0.5858 - accuracy: 0.7975 - val_loss: 0.6868 - val_accuracy: 0.7742\n",
            "Epoch 15/30\n",
            "782/782 [==============================] - 39s 50ms/step - loss: 0.5637 - accuracy: 0.8047 - val_loss: 0.6918 - val_accuracy: 0.7735\n",
            "Epoch 16/30\n",
            "782/782 [==============================] - 39s 50ms/step - loss: 0.5474 - accuracy: 0.8110 - val_loss: 0.6920 - val_accuracy: 0.7741\n",
            "Epoch 17/30\n",
            "782/782 [==============================] - 39s 50ms/step - loss: 0.5285 - accuracy: 0.8170 - val_loss: 0.7033 - val_accuracy: 0.7688\n",
            "Epoch 18/30\n",
            "782/782 [==============================] - 39s 50ms/step - loss: 0.5138 - accuracy: 0.8234 - val_loss: 0.6960 - val_accuracy: 0.7760\n",
            "Epoch 19/30\n",
            "782/782 [==============================] - 39s 50ms/step - loss: 0.5015 - accuracy: 0.8250 - val_loss: 0.7132 - val_accuracy: 0.7712\n",
            "Epoch 20/30\n",
            "782/782 [==============================] - 39s 50ms/step - loss: 0.4863 - accuracy: 0.8312 - val_loss: 0.7145 - val_accuracy: 0.7744\n",
            "Epoch 21/30\n",
            "782/782 [==============================] - 39s 50ms/step - loss: 0.4687 - accuracy: 0.8364 - val_loss: 0.7173 - val_accuracy: 0.7732\n",
            "Epoch 22/30\n",
            "782/782 [==============================] - 39s 50ms/step - loss: 0.4612 - accuracy: 0.8397 - val_loss: 0.7033 - val_accuracy: 0.7789\n",
            "Epoch 23/30\n",
            "782/782 [==============================] - 39s 50ms/step - loss: 0.4490 - accuracy: 0.8420 - val_loss: 0.7235 - val_accuracy: 0.7744\n",
            "Epoch 24/30\n",
            "782/782 [==============================] - 39s 49ms/step - loss: 0.4391 - accuracy: 0.8478 - val_loss: 0.7440 - val_accuracy: 0.7717\n",
            "Epoch 25/30\n",
            "782/782 [==============================] - 39s 50ms/step - loss: 0.4252 - accuracy: 0.8517 - val_loss: 0.7304 - val_accuracy: 0.7732\n",
            "Epoch 26/30\n",
            "782/782 [==============================] - 39s 49ms/step - loss: 0.4165 - accuracy: 0.8546 - val_loss: 0.7472 - val_accuracy: 0.7740\n",
            "Epoch 27/30\n",
            "782/782 [==============================] - 39s 50ms/step - loss: 0.3996 - accuracy: 0.8606 - val_loss: 0.7534 - val_accuracy: 0.7724\n",
            "Epoch 28/30\n",
            "782/782 [==============================] - 39s 50ms/step - loss: 0.3939 - accuracy: 0.8611 - val_loss: 0.7482 - val_accuracy: 0.7725\n",
            "Epoch 29/30\n",
            "782/782 [==============================] - 39s 50ms/step - loss: 0.3828 - accuracy: 0.8671 - val_loss: 0.7767 - val_accuracy: 0.7709\n",
            "Epoch 30/30\n",
            "782/782 [==============================] - 39s 50ms/step - loss: 0.3766 - accuracy: 0.8668 - val_loss: 0.7604 - val_accuracy: 0.7753\n"
          ],
          "name": "stdout"
        }
      ]
    },
    {
      "cell_type": "code",
      "metadata": {
        "id": "HvpPih1Bq8N5",
        "colab_type": "code",
        "colab": {}
      },
      "source": [
        " model.compile(optimizer=tf.optimizers.Adam(learning_rate=0.00001),\n",
        "                loss='sparse_categorical_crossentropy',\n",
        "                metrics=['accuracy'])\n",
        " \n",
        " epochs = 20"
      ],
      "execution_count": null,
      "outputs": []
    },
    {
      "cell_type": "code",
      "metadata": {
        "id": "6LIcmvlTq-EV",
        "colab_type": "code",
        "colab": {
          "base_uri": "https://localhost:8080/",
          "height": 1000
        },
        "outputId": "539dea2d-10ae-48d8-9bfa-943d7a286d15"
      },
      "source": [
        "history2 = model.fit(train_ds, validation_data=val_ds, epochs=epochs)"
      ],
      "execution_count": null,
      "outputs": [
        {
          "output_type": "stream",
          "text": [
            "Epoch 1/30\n",
            "782/782 [==============================] - 39s 50ms/step - loss: 0.3034 - accuracy: 0.8947 - val_loss: 0.7491 - val_accuracy: 0.7840\n",
            "Epoch 2/30\n",
            "782/782 [==============================] - 39s 50ms/step - loss: 0.2977 - accuracy: 0.8942 - val_loss: 0.7538 - val_accuracy: 0.7851\n",
            "Epoch 3/30\n",
            "782/782 [==============================] - 39s 50ms/step - loss: 0.2952 - accuracy: 0.8971 - val_loss: 0.7566 - val_accuracy: 0.7838\n",
            "Epoch 4/30\n",
            "782/782 [==============================] - 39s 50ms/step - loss: 0.2889 - accuracy: 0.8988 - val_loss: 0.7639 - val_accuracy: 0.7843\n",
            "Epoch 5/30\n",
            "782/782 [==============================] - 39s 50ms/step - loss: 0.2843 - accuracy: 0.9013 - val_loss: 0.7659 - val_accuracy: 0.7851\n",
            "Epoch 6/30\n",
            "782/782 [==============================] - 39s 50ms/step - loss: 0.2825 - accuracy: 0.9023 - val_loss: 0.7658 - val_accuracy: 0.7857\n",
            "Epoch 7/30\n",
            "782/782 [==============================] - 39s 50ms/step - loss: 0.2744 - accuracy: 0.9046 - val_loss: 0.7726 - val_accuracy: 0.7831\n",
            "Epoch 8/30\n",
            "782/782 [==============================] - 39s 50ms/step - loss: 0.2736 - accuracy: 0.9045 - val_loss: 0.7793 - val_accuracy: 0.7841\n",
            "Epoch 9/30\n",
            "782/782 [==============================] - 39s 50ms/step - loss: 0.2727 - accuracy: 0.9040 - val_loss: 0.7815 - val_accuracy: 0.7832\n",
            "Epoch 10/30\n",
            "782/782 [==============================] - 39s 50ms/step - loss: 0.2678 - accuracy: 0.9061 - val_loss: 0.7875 - val_accuracy: 0.7846\n",
            "Epoch 11/30\n",
            "782/782 [==============================] - 39s 50ms/step - loss: 0.2667 - accuracy: 0.9069 - val_loss: 0.7906 - val_accuracy: 0.7851\n",
            "Epoch 12/30\n",
            "782/782 [==============================] - 39s 50ms/step - loss: 0.2623 - accuracy: 0.9089 - val_loss: 0.7946 - val_accuracy: 0.7834\n",
            "Epoch 13/30\n",
            "782/782 [==============================] - 39s 50ms/step - loss: 0.2610 - accuracy: 0.9083 - val_loss: 0.7956 - val_accuracy: 0.7837\n",
            "Epoch 14/30\n",
            "782/782 [==============================] - 39s 50ms/step - loss: 0.2594 - accuracy: 0.9093 - val_loss: 0.8037 - val_accuracy: 0.7837\n",
            "Epoch 15/30\n",
            "782/782 [==============================] - 39s 50ms/step - loss: 0.2517 - accuracy: 0.9118 - val_loss: 0.8102 - val_accuracy: 0.7834\n",
            "Epoch 16/30\n",
            "782/782 [==============================] - 39s 50ms/step - loss: 0.2517 - accuracy: 0.9115 - val_loss: 0.8106 - val_accuracy: 0.7841\n",
            "Epoch 17/30\n",
            "782/782 [==============================] - 39s 49ms/step - loss: 0.2509 - accuracy: 0.9131 - val_loss: 0.8144 - val_accuracy: 0.7846\n",
            "Epoch 18/30\n",
            "782/782 [==============================] - 39s 50ms/step - loss: 0.2503 - accuracy: 0.9136 - val_loss: 0.8159 - val_accuracy: 0.7838\n",
            "Epoch 19/30\n",
            "782/782 [==============================] - 39s 49ms/step - loss: 0.2464 - accuracy: 0.9144 - val_loss: 0.8210 - val_accuracy: 0.7840\n",
            "Epoch 20/30\n",
            "782/782 [==============================] - 39s 50ms/step - loss: 0.2426 - accuracy: 0.9168 - val_loss: 0.8224 - val_accuracy: 0.7863\n",
            "Epoch 21/30\n",
            "782/782 [==============================] - 39s 50ms/step - loss: 0.2397 - accuracy: 0.9152 - val_loss: 0.8341 - val_accuracy: 0.7858\n",
            "Epoch 22/30\n",
            "782/782 [==============================] - 39s 50ms/step - loss: 0.2414 - accuracy: 0.9143 - val_loss: 0.8322 - val_accuracy: 0.7844\n",
            "Epoch 23/30\n",
            "782/782 [==============================] - 39s 49ms/step - loss: 0.2387 - accuracy: 0.9165 - val_loss: 0.8351 - val_accuracy: 0.7836\n",
            "Epoch 24/30\n",
            "782/782 [==============================] - 39s 50ms/step - loss: 0.2321 - accuracy: 0.9191 - val_loss: 0.8393 - val_accuracy: 0.7848\n",
            "Epoch 25/30\n",
            "782/782 [==============================] - 39s 50ms/step - loss: 0.2345 - accuracy: 0.9172 - val_loss: 0.8457 - val_accuracy: 0.7845\n",
            "Epoch 26/30\n",
            "782/782 [==============================] - 39s 50ms/step - loss: 0.2366 - accuracy: 0.9173 - val_loss: 0.8416 - val_accuracy: 0.7850\n",
            "Epoch 27/30\n",
            "782/782 [==============================] - 39s 50ms/step - loss: 0.2335 - accuracy: 0.9173 - val_loss: 0.8487 - val_accuracy: 0.7838\n",
            "Epoch 28/30\n",
            "782/782 [==============================] - 39s 50ms/step - loss: 0.2291 - accuracy: 0.9199 - val_loss: 0.8460 - val_accuracy: 0.7834\n",
            "Epoch 29/30\n",
            "782/782 [==============================] - 39s 50ms/step - loss: 0.2272 - accuracy: 0.9201 - val_loss: 0.8600 - val_accuracy: 0.7835\n",
            "Epoch 30/30\n",
            "782/782 [==============================] - 39s 50ms/step - loss: 0.2248 - accuracy: 0.9207 - val_loss: 0.8681 - val_accuracy: 0.7830\n"
          ],
          "name": "stdout"
        }
      ]
    },
    {
      "cell_type": "code",
      "metadata": {
        "id": "_B_BrFbcvjXv",
        "colab_type": "code",
        "colab": {}
      },
      "source": [
        "for key in ['loss', 'val_loss', 'accuracy', 'val_accuracy']:\n",
        "  history.history[key].extend(history2.history[key])"
      ],
      "execution_count": null,
      "outputs": []
    },
    {
      "cell_type": "code",
      "metadata": {
        "id": "2ToPgpGbfjCO",
        "colab_type": "code",
        "colab": {
          "base_uri": "https://localhost:8080/",
          "height": 334
        },
        "outputId": "b7d138db-3bf4-4abc-829f-5754211f1d78"
      },
      "source": [
        "import matplotlib.pyplot as plt\n",
        "\n",
        "fig, (loss_ax, acc_ax) = plt.subplots(1, 2, figsize=(20,5))\n",
        "\n",
        "loss_ax.plot(history.history['loss'], 'y', label='train loss')\n",
        "loss_ax.plot(history.history['val_loss'], 'r', label='val loss')\n",
        "loss_ax.set_xlabel('epoch')\n",
        "loss_ax.set_ylabel('loss')\n",
        "loss_ax.legend(loc='upper left')\n",
        "\n",
        "acc_ax.plot(history.history['accuracy'], 'b', label='train acc')\n",
        "acc_ax.plot(history.history['val_accuracy'], 'g', label='val acc')\n",
        "acc_ax.set_xlabel('epoch')\n",
        "acc_ax.set_ylabel('accuracy')\n",
        "acc_ax.legend(loc='upper left')\n",
        "\n",
        "plt.show()"
      ],
      "execution_count": null,
      "outputs": [
        {
          "output_type": "display_data",
          "data": {
            "image/png": "[encoded data removed]",
            "text/plain": [
              "<Figure size 1440x360 with 2 Axes>"
            ]
          },
          "metadata": {
            "tags": [],
            "needs_background": "light"
          }
        }
      ]
    },
    {
      "cell_type": "code",
      "metadata": {
        "id": "oQxZbE3ZMbcB",
        "colab_type": "code",
        "colab": {}
      },
      "source": [
        ""
      ],
      "execution_count": null,
      "outputs": []
    },
    {
      "cell_type": "markdown",
      "metadata": {
        "id": "UuCQFvLeMb5b",
        "colab_type": "text"
      },
      "source": [
        "# Transfer Learning (CIFAR10) with partial CNN layers frozen"
      ]
    },
    {
      "cell_type": "code",
      "metadata": {
        "id": "wXNv8w6qMhKG",
        "colab_type": "code",
        "colab": {}
      },
      "source": [
        "import tensorflow.keras as keras\n",
        "\n",
        "num_class = 10\n",
        "\n",
        "model = tf.keras.applications.VGG16(include_top=False, input_shape=(image_size, image_size, 3))\n",
        "\n",
        "for layer in model.layers[:15]:\n",
        "      layer.trainable = False\n",
        "\n",
        "\n",
        "model = keras.Sequential([\n",
        "  model,\n",
        "  keras.layers.Flatten(),\n",
        "  keras.layers.Dense(256, activation='relu'),\n",
        "  keras.layers.Dropout(0.5),\n",
        "  keras.layers.Dense(512, activation='relu'),\n",
        "  keras.layers.Dropout(0.5),\n",
        "  keras.layers.Dense(1024, activation='relu'),\n",
        "  keras.layers.Dropout(0.5),  \n",
        "  keras.layers.Dense(num_class, activation='softmax')\n",
        "])"
      ],
      "execution_count": null,
      "outputs": []
    },
    {
      "cell_type": "code",
      "metadata": {
        "id": "e6O5BxtsMoD5",
        "colab_type": "code",
        "colab": {}
      },
      "source": [
        " model.compile(optimizer=tf.optimizers.Adam(learning_rate=0.0001),\n",
        "                loss='sparse_categorical_crossentropy',\n",
        "                metrics=['accuracy'])\n",
        " \n",
        " epochs = 10"
      ],
      "execution_count": null,
      "outputs": []
    },
    {
      "cell_type": "code",
      "metadata": {
        "id": "edQW7HVYMoxQ",
        "colab_type": "code",
        "colab": {
          "base_uri": "https://localhost:8080/",
          "height": 357
        },
        "outputId": "67cb1849-39b5-4d06-f08f-ae55843ad8c8"
      },
      "source": [
        "history = model.fit(train_ds, validation_data=val_ds, epochs=epochs)"
      ],
      "execution_count": null,
      "outputs": [
        {
          "output_type": "stream",
          "text": [
            "Epoch 1/10\n",
            "782/782 [==============================] - 44s 56ms/step - loss: 1.1850 - accuracy: 0.5772 - val_loss: 0.6372 - val_accuracy: 0.7941\n",
            "Epoch 2/10\n",
            "782/782 [==============================] - 44s 56ms/step - loss: 0.5874 - accuracy: 0.8134 - val_loss: 0.5868 - val_accuracy: 0.8171\n",
            "Epoch 3/10\n",
            "782/782 [==============================] - 44s 56ms/step - loss: 0.4154 - accuracy: 0.8669 - val_loss: 0.5256 - val_accuracy: 0.8442\n",
            "Epoch 4/10\n",
            "782/782 [==============================] - 44s 56ms/step - loss: 0.2996 - accuracy: 0.9049 - val_loss: 0.5054 - val_accuracy: 0.8537\n",
            "Epoch 5/10\n",
            "782/782 [==============================] - 44s 56ms/step - loss: 0.2195 - accuracy: 0.9314 - val_loss: 0.5217 - val_accuracy: 0.8588\n",
            "Epoch 6/10\n",
            "782/782 [==============================] - 44s 56ms/step - loss: 0.1663 - accuracy: 0.9475 - val_loss: 0.5548 - val_accuracy: 0.8600\n",
            "Epoch 7/10\n",
            "782/782 [==============================] - 44s 56ms/step - loss: 0.1277 - accuracy: 0.9605 - val_loss: 0.5773 - val_accuracy: 0.8679\n",
            "Epoch 8/10\n",
            "782/782 [==============================] - 44s 56ms/step - loss: 0.0948 - accuracy: 0.9710 - val_loss: 0.6667 - val_accuracy: 0.8630\n",
            "Epoch 9/10\n",
            "782/782 [==============================] - 44s 56ms/step - loss: 0.0819 - accuracy: 0.9758 - val_loss: 0.7237 - val_accuracy: 0.8552\n",
            "Epoch 10/10\n",
            "782/782 [==============================] - 44s 56ms/step - loss: 0.0647 - accuracy: 0.9811 - val_loss: 0.7013 - val_accuracy: 0.8634\n"
          ],
          "name": "stdout"
        }
      ]
    },
    {
      "cell_type": "code",
      "metadata": {
        "id": "CHYl_HsnMrSG",
        "colab_type": "code",
        "colab": {}
      },
      "source": [
        " model.compile(optimizer=tf.optimizers.Adam(learning_rate=0.00001),\n",
        "                loss='sparse_categorical_crossentropy',\n",
        "                metrics=['accuracy'])\n",
        " \n",
        " epochs = 10"
      ],
      "execution_count": null,
      "outputs": []
    },
    {
      "cell_type": "code",
      "metadata": {
        "id": "gwkqFW9iTTvL",
        "colab_type": "code",
        "colab": {
          "base_uri": "https://localhost:8080/",
          "height": 357
        },
        "outputId": "73ae6bcc-8bb3-42d5-9ee2-997676e19022"
      },
      "source": [
        "history2 = model.fit(train_ds, validation_data=val_ds, epochs=epochs)"
      ],
      "execution_count": null,
      "outputs": [
        {
          "output_type": "stream",
          "text": [
            "Epoch 1/10\n",
            "782/782 [==============================] - 44s 56ms/step - loss: 0.0232 - accuracy: 0.9937 - val_loss: 0.7186 - val_accuracy: 0.8766\n",
            "Epoch 2/10\n",
            "782/782 [==============================] - 44s 56ms/step - loss: 0.0070 - accuracy: 0.9982 - val_loss: 0.7922 - val_accuracy: 0.8785\n",
            "Epoch 3/10\n",
            "782/782 [==============================] - 44s 56ms/step - loss: 0.0039 - accuracy: 0.9990 - val_loss: 0.8461 - val_accuracy: 0.8794\n",
            "Epoch 4/10\n",
            "782/782 [==============================] - 44s 56ms/step - loss: 0.0028 - accuracy: 0.9994 - val_loss: 0.9117 - val_accuracy: 0.8793\n",
            "Epoch 5/10\n",
            "782/782 [==============================] - 44s 56ms/step - loss: 0.0020 - accuracy: 0.9996 - val_loss: 0.9780 - val_accuracy: 0.8788\n",
            "Epoch 6/10\n",
            "782/782 [==============================] - 44s 56ms/step - loss: 0.0017 - accuracy: 0.9996 - val_loss: 1.0205 - val_accuracy: 0.8792\n",
            "Epoch 7/10\n",
            "782/782 [==============================] - 44s 56ms/step - loss: 0.0012 - accuracy: 0.9997 - val_loss: 1.0447 - val_accuracy: 0.8822\n",
            "Epoch 8/10\n",
            "782/782 [==============================] - 44s 56ms/step - loss: 6.8160e-04 - accuracy: 0.9999 - val_loss: 1.1009 - val_accuracy: 0.8803\n",
            "Epoch 9/10\n",
            "782/782 [==============================] - 44s 56ms/step - loss: 0.0011 - accuracy: 0.9997 - val_loss: 1.1278 - val_accuracy: 0.8788\n",
            "Epoch 10/10\n",
            "782/782 [==============================] - 44s 56ms/step - loss: 9.3460e-04 - accuracy: 0.9997 - val_loss: 1.2614 - val_accuracy: 0.8752\n"
          ],
          "name": "stdout"
        }
      ]
    },
    {
      "cell_type": "code",
      "metadata": {
        "id": "kadMZZURVEyL",
        "colab_type": "code",
        "colab": {}
      },
      "source": [
        " model.compile(optimizer=tf.optimizers.Adam(learning_rate=0.000001),\n",
        "                loss='sparse_categorical_crossentropy',\n",
        "                metrics=['accuracy'])\n",
        " \n",
        " epochs = 10"
      ],
      "execution_count": null,
      "outputs": []
    },
    {
      "cell_type": "code",
      "metadata": {
        "id": "3Ztr32kZVG5V",
        "colab_type": "code",
        "colab": {
          "base_uri": "https://localhost:8080/",
          "height": 357
        },
        "outputId": "8eefb212-fedf-431e-af1e-ba217e2936d0"
      },
      "source": [
        "history3 = model.fit(train_ds, validation_data=val_ds, epochs=epochs)"
      ],
      "execution_count": null,
      "outputs": [
        {
          "output_type": "stream",
          "text": [
            "Epoch 1/10\n",
            "782/782 [==============================] - 44s 56ms/step - loss: 6.2855e-04 - accuracy: 0.9998 - val_loss: 1.2119 - val_accuracy: 0.8796\n",
            "Epoch 2/10\n",
            "782/782 [==============================] - 44s 56ms/step - loss: 2.8382e-04 - accuracy: 1.0000 - val_loss: 1.2112 - val_accuracy: 0.8797\n",
            "Epoch 3/10\n",
            "782/782 [==============================] - 44s 56ms/step - loss: 2.8295e-04 - accuracy: 0.9999 - val_loss: 1.2199 - val_accuracy: 0.8805\n",
            "Epoch 4/10\n",
            "782/782 [==============================] - 44s 56ms/step - loss: 2.8007e-04 - accuracy: 0.9999 - val_loss: 1.2274 - val_accuracy: 0.8797\n",
            "Epoch 5/10\n",
            "782/782 [==============================] - 44s 56ms/step - loss: 3.8276e-04 - accuracy: 0.9999 - val_loss: 1.2351 - val_accuracy: 0.8798\n",
            "Epoch 6/10\n",
            "782/782 [==============================] - 44s 56ms/step - loss: 2.4956e-04 - accuracy: 1.0000 - val_loss: 1.2454 - val_accuracy: 0.8802\n",
            "Epoch 7/10\n",
            "782/782 [==============================] - 44s 56ms/step - loss: 2.4863e-04 - accuracy: 1.0000 - val_loss: 1.2487 - val_accuracy: 0.8809\n",
            "Epoch 8/10\n",
            "782/782 [==============================] - 44s 56ms/step - loss: 2.3030e-04 - accuracy: 1.0000 - val_loss: 1.2554 - val_accuracy: 0.8804\n",
            "Epoch 9/10\n",
            "782/782 [==============================] - 44s 56ms/step - loss: 1.6612e-04 - accuracy: 1.0000 - val_loss: 1.2676 - val_accuracy: 0.8801\n",
            "Epoch 10/10\n",
            "782/782 [==============================] - 44s 56ms/step - loss: 1.3663e-04 - accuracy: 1.0000 - val_loss: 1.2769 - val_accuracy: 0.8810\n"
          ],
          "name": "stdout"
        }
      ]
    },
    {
      "cell_type": "code",
      "metadata": {
        "id": "shIkVOJHVI_h",
        "colab_type": "code",
        "colab": {}
      },
      "source": [
        "histories = [history2, history3]\n",
        "metrics = ['loss', 'val_loss', 'accuracy', 'val_accuracy']\n",
        "\n",
        "for h in histories:\n",
        "  for m in metrics:\n",
        "    history.history[m].extend(h.history[m])"
      ],
      "execution_count": null,
      "outputs": []
    },
    {
      "cell_type": "code",
      "metadata": {
        "id": "2g86Y9v2W3Jf",
        "colab_type": "code",
        "colab": {
          "base_uri": "https://localhost:8080/",
          "height": 334
        },
        "outputId": "036e0f39-4f39-419c-c272-7454acd55303"
      },
      "source": [
        "import matplotlib.pyplot as plt\n",
        "\n",
        "fig, (loss_ax, acc_ax) = plt.subplots(1, 2, figsize=(20,5))\n",
        "\n",
        "loss_ax.plot(history.history['loss'], 'y', label='train loss')\n",
        "loss_ax.plot(history.history['val_loss'], 'r', label='val loss')\n",
        "loss_ax.set_xlabel('epoch')\n",
        "loss_ax.set_ylabel('loss')\n",
        "loss_ax.legend(loc='upper left')\n",
        "\n",
        "acc_ax.plot(history.history['accuracy'], 'b', label='train acc')\n",
        "acc_ax.plot(history.history['val_accuracy'], 'g', label='val acc')\n",
        "acc_ax.set_xlabel('epoch')\n",
        "acc_ax.set_ylabel('accuracy')\n",
        "acc_ax.legend(loc='upper left')\n",
        "\n",
        "plt.show()"
      ],
      "execution_count": null,
      "outputs": [
        {
          "output_type": "display_data",
          "data": {
            "image/png": "[encoded data removed]",
            "text/plain": [
              "<Figure size 1440x360 with 2 Axes>"
            ]
          },
          "metadata": {
            "tags": [],
            "needs_background": "light"
          }
        }
      ]
    },
    {
      "cell_type": "markdown",
      "metadata": {
        "id": "0T5ulCmHY26i",
        "colab_type": "text"
      },
      "source": [
        "# Transfer Learning (Rock Paper Scissor)"
      ]
    },
    {
      "cell_type": "code",
      "metadata": {
        "id": "3Mh2MbGtF0J6",
        "colab_type": "code",
        "colab": {}
      },
      "source": [
        "import tensorflow as tf\n",
        "import tensorflow_datasets as tfds\n",
        "from tensorflow.python.client import device_lib"
      ],
      "execution_count": null,
      "outputs": []
    },
    {
      "cell_type": "code",
      "metadata": {
        "id": "6YIiYoBNpobq",
        "colab_type": "code",
        "colab": {}
      },
      "source": [
        "lr_schedule = tf.keras.optimizers.schedules.ExponentialDecay(\n",
        "    0.00001,\n",
        "    decay_steps=1000,\n",
        "    decay_rate=0.96,\n",
        "    staircase=True)"
      ],
      "execution_count": null,
      "outputs": []
    },
    {
      "cell_type": "code",
      "metadata": {
        "id": "eS3_ZxIpaGbP",
        "colab_type": "code",
        "colab": {}
      },
      "source": [
        "train_split = tfds.core.ReadInstruction(\n",
        "    'train',\n",
        "    from_=0,\n",
        "    to=10,\n",
        "    rounding='pct1_dropremainder',\n",
        "    unit = '%',\n",
        ")\n",
        "\n",
        "\n",
        "train_ds, info = tfds.load('rock_paper_scissors', split=train_split, as_supervised=True, with_info=True)\n",
        "val_ds, _ = tfds.load('rock_paper_scissors', split='test', as_supervised=True, with_info=True)"
      ],
      "execution_count": null,
      "outputs": []
    },
    {
      "cell_type": "code",
      "metadata": {
        "id": "nghBDnJkaHMS",
        "colab_type": "code",
        "colab": {}
      },
      "source": [
        "image_size = 224\n",
        "\n",
        "def preprocessing(image, label):\n",
        "  image = tf.image.resize(image, (image_size, image_size))\n",
        "  image = tf.image.convert_image_dtype(image, tf.float16)\n",
        "  image = image / 255.0\n",
        "\n",
        "  return image, label"
      ],
      "execution_count": null,
      "outputs": []
    },
    {
      "cell_type": "code",
      "metadata": {
        "id": "JV6kxLXsaMpd",
        "colab_type": "code",
        "colab": {}
      },
      "source": [
        "train_ds = train_ds.map(preprocessing).batch(128).prefetch(tf.data.experimental.AUTOTUNE)\n",
        "val_ds = val_ds.map(preprocessing).batch(128)  "
      ],
      "execution_count": null,
      "outputs": []
    },
    {
      "cell_type": "code",
      "metadata": {
        "id": "6FEiMSoSGuaQ",
        "colab_type": "code",
        "colab": {
          "base_uri": "https://localhost:8080/",
          "height": 34
        },
        "outputId": "950798d7-1a08-485c-eed8-200abbd15a19"
      },
      "source": [
        "import tensorflow.keras as keras\n",
        "\n",
        "num_class = 3\n",
        "\n",
        "model = tf.keras.applications.VGG16(include_top=False, input_shape=(image_size, image_size, 3))\n",
        "\n",
        "print(len(model.layers))\n",
        "\n",
        "for layer in model.layers[:15]:\n",
        "      layer.trainable = False\n",
        "\n",
        "\n",
        "model = keras.Sequential([\n",
        "  model,\n",
        "  keras.layers.Flatten(),\n",
        "  keras.layers.Dense(256, activation='relu'),\n",
        "  keras.layers.Dropout(0.5),\n",
        "  keras.layers.Dense(512, activation='relu'),\n",
        "  keras.layers.Dropout(0.5),\n",
        "  keras.layers.Dense(1024, activation='relu'),\n",
        "  keras.layers.Dropout(0.5),  \n",
        "  keras.layers.Dense(num_class, activation='softmax')\n",
        "])"
      ],
      "execution_count": null,
      "outputs": [
        {
          "output_type": "stream",
          "text": [
            "19\n"
          ],
          "name": "stdout"
        }
      ]
    },
    {
      "cell_type": "code",
      "metadata": {
        "id": "0F7kcrm2ktjz",
        "colab_type": "code",
        "colab": {
          "base_uri": "https://localhost:8080/",
          "height": 340
        },
        "outputId": "e0ce53dd-79cc-42e4-caa6-6d33ede30fca"
      },
      "source": [
        "model = tf.keras.applications.VGG16(include_top=False, input_shape=(image_size, image_size, 3)) \n",
        "\n",
        "for layer in model.layers:\n",
        "  print(layer.name)"
      ],
      "execution_count": null,
      "outputs": [
        {
          "output_type": "stream",
          "text": [
            "input_8\n",
            "block1_conv1\n",
            "block1_conv2\n",
            "block1_pool\n",
            "block2_conv1\n",
            "block2_conv2\n",
            "block2_pool\n",
            "block3_conv1\n",
            "block3_conv2\n",
            "block3_conv3\n",
            "block3_pool\n",
            "block4_conv1\n",
            "block4_conv2\n",
            "block4_conv3\n",
            "block4_pool\n",
            "block5_conv1\n",
            "block5_conv2\n",
            "block5_conv3\n",
            "block5_pool\n"
          ],
          "name": "stdout"
        }
      ]
    },
    {
      "cell_type": "code",
      "metadata": {
        "id": "ZLNOEGuxa_nf",
        "colab_type": "code",
        "colab": {}
      },
      "source": [
        "  def scheduler(epoch, learning_rate):\n",
        "  if epoch % 10 == 0 and epoch != 0:\n",
        "    print(f\"learning rate decreased from {learning_rate} to {learning_rate * tf.math.exp(-0.1)}\")\n",
        "    return learning_rate * tf.math.exp(-0.1)\n",
        "  else:\n",
        "    return learning_rate"
      ],
      "execution_count": null,
      "outputs": []
    },
    {
      "cell_type": "code",
      "metadata": {
        "id": "SKTMEGZgG_b-",
        "colab_type": "code",
        "colab": {}
      },
      "source": [
        "model.compile(optimizer=tf.optimizers.Adam(learning_rate=0.0001),\n",
        "                loss='sparse_categorical_crossentropy',\n",
        "                metrics=['accuracy'])\n",
        " \n",
        "epochs = 30"
      ],
      "execution_count": null,
      "outputs": []
    },
    {
      "cell_type": "code",
      "metadata": {
        "id": "XwTphAh6HFql",
        "colab_type": "code",
        "colab": {
          "base_uri": "https://localhost:8080/",
          "height": 1000
        },
        "outputId": "d2098850-3cbb-40d5-fe80-dd764c4cfb1b"
      },
      "source": [
        "callback = tf.keras.callbacks.LearningRateScheduler(scheduler)\n",
        "history = model.fit(train_ds, validation_data=val_ds, epochs=epochs, callbacks=[callback])"
      ],
      "execution_count": null,
      "outputs": [
        {
          "output_type": "stream",
          "text": [
            "Epoch 1/30\n",
            "2/2 [==============================] - 2s 891ms/step - loss: 1.1672 - accuracy: 0.4000 - val_loss: 1.0666 - val_accuracy: 0.3414 - lr: 1.0000e-04\n",
            "Epoch 2/30\n",
            "2/2 [==============================] - 2s 829ms/step - loss: 1.1122 - accuracy: 0.4720 - val_loss: 1.0065 - val_accuracy: 0.3790 - lr: 1.0000e-04\n",
            "Epoch 3/30\n",
            "2/2 [==============================] - 2s 852ms/step - loss: 0.9377 - accuracy: 0.5800 - val_loss: 0.8813 - val_accuracy: 0.6237 - lr: 1.0000e-04\n",
            "Epoch 4/30\n",
            "2/2 [==============================] - 2s 827ms/step - loss: 0.8419 - accuracy: 0.6040 - val_loss: 0.7302 - val_accuracy: 0.9059 - lr: 1.0000e-04\n",
            "Epoch 5/30\n",
            "2/2 [==============================] - 2s 843ms/step - loss: 0.6781 - accuracy: 0.7680 - val_loss: 0.5598 - val_accuracy: 0.9301 - lr: 1.0000e-04\n",
            "Epoch 6/30\n",
            "2/2 [==============================] - 2s 842ms/step - loss: 0.5642 - accuracy: 0.8200 - val_loss: 0.3993 - val_accuracy: 0.9355 - lr: 1.0000e-04\n",
            "Epoch 7/30\n",
            "2/2 [==============================] - 2s 827ms/step - loss: 0.4095 - accuracy: 0.8600 - val_loss: 0.3050 - val_accuracy: 0.9194 - lr: 1.0000e-04\n",
            "Epoch 8/30\n",
            "2/2 [==============================] - 2s 838ms/step - loss: 0.2362 - accuracy: 0.9240 - val_loss: 0.2024 - val_accuracy: 0.9570 - lr: 1.0000e-04\n",
            "Epoch 9/30\n",
            "2/2 [==============================] - 2s 770ms/step - loss: 0.1767 - accuracy: 0.9400 - val_loss: 0.1140 - val_accuracy: 0.9651 - lr: 1.0000e-04\n",
            "Epoch 10/30\n",
            "2/2 [==============================] - 2s 845ms/step - loss: 0.0994 - accuracy: 0.9720 - val_loss: 0.0564 - val_accuracy: 0.9785 - lr: 1.0000e-04\n",
            "learning rate decreased from 9.999999747378752e-05 to 9.048373613040894e-05\n",
            "Epoch 11/30\n",
            "2/2 [==============================] - 2s 849ms/step - loss: 0.0562 - accuracy: 0.9880 - val_loss: 0.0524 - val_accuracy: 0.9785 - lr: 9.0484e-05\n",
            "Epoch 12/30\n",
            "2/2 [==============================] - 2s 847ms/step - loss: 0.0526 - accuracy: 0.9800 - val_loss: 0.1207 - val_accuracy: 0.9651 - lr: 9.0484e-05\n",
            "Epoch 13/30\n",
            "2/2 [==============================] - 2s 843ms/step - loss: 0.0354 - accuracy: 0.9840 - val_loss: 0.1778 - val_accuracy: 0.9597 - lr: 9.0484e-05\n",
            "Epoch 14/30\n",
            "2/2 [==============================] - 2s 830ms/step - loss: 0.0737 - accuracy: 0.9800 - val_loss: 0.1174 - val_accuracy: 0.9677 - lr: 9.0484e-05\n",
            "Epoch 15/30\n",
            "2/2 [==============================] - 2s 852ms/step - loss: 0.0225 - accuracy: 0.9920 - val_loss: 0.0308 - val_accuracy: 0.9839 - lr: 9.0484e-05\n",
            "Epoch 16/30\n",
            "2/2 [==============================] - 2s 850ms/step - loss: 0.0263 - accuracy: 0.9880 - val_loss: 0.0053 - val_accuracy: 1.0000 - lr: 9.0484e-05\n",
            "Epoch 17/30\n",
            "2/2 [==============================] - 2s 837ms/step - loss: 0.0109 - accuracy: 0.9960 - val_loss: 0.0037 - val_accuracy: 1.0000 - lr: 9.0484e-05\n",
            "Epoch 18/30\n",
            "2/2 [==============================] - 2s 839ms/step - loss: 0.0109 - accuracy: 1.0000 - val_loss: 0.0046 - val_accuracy: 1.0000 - lr: 9.0484e-05\n",
            "Epoch 19/30\n",
            "2/2 [==============================] - 2s 846ms/step - loss: 0.0155 - accuracy: 0.9880 - val_loss: 0.0066 - val_accuracy: 1.0000 - lr: 9.0484e-05\n",
            "Epoch 20/30\n",
            "2/2 [==============================] - 2s 851ms/step - loss: 0.0095 - accuracy: 0.9960 - val_loss: 0.0101 - val_accuracy: 0.9946 - lr: 9.0484e-05\n",
            "learning rate decreased from 9.048373613040894e-05 to 8.187306229956448e-05\n",
            "Epoch 21/30\n",
            "2/2 [==============================] - 2s 856ms/step - loss: 0.0023 - accuracy: 1.0000 - val_loss: 0.0161 - val_accuracy: 0.9892 - lr: 8.1873e-05\n",
            "Epoch 22/30\n",
            "2/2 [==============================] - 2s 858ms/step - loss: 0.0047 - accuracy: 1.0000 - val_loss: 0.0200 - val_accuracy: 0.9866 - lr: 8.1873e-05\n",
            "Epoch 23/30\n",
            "2/2 [==============================] - 2s 867ms/step - loss: 0.0031 - accuracy: 1.0000 - val_loss: 0.0229 - val_accuracy: 0.9866 - lr: 8.1873e-05\n",
            "Epoch 24/30\n",
            "2/2 [==============================] - 2s 860ms/step - loss: 0.0072 - accuracy: 0.9960 - val_loss: 0.0217 - val_accuracy: 0.9866 - lr: 8.1873e-05\n",
            "Epoch 25/30\n",
            "2/2 [==============================] - 2s 853ms/step - loss: 0.0023 - accuracy: 1.0000 - val_loss: 0.0166 - val_accuracy: 0.9892 - lr: 8.1873e-05\n",
            "Epoch 26/30\n",
            "2/2 [==============================] - 2s 843ms/step - loss: 0.0013 - accuracy: 1.0000 - val_loss: 0.0128 - val_accuracy: 0.9919 - lr: 8.1873e-05\n",
            "Epoch 27/30\n",
            "2/2 [==============================] - 2s 792ms/step - loss: 0.0162 - accuracy: 0.9920 - val_loss: 0.0086 - val_accuracy: 1.0000 - lr: 8.1873e-05\n",
            "Epoch 28/30\n",
            "2/2 [==============================] - 2s 852ms/step - loss: 0.0011 - accuracy: 1.0000 - val_loss: 0.0098 - val_accuracy: 0.9919 - lr: 8.1873e-05\n",
            "Epoch 29/30\n",
            "2/2 [==============================] - 2s 846ms/step - loss: 3.1610e-04 - accuracy: 1.0000 - val_loss: 0.0113 - val_accuracy: 0.9919 - lr: 8.1873e-05\n",
            "Epoch 30/30\n",
            "2/2 [==============================] - 2s 857ms/step - loss: 0.0021 - accuracy: 1.0000 - val_loss: 0.0118 - val_accuracy: 0.9919 - lr: 8.1873e-05\n"
          ],
          "name": "stdout"
        }
      ]
    },
    {
      "cell_type": "code",
      "metadata": {
        "id": "lxS_D3r-Mgo-",
        "colab_type": "code",
        "colab": {
          "base_uri": "https://localhost:8080/",
          "height": 334
        },
        "outputId": "dd7758f8-4797-4c05-aae8-a5309af63549"
      },
      "source": [
        "import matplotlib.pyplot as plt\n",
        "\n",
        "fig, (loss_ax, acc_ax) = plt.subplots(1, 2, figsize=(20,5))\n",
        "\n",
        "loss_ax.plot(history.history['loss'], 'y', label='train loss')\n",
        "loss_ax.plot(history.history['val_loss'], 'r', label='val loss')\n",
        "loss_ax.set_xlabel('epoch')\n",
        "loss_ax.set_ylabel('loss')\n",
        "loss_ax.legend(loc='upper left')\n",
        "\n",
        "acc_ax.plot(history.history['accuracy'], 'b', label='train acc')\n",
        "acc_ax.plot(history.history['val_accuracy'], 'g', label='val acc')\n",
        "acc_ax.set_xlabel('epoch')\n",
        "acc_ax.set_ylabel('accuracy')\n",
        "acc_ax.legend(loc='upper left')\n",
        "\n",
        "plt.show()"
      ],
      "execution_count": null,
      "outputs": [
        {
          "output_type": "display_data",
          "data": {
            "image/png": "[encoded data removed]",
            "text/plain": [
              "<Figure size 1440x360 with 2 Axes>"
            ]
          },
          "metadata": {
            "tags": [],
            "needs_background": "light"
          }
        }
      ]
    },
    {
      "cell_type": "code",
      "metadata": {
        "id": "dfBj7ofYO6UT",
        "colab_type": "code",
        "colab": {}
      },
      "source": [
        ""
      ],
      "execution_count": null,
      "outputs": []
    }
  ]
}